{
 "cells": [
  {
   "cell_type": "markdown",
   "metadata": {},
   "source": [
    "# Gene Expression Profiles"
   ]
  },
  {
   "cell_type": "code",
   "execution_count": 1,
   "metadata": {
    "hide": true
   },
   "outputs": [],
   "source": [
    "import pandas as pd\n",
    "import numpy as np\n",
    "import matplotlib.pyplot as plt\n",
    "import math\n",
    "import seaborn as sns\n",
    "from sklearn.linear_model import LogisticRegressionCV\n",
    "from sklearn.model_selection import cross_val_score\n",
    "from imblearn.over_sampling import SMOTE\n",
    "from sklearn.model_selection import train_test_split\n",
    "from sklearn.metrics import accuracy_score\n",
    "\n",
    "import warnings\n",
    "warnings.filterwarnings('ignore')\n",
    "\n",
    "sns.set()"
   ]
  },
  {
   "cell_type": "markdown",
   "metadata": {},
   "source": [
    "## Gene Expression Profiles\n",
    "----\n",
    "Consideration of an Alternative Question: Genetic Predictors\n",
    "Rather than creating a predictive model of diagnosis using various types of patient information, we had previously considered developing a model from the detailed biological data available to consider the importance of genes on chromosome 21 in Alzheimer’s Disease. Chromosome 21 is known to be very important in the etiology of AD - for example, over half of those born with an extra copy of Chr21 (a condition known as Down’s Syndrome) will go on to develop Alzheimer’s Disease [1]. While it is commonly said that the link between Chr21 and AD is due to the gene for the Amyloid Precursor Protein (APP) [2], there are many other genes on this chromosome that have also been linked to Alzheimer’s disease [3].\n",
    "Of the wealth of genetic data that ADNI publishes, we drew primarily on the microarray gene expression profile dataset, which used ~50,000 genetic probes to assess the activity of genes across the genome. The outcome for each patient in the gene profile dataset was determined using the ADNIMerge dataset. To identify only chromosome 21 genes, the Affymetrix gene annotation dataset was used to annotate the gene expression data set with chromosomal location of the target gene for every probe. The combination of these three datasets created the possibility of building a model based on the genes of any chromosome to predict any clinical outcome. The preliminary models (discussed below) suggested little promise of interesting results to be derived from considering gene expression data in isolation, so we ultimately decided to focus on a more general predictive model involving more feature types instead.\n",
    "\n",
    "\n",
    "**Sources**\n",
    "\n",
    "[1] https://www.nia.nih.gov/health/alzheimers-disease-people-down-syndrome\n",
    "\n",
    "[2] https://www.alz.org/alzheimers-dementia/what-is-dementia/types-of-dementia/down-syndrome\n",
    "\n",
    "[3] https://www.ncbi.nlm.nih.gov/pmc/articles/PMC4019841/\n",
    "\n",
    "https://www.ncbi.nlm.nih.gov/pubmed/18199027\n",
    "\n",
    "\n",
    "http://www.bbc.com/future/story/20181022-there-is-mounting-evidence-that-herpes-leads-to-alzheimers\n",
    "\n",
    "\n",
    "\n",
    "\n",
    "\n",
    "To determine the chromosomal location and biological role of any gene, we used this [gene annotation database provided by affymetrix](http://www.affymetrix.com/support/technical/byproduct.affx?product=HG-U219). Using this database, we can add columns to the gene expression profile dataset for the chromosomal column and gene name of every gene. From this, we can isolate genes based on their chromosomal location."
   ]
  },
  {
   "cell_type": "code",
   "execution_count": 2,
   "metadata": {
    "hide": true
   },
   "outputs": [],
   "source": [
    "annote = pd.read_csv(\"excel_annotations.csv\", skiprows = 25)"
   ]
  },
  {
   "cell_type": "code",
   "execution_count": 3,
   "metadata": {
    "hide": true
   },
   "outputs": [],
   "source": [
    "dropcolumns = ['GeneChip Array','Species Scientific Name','Annotation Date','Sequence Type','Sequence Source',\n",
    "               'Transcript ID(Array Design)','Target Description','Representative Public ID',\n",
    "               'Archival UniGene Cluster','Genome Version','Unigene Cluster Type','Ensembl','EC','OMIM',\n",
    "              'FlyBase','AGI','WormBase','MGI Name','RGD Name','SGD accession number','QTL','Annotation Description',\n",
    "              'Annotation Transcript Cluster','Transcript Assignments','Annotation Notes']"
   ]
  },
  {
   "cell_type": "code",
   "execution_count": 4,
   "metadata": {
    "hide": true
   },
   "outputs": [],
   "source": [
    "annote = annote.drop(dropcolumns, axis = 1)"
   ]
  },
  {
   "cell_type": "code",
   "execution_count": 5,
   "metadata": {
    "hide": true
   },
   "outputs": [],
   "source": [
    "Chromosome = []\n",
    "for item in annote[\"Chromosomal Location\"]:\n",
    "    Chromosome.append(item.replace(\"chr\",\"\").replace('cen','').replace('-','').replace('p','q').split('q')[0])\n",
    "annote['Chromosome']=Chromosome"
   ]
  },
  {
   "cell_type": "code",
   "execution_count": 7,
   "metadata": {
    "hide": true
   },
   "outputs": [
    {
     "name": "stdout",
     "output_type": "stream",
     "text": [
      "Chromosome 21 genes present in gene expression profile dataset:  609\n"
     ]
    }
   ],
   "source": [
    "print(\"Chromosome 21 genes present in gene expression profile dataset: \",sum(annote['Chromosome']=='21'))\n"
   ]
  },
  {
   "cell_type": "code",
   "execution_count": 8,
   "metadata": {
    "hide": true
   },
   "outputs": [],
   "source": [
    "# low_memory = False allows mixed data types without a warning\n",
    "GEP_df = pd.read_csv(\"ADNI_Gene_Expression_Profile.csv\", low_memory=False, index_col = 'Phase')\n",
    "\n",
    "# make subject ID the column head, move previous column head in place of subject ID:\n",
    "ID_column = GEP_df.iloc[1].copy().values \n",
    "ID_column[0] = 'LocusLink'\n",
    "ID_column[1] = 'Symbol'\n",
    "GEP_df.iloc[1] = GEP_df.columns\n",
    "GEP_df.columns = ID_column\n",
    "GEP_df.rename(index={'SubjectID':'Phase'}, inplace=True)\n",
    "\n",
    "# add correct index and column names\n",
    "GEP_df = GEP_df.rename_axis(\"Gene_PSID\")\n",
    "GEP_df = GEP_df.rename_axis(\"SubjectID\", axis = 'columns')\n",
    "\n",
    "# replace some unnecessary information 'Unnamed 1', 'Unnamed2'\n",
    "GEP_df.loc['Phase'][0] = np.nan\n",
    "GEP_df.loc['Phase'][1] = np.nan\n",
    "\n",
    "# drop redundant probeset row:\n",
    "GEP_df.drop(['ProbeSet'])\n",
    "\n",
    "# rename final column correctly:\n",
    "nan = GEP_df.columns[-1]\n",
    "GEP_df = GEP_df.rename(columns={nan:'Biological Name'})\n"
   ]
  },
  {
   "cell_type": "code",
   "execution_count": 10,
   "metadata": {
    "hide": true
   },
   "outputs": [],
   "source": [
    "chrlist = [0]*len(GEP_df.index)\n",
    "for i, gene in enumerate(GEP_df.index):\n",
    "    gene_id = gene\n",
    "    try:\n",
    "        gene_ch = annote[annote['Probe Set ID']==gene_id]['Chromosome'].values[0]\n",
    "        chrlist[i] = gene_ch\n",
    "    except IndexError:\n",
    "        chrlist[i] = np.nan"
   ]
  },
  {
   "cell_type": "code",
   "execution_count": 11,
   "metadata": {
    "hide": true
   },
   "outputs": [],
   "source": [
    "GEP_df['Chromosome'] = chrlist"
   ]
  },
  {
   "cell_type": "markdown",
   "metadata": {},
   "source": [
    "### Chromosome 21 Dataset"
   ]
  },
  {
   "cell_type": "code",
   "execution_count": 16,
   "metadata": {
    "hide": true
   },
   "outputs": [
    {
     "data": {
      "text/html": [
       "<div>\n",
       "<style scoped>\n",
       "    .dataframe tbody tr th:only-of-type {\n",
       "        vertical-align: middle;\n",
       "    }\n",
       "\n",
       "    .dataframe tbody tr th {\n",
       "        vertical-align: top;\n",
       "    }\n",
       "\n",
       "    .dataframe thead th {\n",
       "        text-align: right;\n",
       "    }\n",
       "</style>\n",
       "<table border=\"1\" class=\"dataframe\">\n",
       "  <thead>\n",
       "    <tr style=\"text-align: right;\">\n",
       "      <th>SubjectID</th>\n",
       "      <th>LocusLink</th>\n",
       "      <th>Symbol</th>\n",
       "      <th>116_S_1249</th>\n",
       "      <th>037_S_4410</th>\n",
       "      <th>006_S_4153</th>\n",
       "      <th>116_S_1232</th>\n",
       "      <th>099_S_4205</th>\n",
       "      <th>007_S_4467</th>\n",
       "      <th>128_S_0205</th>\n",
       "      <th>003_S_2374</th>\n",
       "      <th>...</th>\n",
       "      <th>014_S_4668</th>\n",
       "      <th>130_S_0289</th>\n",
       "      <th>141_S_4456</th>\n",
       "      <th>009_S_2381</th>\n",
       "      <th>053_S_4557</th>\n",
       "      <th>073_S_4300</th>\n",
       "      <th>041_S_4014</th>\n",
       "      <th>007_S_0101</th>\n",
       "      <th>Biological Name</th>\n",
       "      <th>Chromosome</th>\n",
       "    </tr>\n",
       "    <tr>\n",
       "      <th>Gene_PSID</th>\n",
       "      <th></th>\n",
       "      <th></th>\n",
       "      <th></th>\n",
       "      <th></th>\n",
       "      <th></th>\n",
       "      <th></th>\n",
       "      <th></th>\n",
       "      <th></th>\n",
       "      <th></th>\n",
       "      <th></th>\n",
       "      <th></th>\n",
       "      <th></th>\n",
       "      <th></th>\n",
       "      <th></th>\n",
       "      <th></th>\n",
       "      <th></th>\n",
       "      <th></th>\n",
       "      <th></th>\n",
       "      <th></th>\n",
       "      <th></th>\n",
       "      <th></th>\n",
       "    </tr>\n",
       "  </thead>\n",
       "  <tbody>\n",
       "    <tr>\n",
       "      <th>Visit</th>\n",
       "      <td>NaN</td>\n",
       "      <td>NaN</td>\n",
       "      <td>m48</td>\n",
       "      <td>v03</td>\n",
       "      <td>v03</td>\n",
       "      <td>m48</td>\n",
       "      <td>v03</td>\n",
       "      <td>v03</td>\n",
       "      <td>v06</td>\n",
       "      <td>bl</td>\n",
       "      <td>...</td>\n",
       "      <td>v03</td>\n",
       "      <td>m60</td>\n",
       "      <td>v03</td>\n",
       "      <td>bl</td>\n",
       "      <td>v03</td>\n",
       "      <td>v03</td>\n",
       "      <td>v03</td>\n",
       "      <td>v06</td>\n",
       "      <td>NaN</td>\n",
       "      <td>NaN</td>\n",
       "    </tr>\n",
       "    <tr>\n",
       "      <th>Phase</th>\n",
       "      <td>NaN</td>\n",
       "      <td>NaN</td>\n",
       "      <td>ADNIGO</td>\n",
       "      <td>ADNI2</td>\n",
       "      <td>ADNI2.1</td>\n",
       "      <td>ADNIGO.1</td>\n",
       "      <td>ADNI2.2</td>\n",
       "      <td>ADNI2.3</td>\n",
       "      <td>ADNI2.4</td>\n",
       "      <td>ADNIGO.2</td>\n",
       "      <td>...</td>\n",
       "      <td>ADNI2.443</td>\n",
       "      <td>ADNIGO.293</td>\n",
       "      <td>ADNI2.444</td>\n",
       "      <td>ADNIGO.294</td>\n",
       "      <td>ADNI2.445</td>\n",
       "      <td>ADNI2.446</td>\n",
       "      <td>ADNI2.447</td>\n",
       "      <td>ADNI2.448</td>\n",
       "      <td>Unnamed: 747</td>\n",
       "      <td>NaN</td>\n",
       "    </tr>\n",
       "    <tr>\n",
       "      <th>260/280</th>\n",
       "      <td>NaN</td>\n",
       "      <td>NaN</td>\n",
       "      <td>2.05</td>\n",
       "      <td>2.07</td>\n",
       "      <td>2.04</td>\n",
       "      <td>2.03</td>\n",
       "      <td>2.01</td>\n",
       "      <td>2.05</td>\n",
       "      <td>1.95</td>\n",
       "      <td>1.99</td>\n",
       "      <td>...</td>\n",
       "      <td>2.05</td>\n",
       "      <td>1.98</td>\n",
       "      <td>2.09</td>\n",
       "      <td>1.87</td>\n",
       "      <td>2.03</td>\n",
       "      <td>2.11</td>\n",
       "      <td>1.94</td>\n",
       "      <td>2.06</td>\n",
       "      <td>NaN</td>\n",
       "      <td>NaN</td>\n",
       "    </tr>\n",
       "    <tr>\n",
       "      <th>260/230</th>\n",
       "      <td>NaN</td>\n",
       "      <td>NaN</td>\n",
       "      <td>0.55</td>\n",
       "      <td>1.54</td>\n",
       "      <td>2.1</td>\n",
       "      <td>1.52</td>\n",
       "      <td>1.6</td>\n",
       "      <td>1.91</td>\n",
       "      <td>1.47</td>\n",
       "      <td>2.07</td>\n",
       "      <td>...</td>\n",
       "      <td>2.05</td>\n",
       "      <td>1.65</td>\n",
       "      <td>1.56</td>\n",
       "      <td>1.45</td>\n",
       "      <td>1.33</td>\n",
       "      <td>0.27</td>\n",
       "      <td>1.72</td>\n",
       "      <td>1.35</td>\n",
       "      <td>NaN</td>\n",
       "      <td>NaN</td>\n",
       "    </tr>\n",
       "    <tr>\n",
       "      <th>RIN</th>\n",
       "      <td>NaN</td>\n",
       "      <td>NaN</td>\n",
       "      <td>7.7</td>\n",
       "      <td>7.6</td>\n",
       "      <td>7.2</td>\n",
       "      <td>6.8</td>\n",
       "      <td>7.9</td>\n",
       "      <td>7</td>\n",
       "      <td>7.9</td>\n",
       "      <td>7.2</td>\n",
       "      <td>...</td>\n",
       "      <td>6.5</td>\n",
       "      <td>6.3</td>\n",
       "      <td>6.4</td>\n",
       "      <td>6.6</td>\n",
       "      <td>6.8</td>\n",
       "      <td>6.2</td>\n",
       "      <td>5.8</td>\n",
       "      <td>6.7</td>\n",
       "      <td>NaN</td>\n",
       "      <td>NaN</td>\n",
       "    </tr>\n",
       "    <tr>\n",
       "      <th>Affy Plate</th>\n",
       "      <td>NaN</td>\n",
       "      <td>NaN</td>\n",
       "      <td>7</td>\n",
       "      <td>3</td>\n",
       "      <td>6</td>\n",
       "      <td>7</td>\n",
       "      <td>9</td>\n",
       "      <td>4</td>\n",
       "      <td>3</td>\n",
       "      <td>8</td>\n",
       "      <td>...</td>\n",
       "      <td>6</td>\n",
       "      <td>9</td>\n",
       "      <td>3</td>\n",
       "      <td>8</td>\n",
       "      <td>5</td>\n",
       "      <td>3</td>\n",
       "      <td>1</td>\n",
       "      <td>4</td>\n",
       "      <td>NaN</td>\n",
       "      <td>NaN</td>\n",
       "    </tr>\n",
       "    <tr>\n",
       "      <th>YearofCollection</th>\n",
       "      <td>NaN</td>\n",
       "      <td>NaN</td>\n",
       "      <td>2011</td>\n",
       "      <td>2012</td>\n",
       "      <td>2011</td>\n",
       "      <td>2011</td>\n",
       "      <td>2011</td>\n",
       "      <td>2012</td>\n",
       "      <td>2011</td>\n",
       "      <td>2011</td>\n",
       "      <td>...</td>\n",
       "      <td>2012</td>\n",
       "      <td>2011</td>\n",
       "      <td>2012</td>\n",
       "      <td>2011</td>\n",
       "      <td>2012</td>\n",
       "      <td>2011</td>\n",
       "      <td>2011</td>\n",
       "      <td>2012</td>\n",
       "      <td>NaN</td>\n",
       "      <td>NaN</td>\n",
       "    </tr>\n",
       "    <tr>\n",
       "      <th>ProbeSet</th>\n",
       "      <td>LocusLink</td>\n",
       "      <td>Symbol</td>\n",
       "      <td>NaN</td>\n",
       "      <td>NaN</td>\n",
       "      <td>NaN</td>\n",
       "      <td>NaN</td>\n",
       "      <td>NaN</td>\n",
       "      <td>NaN</td>\n",
       "      <td>NaN</td>\n",
       "      <td>NaN</td>\n",
       "      <td>...</td>\n",
       "      <td>NaN</td>\n",
       "      <td>NaN</td>\n",
       "      <td>NaN</td>\n",
       "      <td>NaN</td>\n",
       "      <td>NaN</td>\n",
       "      <td>NaN</td>\n",
       "      <td>NaN</td>\n",
       "      <td>NaN</td>\n",
       "      <td>NaN</td>\n",
       "      <td>NaN</td>\n",
       "    </tr>\n",
       "    <tr>\n",
       "      <th>11715130_s_at</th>\n",
       "      <td>LOC337967</td>\n",
       "      <td>KRTAP6-2</td>\n",
       "      <td>2.424</td>\n",
       "      <td>2.623</td>\n",
       "      <td>2.501</td>\n",
       "      <td>3.103</td>\n",
       "      <td>2.567</td>\n",
       "      <td>2.992</td>\n",
       "      <td>2.249</td>\n",
       "      <td>2.63</td>\n",
       "      <td>...</td>\n",
       "      <td>3.074</td>\n",
       "      <td>2.763</td>\n",
       "      <td>2.89</td>\n",
       "      <td>3.155</td>\n",
       "      <td>2.526</td>\n",
       "      <td>2.452</td>\n",
       "      <td>2.822</td>\n",
       "      <td>2.651</td>\n",
       "      <td>[KRTAP6-2] keratin associated protein 6-2</td>\n",
       "      <td>21</td>\n",
       "    </tr>\n",
       "    <tr>\n",
       "      <th>11715131_s_at</th>\n",
       "      <td>LOC337975</td>\n",
       "      <td>KRTAP20-1</td>\n",
       "      <td>1.826</td>\n",
       "      <td>2.306</td>\n",
       "      <td>2.735</td>\n",
       "      <td>2.777</td>\n",
       "      <td>2.897</td>\n",
       "      <td>2.631</td>\n",
       "      <td>2.613</td>\n",
       "      <td>2.481</td>\n",
       "      <td>...</td>\n",
       "      <td>2.46</td>\n",
       "      <td>2.374</td>\n",
       "      <td>2.074</td>\n",
       "      <td>3.121</td>\n",
       "      <td>2.725</td>\n",
       "      <td>2.21</td>\n",
       "      <td>2.828</td>\n",
       "      <td>2.444</td>\n",
       "      <td>[KRTAP20-1] keratin associated protein 20-1</td>\n",
       "      <td>21</td>\n",
       "    </tr>\n",
       "    <tr>\n",
       "      <th>11715144_s_at</th>\n",
       "      <td>LOC337974</td>\n",
       "      <td>KRTAP19-7</td>\n",
       "      <td>3.256</td>\n",
       "      <td>3.404</td>\n",
       "      <td>4.112</td>\n",
       "      <td>3.279</td>\n",
       "      <td>3.67</td>\n",
       "      <td>3.279</td>\n",
       "      <td>3.257</td>\n",
       "      <td>3.86</td>\n",
       "      <td>...</td>\n",
       "      <td>3.856</td>\n",
       "      <td>3.64</td>\n",
       "      <td>3.642</td>\n",
       "      <td>3.772</td>\n",
       "      <td>4.187</td>\n",
       "      <td>3.579</td>\n",
       "      <td>4.542</td>\n",
       "      <td>3.92</td>\n",
       "      <td>[KRTAP19-7] keratin associated protein 19-7</td>\n",
       "      <td>21</td>\n",
       "    </tr>\n",
       "    <tr>\n",
       "      <th>11715145_s_at</th>\n",
       "      <td>LOC337976</td>\n",
       "      <td>KRTAP20-2</td>\n",
       "      <td>3.529</td>\n",
       "      <td>4.029</td>\n",
       "      <td>4.254</td>\n",
       "      <td>4.094</td>\n",
       "      <td>3.629</td>\n",
       "      <td>3.632</td>\n",
       "      <td>3.614</td>\n",
       "      <td>4.021</td>\n",
       "      <td>...</td>\n",
       "      <td>4.026</td>\n",
       "      <td>3.808</td>\n",
       "      <td>3.966</td>\n",
       "      <td>4.134</td>\n",
       "      <td>3.881</td>\n",
       "      <td>3.833</td>\n",
       "      <td>4.112</td>\n",
       "      <td>3.945</td>\n",
       "      <td>[KRTAP20-2] keratin associated protein 20-2</td>\n",
       "      <td>21</td>\n",
       "    </tr>\n",
       "    <tr>\n",
       "      <th>11715156_s_at</th>\n",
       "      <td>LOC337966</td>\n",
       "      <td>KRTAP6-1</td>\n",
       "      <td>3.855</td>\n",
       "      <td>3.9</td>\n",
       "      <td>4.124</td>\n",
       "      <td>4.428</td>\n",
       "      <td>3.947</td>\n",
       "      <td>4.371</td>\n",
       "      <td>4.14</td>\n",
       "      <td>4.129</td>\n",
       "      <td>...</td>\n",
       "      <td>4.783</td>\n",
       "      <td>3.961</td>\n",
       "      <td>4.035</td>\n",
       "      <td>4.428</td>\n",
       "      <td>3.972</td>\n",
       "      <td>4.208</td>\n",
       "      <td>4.622</td>\n",
       "      <td>4.147</td>\n",
       "      <td>[KRTAP6-1] keratin associated protein 6-1</td>\n",
       "      <td>21</td>\n",
       "    </tr>\n",
       "    <tr>\n",
       "      <th>11715157_s_at</th>\n",
       "      <td>LOC337969</td>\n",
       "      <td>KRTAP19-2</td>\n",
       "      <td>2</td>\n",
       "      <td>2.162</td>\n",
       "      <td>2.135</td>\n",
       "      <td>2.144</td>\n",
       "      <td>2.144</td>\n",
       "      <td>2.147</td>\n",
       "      <td>1.938</td>\n",
       "      <td>2.27</td>\n",
       "      <td>...</td>\n",
       "      <td>2.19</td>\n",
       "      <td>2.045</td>\n",
       "      <td>2.545</td>\n",
       "      <td>2.222</td>\n",
       "      <td>2.332</td>\n",
       "      <td>1.998</td>\n",
       "      <td>2.133</td>\n",
       "      <td>2.238</td>\n",
       "      <td>[KRTAP19-2] keratin associated protein 19-2</td>\n",
       "      <td>21</td>\n",
       "    </tr>\n",
       "    <tr>\n",
       "      <th>11715158_s_at</th>\n",
       "      <td>LOC337971</td>\n",
       "      <td>KRTAP19-4</td>\n",
       "      <td>2.682</td>\n",
       "      <td>2.993</td>\n",
       "      <td>2.778</td>\n",
       "      <td>2.904</td>\n",
       "      <td>2.714</td>\n",
       "      <td>2.672</td>\n",
       "      <td>2.837</td>\n",
       "      <td>2.578</td>\n",
       "      <td>...</td>\n",
       "      <td>2.617</td>\n",
       "      <td>2.877</td>\n",
       "      <td>2.944</td>\n",
       "      <td>2.612</td>\n",
       "      <td>2.729</td>\n",
       "      <td>2.7</td>\n",
       "      <td>2.837</td>\n",
       "      <td>2.582</td>\n",
       "      <td>[KRTAP19-4] Keratin associated protein 19-4</td>\n",
       "      <td>21</td>\n",
       "    </tr>\n",
       "  </tbody>\n",
       "</table>\n",
       "<p>15 rows × 748 columns</p>\n",
       "</div>"
      ],
      "text/plain": [
       "SubjectID         LocusLink     Symbol 116_S_1249 037_S_4410 006_S_4153  \\\n",
       "Gene_PSID                                                                 \n",
       "Visit                   NaN        NaN        m48        v03        v03   \n",
       "Phase                   NaN        NaN     ADNIGO      ADNI2    ADNI2.1   \n",
       "260/280                 NaN        NaN       2.05       2.07       2.04   \n",
       "260/230                 NaN        NaN       0.55       1.54        2.1   \n",
       "RIN                     NaN        NaN        7.7        7.6        7.2   \n",
       "Affy Plate              NaN        NaN          7          3          6   \n",
       "YearofCollection        NaN        NaN       2011       2012       2011   \n",
       "ProbeSet          LocusLink     Symbol        NaN        NaN        NaN   \n",
       "11715130_s_at     LOC337967   KRTAP6-2      2.424      2.623      2.501   \n",
       "11715131_s_at     LOC337975  KRTAP20-1      1.826      2.306      2.735   \n",
       "11715144_s_at     LOC337974  KRTAP19-7      3.256      3.404      4.112   \n",
       "11715145_s_at     LOC337976  KRTAP20-2      3.529      4.029      4.254   \n",
       "11715156_s_at     LOC337966   KRTAP6-1      3.855        3.9      4.124   \n",
       "11715157_s_at     LOC337969  KRTAP19-2          2      2.162      2.135   \n",
       "11715158_s_at     LOC337971  KRTAP19-4      2.682      2.993      2.778   \n",
       "\n",
       "SubjectID        116_S_1232 099_S_4205 007_S_4467 128_S_0205 003_S_2374  \\\n",
       "Gene_PSID                                                                 \n",
       "Visit                   m48        v03        v03        v06         bl   \n",
       "Phase              ADNIGO.1    ADNI2.2    ADNI2.3    ADNI2.4   ADNIGO.2   \n",
       "260/280                2.03       2.01       2.05       1.95       1.99   \n",
       "260/230                1.52        1.6       1.91       1.47       2.07   \n",
       "RIN                     6.8        7.9          7        7.9        7.2   \n",
       "Affy Plate                7          9          4          3          8   \n",
       "YearofCollection       2011       2011       2012       2011       2011   \n",
       "ProbeSet                NaN        NaN        NaN        NaN        NaN   \n",
       "11715130_s_at         3.103      2.567      2.992      2.249       2.63   \n",
       "11715131_s_at         2.777      2.897      2.631      2.613      2.481   \n",
       "11715144_s_at         3.279       3.67      3.279      3.257       3.86   \n",
       "11715145_s_at         4.094      3.629      3.632      3.614      4.021   \n",
       "11715156_s_at         4.428      3.947      4.371       4.14      4.129   \n",
       "11715157_s_at         2.144      2.144      2.147      1.938       2.27   \n",
       "11715158_s_at         2.904      2.714      2.672      2.837      2.578   \n",
       "\n",
       "SubjectID           ...     014_S_4668  130_S_0289 141_S_4456  009_S_2381  \\\n",
       "Gene_PSID           ...                                                     \n",
       "Visit               ...            v03         m60        v03          bl   \n",
       "Phase               ...      ADNI2.443  ADNIGO.293  ADNI2.444  ADNIGO.294   \n",
       "260/280             ...           2.05        1.98       2.09        1.87   \n",
       "260/230             ...           2.05        1.65       1.56        1.45   \n",
       "RIN                 ...            6.5         6.3        6.4         6.6   \n",
       "Affy Plate          ...              6           9          3           8   \n",
       "YearofCollection    ...           2012        2011       2012        2011   \n",
       "ProbeSet            ...            NaN         NaN        NaN         NaN   \n",
       "11715130_s_at       ...          3.074       2.763       2.89       3.155   \n",
       "11715131_s_at       ...           2.46       2.374      2.074       3.121   \n",
       "11715144_s_at       ...          3.856        3.64      3.642       3.772   \n",
       "11715145_s_at       ...          4.026       3.808      3.966       4.134   \n",
       "11715156_s_at       ...          4.783       3.961      4.035       4.428   \n",
       "11715157_s_at       ...           2.19       2.045      2.545       2.222   \n",
       "11715158_s_at       ...          2.617       2.877      2.944       2.612   \n",
       "\n",
       "SubjectID        053_S_4557 073_S_4300 041_S_4014 007_S_0101  \\\n",
       "Gene_PSID                                                      \n",
       "Visit                   v03        v03        v03        v06   \n",
       "Phase             ADNI2.445  ADNI2.446  ADNI2.447  ADNI2.448   \n",
       "260/280                2.03       2.11       1.94       2.06   \n",
       "260/230                1.33       0.27       1.72       1.35   \n",
       "RIN                     6.8        6.2        5.8        6.7   \n",
       "Affy Plate                5          3          1          4   \n",
       "YearofCollection       2012       2011       2011       2012   \n",
       "ProbeSet                NaN        NaN        NaN        NaN   \n",
       "11715130_s_at         2.526      2.452      2.822      2.651   \n",
       "11715131_s_at         2.725       2.21      2.828      2.444   \n",
       "11715144_s_at         4.187      3.579      4.542       3.92   \n",
       "11715145_s_at         3.881      3.833      4.112      3.945   \n",
       "11715156_s_at         3.972      4.208      4.622      4.147   \n",
       "11715157_s_at         2.332      1.998      2.133      2.238   \n",
       "11715158_s_at         2.729        2.7      2.837      2.582   \n",
       "\n",
       "SubjectID                                     Biological Name Chromosome  \n",
       "Gene_PSID                                                                 \n",
       "Visit                                                     NaN        NaN  \n",
       "Phase                                            Unnamed: 747        NaN  \n",
       "260/280                                                   NaN        NaN  \n",
       "260/230                                                   NaN        NaN  \n",
       "RIN                                                       NaN        NaN  \n",
       "Affy Plate                                                NaN        NaN  \n",
       "YearofCollection                                          NaN        NaN  \n",
       "ProbeSet                                                  NaN        NaN  \n",
       "11715130_s_at       [KRTAP6-2] keratin associated protein 6-2         21  \n",
       "11715131_s_at     [KRTAP20-1] keratin associated protein 20-1         21  \n",
       "11715144_s_at     [KRTAP19-7] keratin associated protein 19-7         21  \n",
       "11715145_s_at     [KRTAP20-2] keratin associated protein 20-2         21  \n",
       "11715156_s_at       [KRTAP6-1] keratin associated protein 6-1         21  \n",
       "11715157_s_at     [KRTAP19-2] keratin associated protein 19-2         21  \n",
       "11715158_s_at     [KRTAP19-4] Keratin associated protein 19-4         21  \n",
       "\n",
       "[15 rows x 748 columns]"
      ]
     },
     "metadata": {},
     "output_type": "display_data"
    }
   ],
   "source": [
    "GEP_head = GEP_df.iloc[0:8]\n",
    "GEP_data = GEP_df.iloc[8:]\n",
    "c21 = GEP_data[GEP_data['Chromosome']=='21']\n",
    "GEP_C21 = pd.concat((GEP_head,c21))\n",
    "\n",
    "display(GEP_C21.head(15))"
   ]
  },
  {
   "cell_type": "code",
   "execution_count": 18,
   "metadata": {
    "hide": true
   },
   "outputs": [],
   "source": [
    "adni_df = pd.read_csv(\"ADNIMERGE.csv\", low_memory=False)"
   ]
  },
  {
   "cell_type": "code",
   "execution_count": 19,
   "metadata": {
    "hide": true
   },
   "outputs": [],
   "source": [
    "keep_columns = ['PTID','DX','Month']\n",
    "outcome_df = adni_df[keep_columns]"
   ]
  },
  {
   "cell_type": "code",
   "execution_count": 20,
   "metadata": {
    "hide": true
   },
   "outputs": [],
   "source": [
    "\"\"\"\n",
    "if any diagnoses are dementia, report dementia - if all diagnoses ara NaN, report NaN.\n",
    "\"\"\"\n",
    "\n",
    "\n",
    "n = len(GEP_C21.columns[2:-2])\n",
    "target = np.full(n,0)\n",
    "for i, col in enumerate(GEP_C21.columns[2:-2]):\n",
    "    if (outcome_df[outcome_df['PTID']==col]['DX'] == 'Dementia').any():\n",
    "        target[i] = 1\n",
    "    elif (pd.Series([str(o) == 'nan' for o in outcome_df[outcome_df['PTID']==col]['DX']])).all():\n",
    "        target[i] = np.nan\n"
   ]
  },
  {
   "cell_type": "markdown",
   "metadata": {},
   "source": [
    "From this dataset, we find 13 features corresponding to probes of the APP gene, a major implicated gene in Alzheimer's Disease. \n",
    "\n",
    "To analyse the role of different genes on chromosome 21 in the etiology of Alzheimer's Disease, a good baseline model would be to use these 13 features in a simple baseline model, so we fitted a simple logistic regression to an X data set of these 13 features.\n",
    "\n",
    "To ensure that imbalance in the data was not an issue, we used Synthetic Minority Over-sampling Technique (SMOTE) using the imblearn package."
   ]
  },
  {
   "cell_type": "code",
   "execution_count": 27,
   "metadata": {
    "hide": true
   },
   "outputs": [],
   "source": [
    "APP_PSID = annote[annote['Gene Symbol'] == 'APP']['Probe Set ID'].values\n",
    "\n",
    "no_markers = len(APP_PSID)\n",
    "no_patients = len(GEP_C21.columns[2:-2])"
   ]
  },
  {
   "cell_type": "code",
   "execution_count": 28,
   "metadata": {
    "hide": true
   },
   "outputs": [],
   "source": [
    "X = np.zeros((no_patients,no_markers))\n",
    "\n",
    "for i, col in enumerate(GEP_C21.columns[2:-2]):\n",
    "    patient = GEP_C21[col]\n",
    "    for j, PSID in enumerate(APP_PSID):\n",
    "        X[i,j] = patient[PSID]"
   ]
  },
  {
   "cell_type": "code",
   "execution_count": 29,
   "metadata": {
    "hide": true
   },
   "outputs": [],
   "source": [
    "X_train, X_test, y_train, y_test = train_test_split(X, target, test_size=0.3, random_state=42)"
   ]
  },
  {
   "cell_type": "code",
   "execution_count": 30,
   "metadata": {
    "hide": true
   },
   "outputs": [],
   "source": [
    "sm =SMOTE(ratio=1, random_state=42)\n",
    "X_TR, y_TR = sm.fit_resample(X_train,y_train)"
   ]
  },
  {
   "cell_type": "code",
   "execution_count": 31,
   "metadata": {
    "hide": true
   },
   "outputs": [],
   "source": [
    "from sklearn.linear_model import LogisticRegressionCV\n",
    "from sklearn.model_selection import cross_val_score"
   ]
  },
  {
   "cell_type": "code",
   "execution_count": 32,
   "metadata": {
    "hide": true
   },
   "outputs": [],
   "source": [
    "logreg = LogisticRegressionCV(cv=5, max_iter=10000).fit(X_TR,y_TR)"
   ]
  },
  {
   "cell_type": "code",
   "execution_count": 36,
   "metadata": {
    "hide": true
   },
   "outputs": [],
   "source": [
    "app_crossvalscore = np.mean(cross_val_score(logreg,X_TR,y_TR, cv=5))"
   ]
  },
  {
   "cell_type": "code",
   "execution_count": 35,
   "metadata": {
    "hide": true
   },
   "outputs": [],
   "source": [
    "app_testscore = accuracy_score(logreg.predict(X_test),y_test)"
   ]
  },
  {
   "cell_type": "markdown",
   "metadata": {},
   "source": [
    "The cross-validation and test scores for this baseline model are:"
   ]
  },
  {
   "cell_type": "code",
   "execution_count": 38,
   "metadata": {
    "hide": true
   },
   "outputs": [
    {
     "name": "stdout",
     "output_type": "stream",
     "text": [
      "Cross-validation score  0.5798706240487063\n",
      "Test score  0.5178571428571429\n"
     ]
    }
   ],
   "source": [
    "print(\"Cross-validation score \",app_crossvalscore)\n",
    "print(\"Test score \",app_testscore)"
   ]
  },
  {
   "cell_type": "markdown",
   "metadata": {},
   "source": [
    "Both appear only marginally better than random. APP gene expression profile appears to be a very poor predictor of AD."
   ]
  },
  {
   "cell_type": "markdown",
   "metadata": {},
   "source": [
    "Next, we looked to build a similar simplistic model using all genes on chromosome 21 to see whether there was anything in particular that stood out as interesting."
   ]
  },
  {
   "cell_type": "code",
   "execution_count": 39,
   "metadata": {
    "hide": true
   },
   "outputs": [],
   "source": [
    "PSIDs = GEP_C21.index[8:].values\n",
    "\n",
    "no_markers2 = len(PSIDs)\n",
    "no_patients2 = len(GEP_C21.columns[2:-2])\n"
   ]
  },
  {
   "cell_type": "code",
   "execution_count": 40,
   "metadata": {
    "hide": true
   },
   "outputs": [],
   "source": [
    "X2 = np.zeros((no_patients2,no_markers2))\n",
    "\n",
    "for i, col in enumerate(GEP_C21.columns[2:-2]):\n",
    "    patient = GEP_C21[col]\n",
    "    for j, PSID in enumerate(PSIDs):\n",
    "        X2[i,j] = patient[PSID]\n",
    "\n"
   ]
  },
  {
   "cell_type": "code",
   "execution_count": 41,
   "metadata": {
    "hide": true
   },
   "outputs": [],
   "source": [
    "X_tra, X_tst, y_tra, y_tst = train_test_split(X2,target, test_size=0.3, random_state=42)"
   ]
  },
  {
   "cell_type": "code",
   "execution_count": 42,
   "metadata": {
    "hide": true
   },
   "outputs": [],
   "source": [
    "sm = SMOTE(ratio=1, random_state=42)\n",
    "X_TR2, y_TR2 = sm.fit_resample(X_tra,y_tra)"
   ]
  },
  {
   "cell_type": "code",
   "execution_count": 43,
   "metadata": {
    "hide": true
   },
   "outputs": [],
   "source": [
    "logreg2 = LogisticRegressionCV(cv=5, max_iter=10000).fit(X_TR2,y_TR2)"
   ]
  },
  {
   "cell_type": "code",
   "execution_count": 45,
   "metadata": {
    "hide": true
   },
   "outputs": [],
   "source": [
    "c21_crossvalscore = np.mean(cross_val_score(logreg2,X_TR2,y_TR2, cv=5))"
   ]
  },
  {
   "cell_type": "code",
   "execution_count": 46,
   "metadata": {
    "hide": true
   },
   "outputs": [],
   "source": [
    "c21_testscore = np.mean(cross_val_score(logreg2,X_tst,y_tst, cv=5))"
   ]
  },
  {
   "cell_type": "markdown",
   "metadata": {},
   "source": [
    "The results of this are:"
   ]
  },
  {
   "cell_type": "code",
   "execution_count": 48,
   "metadata": {
    "hide": true
   },
   "outputs": [
    {
     "name": "stdout",
     "output_type": "stream",
     "text": [
      "Cross-validation score  0.8115677321156773\n",
      "Test score  0.6965041721563461\n"
     ]
    }
   ],
   "source": [
    "print(\"Cross-validation score \",c21_crossvalscore)\n",
    "print(\"Test score \",c21_testscore)"
   ]
  },
  {
   "cell_type": "markdown",
   "metadata": {},
   "source": [
    "These results are slightly more promising, and warrant an investigation into the details of the model: what are the genes with the largest magnitude associated coefficient?"
   ]
  },
  {
   "cell_type": "code",
   "execution_count": 55,
   "metadata": {
    "hide": true
   },
   "outputs": [],
   "source": [
    "big = np.argmax(logreg2.coef_)\n",
    "small = np.argmin(logreg2.coef_)\n",
    "big_gene = PSIDs[big]\n",
    "small_gene = PSIDs[small]"
   ]
  },
  {
   "cell_type": "code",
   "execution_count": 60,
   "metadata": {
    "hide": true
   },
   "outputs": [
    {
     "name": "stdout",
     "output_type": "stream",
     "text": [
      "Biggest positive coefficient: \n"
     ]
    },
    {
     "data": {
      "text/html": [
       "<div>\n",
       "<style scoped>\n",
       "    .dataframe tbody tr th:only-of-type {\n",
       "        vertical-align: middle;\n",
       "    }\n",
       "\n",
       "    .dataframe tbody tr th {\n",
       "        vertical-align: top;\n",
       "    }\n",
       "\n",
       "    .dataframe thead th {\n",
       "        text-align: right;\n",
       "    }\n",
       "</style>\n",
       "<table border=\"1\" class=\"dataframe\">\n",
       "  <thead>\n",
       "    <tr style=\"text-align: right;\">\n",
       "      <th></th>\n",
       "      <th>Probe Set ID</th>\n",
       "      <th>UniGene ID</th>\n",
       "      <th>Alignments</th>\n",
       "      <th>Gene Title</th>\n",
       "      <th>Gene Symbol</th>\n",
       "      <th>Chromosomal Location</th>\n",
       "      <th>Entrez Gene</th>\n",
       "      <th>SwissProt</th>\n",
       "      <th>RefSeq Protein ID</th>\n",
       "      <th>RefSeq Transcript ID</th>\n",
       "      <th>Gene Ontology Biological Process</th>\n",
       "      <th>Gene Ontology Cellular Component</th>\n",
       "      <th>Gene Ontology Molecular Function</th>\n",
       "      <th>Pathway</th>\n",
       "      <th>InterPro</th>\n",
       "      <th>Trans Membrane</th>\n",
       "      <th>Chromosome</th>\n",
       "    </tr>\n",
       "  </thead>\n",
       "  <tbody>\n",
       "    <tr>\n",
       "      <th>133</th>\n",
       "      <td>11715233_s_at</td>\n",
       "      <td>Hs.381214</td>\n",
       "      <td>chr21:47581062-47604373 (-) // 95.94 // q22.3</td>\n",
       "      <td>spermatogenesis and centriole associated 1-like</td>\n",
       "      <td>SPATC1L</td>\n",
       "      <td>chr21q22.3</td>\n",
       "      <td>84221</td>\n",
       "      <td>Q9H0A9</td>\n",
       "      <td>NP_001136326 /// NP_115637 /// XP_005261245 //...</td>\n",
       "      <td>NM_001142854 /// NM_032261 /// XM_005261188 //...</td>\n",
       "      <td>---</td>\n",
       "      <td>---</td>\n",
       "      <td>0005515 // protein binding // inferred from ph...</td>\n",
       "      <td>---</td>\n",
       "      <td>IPR029384 // Speriolin, C-terminal // 1.0E-75 ...</td>\n",
       "      <td>---</td>\n",
       "      <td>21</td>\n",
       "    </tr>\n",
       "  </tbody>\n",
       "</table>\n",
       "</div>"
      ],
      "text/plain": [
       "      Probe Set ID UniGene ID                                     Alignments  \\\n",
       "133  11715233_s_at  Hs.381214  chr21:47581062-47604373 (-) // 95.94 // q22.3   \n",
       "\n",
       "                                          Gene Title Gene Symbol  \\\n",
       "133  spermatogenesis and centriole associated 1-like     SPATC1L   \n",
       "\n",
       "    Chromosomal Location Entrez Gene SwissProt  \\\n",
       "133           chr21q22.3       84221    Q9H0A9   \n",
       "\n",
       "                                     RefSeq Protein ID  \\\n",
       "133  NP_001136326 /// NP_115637 /// XP_005261245 //...   \n",
       "\n",
       "                                  RefSeq Transcript ID  \\\n",
       "133  NM_001142854 /// NM_032261 /// XM_005261188 //...   \n",
       "\n",
       "    Gene Ontology Biological Process Gene Ontology Cellular Component  \\\n",
       "133                              ---                              ---   \n",
       "\n",
       "                      Gene Ontology Molecular Function Pathway  \\\n",
       "133  0005515 // protein binding // inferred from ph...     ---   \n",
       "\n",
       "                                              InterPro Trans Membrane  \\\n",
       "133  IPR029384 // Speriolin, C-terminal // 1.0E-75 ...            ---   \n",
       "\n",
       "    Chromosome  \n",
       "133         21  "
      ]
     },
     "execution_count": 60,
     "metadata": {},
     "output_type": "execute_result"
    }
   ],
   "source": [
    "print(\"Biggest positive coefficient: \")\n",
    "annote[annote['Probe Set ID']==big_gene]"
   ]
  },
  {
   "cell_type": "code",
   "execution_count": 61,
   "metadata": {
    "hide": true
   },
   "outputs": [
    {
     "name": "stdout",
     "output_type": "stream",
     "text": [
      "Biggest negative coefficient: \n"
     ]
    },
    {
     "data": {
      "text/html": [
       "<div>\n",
       "<style scoped>\n",
       "    .dataframe tbody tr th:only-of-type {\n",
       "        vertical-align: middle;\n",
       "    }\n",
       "\n",
       "    .dataframe tbody tr th {\n",
       "        vertical-align: top;\n",
       "    }\n",
       "\n",
       "    .dataframe thead th {\n",
       "        text-align: right;\n",
       "    }\n",
       "</style>\n",
       "<table border=\"1\" class=\"dataframe\">\n",
       "  <thead>\n",
       "    <tr style=\"text-align: right;\">\n",
       "      <th></th>\n",
       "      <th>Probe Set ID</th>\n",
       "      <th>UniGene ID</th>\n",
       "      <th>Alignments</th>\n",
       "      <th>Gene Title</th>\n",
       "      <th>Gene Symbol</th>\n",
       "      <th>Chromosomal Location</th>\n",
       "      <th>Entrez Gene</th>\n",
       "      <th>SwissProt</th>\n",
       "      <th>RefSeq Protein ID</th>\n",
       "      <th>RefSeq Transcript ID</th>\n",
       "      <th>Gene Ontology Biological Process</th>\n",
       "      <th>Gene Ontology Cellular Component</th>\n",
       "      <th>Gene Ontology Molecular Function</th>\n",
       "      <th>Pathway</th>\n",
       "      <th>InterPro</th>\n",
       "      <th>Trans Membrane</th>\n",
       "      <th>Chromosome</th>\n",
       "    </tr>\n",
       "  </thead>\n",
       "  <tbody>\n",
       "    <tr>\n",
       "      <th>8325</th>\n",
       "      <td>11723425_at</td>\n",
       "      <td>Hs.529400</td>\n",
       "      <td>chr21:34697208-34732236 (+) // 82.3 // q22.11</td>\n",
       "      <td>interferon (alpha, beta and omega) receptor 1</td>\n",
       "      <td>IFNAR1</td>\n",
       "      <td>chr21q22.11</td>\n",
       "      <td>3454</td>\n",
       "      <td>P17181</td>\n",
       "      <td>NP_000620 /// XP_005261021 /// XP_011527854</td>\n",
       "      <td>NM_000629 /// XM_005260964 /// XM_011529552</td>\n",
       "      <td>0007166 // cell surface receptor signaling pat...</td>\n",
       "      <td>0005622 // intracellular // traceable author s...</td>\n",
       "      <td>0004904 // interferon receptor activity // inf...</td>\n",
       "      <td>---</td>\n",
       "      <td>IPR003961 // Fibronectin type III // 2.1E-35 /...</td>\n",
       "      <td>---</td>\n",
       "      <td>21</td>\n",
       "    </tr>\n",
       "  </tbody>\n",
       "</table>\n",
       "</div>"
      ],
      "text/plain": [
       "     Probe Set ID UniGene ID                                     Alignments  \\\n",
       "8325  11723425_at  Hs.529400  chr21:34697208-34732236 (+) // 82.3 // q22.11   \n",
       "\n",
       "                                         Gene Title Gene Symbol  \\\n",
       "8325  interferon (alpha, beta and omega) receptor 1      IFNAR1   \n",
       "\n",
       "     Chromosomal Location Entrez Gene SwissProt  \\\n",
       "8325          chr21q22.11        3454    P17181   \n",
       "\n",
       "                                RefSeq Protein ID  \\\n",
       "8325  NP_000620 /// XP_005261021 /// XP_011527854   \n",
       "\n",
       "                             RefSeq Transcript ID  \\\n",
       "8325  NM_000629 /// XM_005260964 /// XM_011529552   \n",
       "\n",
       "                       Gene Ontology Biological Process  \\\n",
       "8325  0007166 // cell surface receptor signaling pat...   \n",
       "\n",
       "                       Gene Ontology Cellular Component  \\\n",
       "8325  0005622 // intracellular // traceable author s...   \n",
       "\n",
       "                       Gene Ontology Molecular Function Pathway  \\\n",
       "8325  0004904 // interferon receptor activity // inf...     ---   \n",
       "\n",
       "                                               InterPro Trans Membrane  \\\n",
       "8325  IPR003961 // Fibronectin type III // 2.1E-35 /...            ---   \n",
       "\n",
       "     Chromosome  \n",
       "8325         21  "
      ]
     },
     "execution_count": 61,
     "metadata": {},
     "output_type": "execute_result"
    }
   ],
   "source": [
    "print(\"Biggest negative coefficient: \")\n",
    "annote[annote['Probe Set ID']==small_gene]"
   ]
  },
  {
   "cell_type": "markdown",
   "metadata": {},
   "source": [
    "Here, the gene with the largest positive coefficient in this model has no identified link with cognitive function, autophagy, protein synthesis, calcium signalling, immune system, inflammation or any other process linked with neurodegenerative disease - and is only moderately expressed in the brain. Moreover, the gene with the strongest negative coefficient has actually been previously been positively linked with amyloidogenesis in mice, contrary to what our model might imply.\n",
    "\n",
    "This suggests that there may be limited immediate benefit to using gene expression profile data. To further consider this, we plotted the gene expression distribution for all 13 APP gene probes and also the gene probe found to be the strongest predictor for our model - we see no clear difference in distribution between AD and non-AD, implying again that gene expression data may not be as useful as first thought."
   ]
  },
  {
   "cell_type": "code",
   "execution_count": 69,
   "metadata": {
    "hide": true
   },
   "outputs": [
    {
     "name": "stderr",
     "output_type": "stream",
     "text": [
      "/anaconda3/lib/python3.6/site-packages/scipy/stats/stats.py:1713: FutureWarning: Using a non-tuple sequence for multidimensional indexing is deprecated; use `arr[tuple(seq)]` instead of `arr[seq]`. In the future this will be interpreted as an array index, `arr[np.array(seq)]`, which will result either in an error or a different result.\n",
      "  return np.add.reduce(sorted[indexer] * weights, axis=axis) / sumval\n"
     ]
    },
    {
     "data": {
      "image/png": "[encoded data removed]",
      "text/plain": [
       "<matplotlib.figure.Figure at 0x1196be780>"
      ]
     },
     "metadata": {},
     "output_type": "display_data"
    }
   ],
   "source": [
    "xpos = X_TR[y_TR==1]\n",
    "xneg = X_TR[y_TR==0]\n",
    "plt.subplots(3,4, figsize=(16,8))\n",
    "plt.suptitle(\"Amyloid Precursor Protein Gene Expression Profile for Different Microarray Probes\", y=1.04, fontsize =22)\n",
    "for i in range(12):\n",
    "    ax = plt.subplot(3,4,i+1)\n",
    "    ax.set_title(\"Microarray Probe {0}\".format(str(i+1)))\n",
    "    sns.distplot(xpos[i], bins=30, color = 'red', ax = ax, hist=False, label = \"AD\")\n",
    "    sns.distplot(xneg[i], bins=30, color = 'blue', ax = ax, hist=False, label = 'Not AD')\n",
    "    ax.set_xlabel(\"Probe Expression Level\")\n",
    "    ax.set_ylabel(\"Density\")\n",
    "    ax.set_ylim((0,1))\n",
    "plt.tight_layout()\n",
    "plt.show()"
   ]
  },
  {
   "cell_type": "code",
   "execution_count": 70,
   "metadata": {
    "hide": true
   },
   "outputs": [
    {
     "name": "stderr",
     "output_type": "stream",
     "text": [
      "/anaconda3/lib/python3.6/site-packages/scipy/stats/stats.py:1713: FutureWarning: Using a non-tuple sequence for multidimensional indexing is deprecated; use `arr[tuple(seq)]` instead of `arr[seq]`. In the future this will be interpreted as an array index, `arr[np.array(seq)]`, which will result either in an error or a different result.\n",
      "  return np.add.reduce(sorted[indexer] * weights, axis=axis) / sumval\n"
     ]
    },
    {
     "data": {
      "image/png": "[encoded data removed]",
      "text/plain": [
       "<matplotlib.figure.Figure at 0x113bbe160>"
      ]
     },
     "metadata": {},
     "output_type": "display_data"
    }
   ],
   "source": [
    "bigboy = X_TR2[:,13]\n",
    "\n",
    "bigyes = bigboy[y_TR2==1]\n",
    "bignah = bigboy[y_TR2==0]\n",
    "plt.figure(figsize=(16,8))\n",
    "sns.distplot(bigyes, bins=30, color = 'red', hist=False, label = \"AD\")\n",
    "sns.distplot(bignah, bins=30, color = 'blue', hist=False, label = 'Not AD')\n",
    "plt.title(\"Gene Expression Profile: Best Predictor in Logistic Model\", fontsize=22)\n",
    "plt.ylim((0,2))\n",
    "plt.xlabel(\"Gene Expression Level\")\n",
    "plt.ylabel(\"Density\")\n",
    "plt.show()"
   ]
  },
  {
   "cell_type": "markdown",
   "metadata": {},
   "source": [
    "When researching details of the gene expression dataset, it was found the the samples from which the data is derived were taken from blood, not the central nervous system. This means that the gene expression profiles are not indicative of the cellular environment in the brain, as the gene expression profiles of different tissues varies hugely and the central nervous system is separated from the rest of the body by a near-impervious blood-brain-barrier. As such, even though other models could be tested and different chromosomes could be examined, it was decided that the chance of finding valuable data was too low, and as such the group focussed on other aims."
   ]
  }
 ],
 "metadata": {
  "celltoolbar": "Edit Metadata",
  "kernelspec": {
   "display_name": "Python 3",
   "language": "python",
   "name": "python3"
  },
  "language_info": {
   "codemirror_mode": {
    "name": "ipython",
    "version": 3
   },
   "file_extension": ".py",
   "mimetype": "text/x-python",
   "name": "python",
   "nbconvert_exporter": "python",
   "pygments_lexer": "ipython3",
   "version": "3.5.6"
  }
 },
 "nbformat": 4,
 "nbformat_minor": 2
}
