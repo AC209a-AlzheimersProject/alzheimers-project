{
 "cells": [
  {
   "cell_type": "markdown",
   "metadata": {
    "colab_type": "text",
    "id": "sKzf_e60l-Dy"
   },
   "source": [
    "# Group 41: Alzheimer’s Disease and Cognitive Impairment Prediction\n"
   ]
  },
  {
   "cell_type": "markdown",
   "metadata": {
    "colab_type": "text",
    "id": "fLhvcPiF0k3Z"
   },
   "source": [
    "\n",
    "# Fom baseline measurements and time till last visit try to predict disease progression in the future\n",
    "\n",
    " Disease progression defined as diagnosis on last visit being worse than the baseline diagnosis\n"
   ]
  },
  {
   "cell_type": "markdown",
   "metadata": {
    "colab_type": "text",
    "id": "XzuTvR-_0zyE"
   },
   "source": [
    "# 1 Data loading, preperation and cleaning"
   ]
  },
  {
   "cell_type": "code",
   "execution_count": 1,
   "metadata": {
    "colab": {
     "base_uri": "https://localhost:8080/",
     "height": 54
    },
    "colab_type": "code",
    "executionInfo": {
     "elapsed": 1559,
     "status": "ok",
     "timestamp": 1544659617380,
     "user": {
      "displayName": "Robbert Struyven",
      "photoUrl": "https://lh5.googleusercontent.com/-6QIbKl4FwZI/AAAAAAAAAAI/AAAAAAAAAAc/MZzIFCOiLj8/s64/photo.jpg",
      "userId": "15638207437883965838"
     },
     "user_tz": 300
    },
    "hide": true,
    "id": "K8iHI0Ogl-D0",
    "outputId": "45364904-7afb-4f61-b1c8-4a72f3c33345"
   },
   "outputs": [],
   "source": [
    "import pandas as pd \n",
    "import numpy as np\n",
    "import matplotlib\n",
    "import matplotlib.pyplot as plt\n",
    "import seaborn as sns\n",
    "from sklearn.model_selection import train_test_split\n",
    "from sklearn.neighbors import KNeighborsRegressor\n",
    "from sklearn.linear_model import LogisticRegression\n",
    "from sklearn.metrics import confusion_matrix\n",
    "import itertools\n",
    "pd.options.display.max_columns = None\n",
    "import warnings\n",
    "warnings.filterwarnings(\"ignore\")\n",
    "sns.set()\n",
    "\n",
    "from sklearn.model_selection import StratifiedKFold\n",
    "from sklearn.metrics import accuracy_score\n",
    "from sklearn.metrics import roc_auc_score, precision_score, recall_score, f1_score, average_precision_score, precision_recall_curve, auc, roc_curve\n",
    "from sklearn.model_selection import GridSearchCV\n",
    "from collections import Counter\n",
    "from sklearn.base import clone\n",
    "\n",
    "from sklearn.neighbors import KNeighborsClassifier\n",
    "from sklearn.linear_model import LogisticRegression\n",
    "from sklearn.tree import DecisionTreeClassifier\n",
    "from sklearn.ensemble import RandomForestClassifier, GradientBoostingClassifier\n",
    "from sklearn.naive_bayes import GaussianNB\n",
    "from sklearn.svm import SVC\n",
    "from sklearn.neural_network import MLPClassifier\n",
    "from xgboost import XGBClassifier\n",
    "from lightgbm.sklearn import LGBMClassifier\n",
    "\n",
    "plt.rc('font', size=11)          # controls default text sizes\n",
    "plt.rc('axes', titlesize=14)     # fontsize of the axes title\n",
    "plt.rc('axes', labelsize=12)    # fontsize of the x and y labels\n",
    "plt.rc('xtick', labelsize=11)    # fontsize of the tick labels\n",
    "plt.rc('ytick', labelsize=11)    # fontsize of the tick labels\n",
    "plt.rc('legend', fontsize=11)    # legend fontsize\n",
    "plt.rc('figure', titlesize=14)  # fontsize of the figure title"
   ]
  },
  {
   "cell_type": "code",
   "execution_count": 2,
   "metadata": {
    "colab": {
     "base_uri": "https://localhost:8080/",
     "height": 383
    },
    "colab_type": "code",
    "executionInfo": {
     "elapsed": 3058,
     "status": "ok",
     "timestamp": 1544659618915,
     "user": {
      "displayName": "Robbert Struyven",
      "photoUrl": "https://lh5.googleusercontent.com/-6QIbKl4FwZI/AAAAAAAAAAI/AAAAAAAAAAc/MZzIFCOiLj8/s64/photo.jpg",
      "userId": "15638207437883965838"
     },
     "user_tz": 300
    },
    "hide": true,
    "id": "mt-40WyThxO6",
    "outputId": "1be5d382-6eea-4e20-d4b4-de05d98dbe47"
   },
   "outputs": [
    {
     "name": "stdout",
     "output_type": "stream",
     "text": [
      "The shape of ADNIMERGE.csv (13673, 113)\n"
     ]
    },
    {
     "data": {
      "text/html": [
       "<div>\n",
       "<style scoped>\n",
       "    .dataframe tbody tr th:only-of-type {\n",
       "        vertical-align: middle;\n",
       "    }\n",
       "\n",
       "    .dataframe tbody tr th {\n",
       "        vertical-align: top;\n",
       "    }\n",
       "\n",
       "    .dataframe thead th {\n",
       "        text-align: right;\n",
       "    }\n",
       "</style>\n",
       "<table border=\"1\" class=\"dataframe\">\n",
       "  <thead>\n",
       "    <tr style=\"text-align: right;\">\n",
       "      <th></th>\n",
       "      <th>RID</th>\n",
       "      <th>PTID</th>\n",
       "      <th>VISCODE</th>\n",
       "      <th>SITE</th>\n",
       "      <th>COLPROT</th>\n",
       "      <th>ORIGPROT</th>\n",
       "      <th>EXAMDATE</th>\n",
       "      <th>DX_bl</th>\n",
       "      <th>AGE</th>\n",
       "      <th>PTGENDER</th>\n",
       "      <th>PTEDUCAT</th>\n",
       "      <th>PTETHCAT</th>\n",
       "      <th>PTRACCAT</th>\n",
       "      <th>PTMARRY</th>\n",
       "      <th>APOE4</th>\n",
       "      <th>FDG</th>\n",
       "      <th>PIB</th>\n",
       "      <th>AV45</th>\n",
       "      <th>ABETA</th>\n",
       "      <th>TAU</th>\n",
       "      <th>PTAU</th>\n",
       "      <th>CDRSB</th>\n",
       "      <th>ADAS11</th>\n",
       "      <th>ADAS13</th>\n",
       "      <th>ADASQ4</th>\n",
       "      <th>MMSE</th>\n",
       "      <th>RAVLT_immediate</th>\n",
       "      <th>RAVLT_learning</th>\n",
       "      <th>RAVLT_forgetting</th>\n",
       "      <th>RAVLT_perc_forgetting</th>\n",
       "      <th>LDELTOTAL</th>\n",
       "      <th>DIGITSCOR</th>\n",
       "      <th>TRABSCOR</th>\n",
       "      <th>FAQ</th>\n",
       "      <th>MOCA</th>\n",
       "      <th>EcogPtMem</th>\n",
       "      <th>EcogPtLang</th>\n",
       "      <th>EcogPtVisspat</th>\n",
       "      <th>EcogPtPlan</th>\n",
       "      <th>EcogPtOrgan</th>\n",
       "      <th>EcogPtDivatt</th>\n",
       "      <th>EcogPtTotal</th>\n",
       "      <th>EcogSPMem</th>\n",
       "      <th>EcogSPLang</th>\n",
       "      <th>EcogSPVisspat</th>\n",
       "      <th>EcogSPPlan</th>\n",
       "      <th>EcogSPOrgan</th>\n",
       "      <th>EcogSPDivatt</th>\n",
       "      <th>EcogSPTotal</th>\n",
       "      <th>FLDSTRENG</th>\n",
       "      <th>FSVERSION</th>\n",
       "      <th>IMAGEUID</th>\n",
       "      <th>Ventricles</th>\n",
       "      <th>Hippocampus</th>\n",
       "      <th>WholeBrain</th>\n",
       "      <th>Entorhinal</th>\n",
       "      <th>Fusiform</th>\n",
       "      <th>MidTemp</th>\n",
       "      <th>ICV</th>\n",
       "      <th>DX</th>\n",
       "      <th>mPACCdigit</th>\n",
       "      <th>mPACCtrailsB</th>\n",
       "      <th>EXAMDATE_bl</th>\n",
       "      <th>CDRSB_bl</th>\n",
       "      <th>ADAS11_bl</th>\n",
       "      <th>ADAS13_bl</th>\n",
       "      <th>ADASQ4_bl</th>\n",
       "      <th>MMSE_bl</th>\n",
       "      <th>RAVLT_immediate_bl</th>\n",
       "      <th>RAVLT_learning_bl</th>\n",
       "      <th>RAVLT_forgetting_bl</th>\n",
       "      <th>RAVLT_perc_forgetting_bl</th>\n",
       "      <th>LDELTOTAL_BL</th>\n",
       "      <th>DIGITSCOR_bl</th>\n",
       "      <th>TRABSCOR_bl</th>\n",
       "      <th>FAQ_bl</th>\n",
       "      <th>mPACCdigit_bl</th>\n",
       "      <th>mPACCtrailsB_bl</th>\n",
       "      <th>FLDSTRENG_bl</th>\n",
       "      <th>FSVERSION_bl</th>\n",
       "      <th>Ventricles_bl</th>\n",
       "      <th>Hippocampus_bl</th>\n",
       "      <th>WholeBrain_bl</th>\n",
       "      <th>Entorhinal_bl</th>\n",
       "      <th>Fusiform_bl</th>\n",
       "      <th>MidTemp_bl</th>\n",
       "      <th>ICV_bl</th>\n",
       "      <th>MOCA_bl</th>\n",
       "      <th>EcogPtMem_bl</th>\n",
       "      <th>EcogPtLang_bl</th>\n",
       "      <th>EcogPtVisspat_bl</th>\n",
       "      <th>EcogPtPlan_bl</th>\n",
       "      <th>EcogPtOrgan_bl</th>\n",
       "      <th>EcogPtDivatt_bl</th>\n",
       "      <th>EcogPtTotal_bl</th>\n",
       "      <th>EcogSPMem_bl</th>\n",
       "      <th>EcogSPLang_bl</th>\n",
       "      <th>EcogSPVisspat_bl</th>\n",
       "      <th>EcogSPPlan_bl</th>\n",
       "      <th>EcogSPOrgan_bl</th>\n",
       "      <th>EcogSPDivatt_bl</th>\n",
       "      <th>EcogSPTotal_bl</th>\n",
       "      <th>ABETA_bl</th>\n",
       "      <th>TAU_bl</th>\n",
       "      <th>PTAU_bl</th>\n",
       "      <th>FDG_bl</th>\n",
       "      <th>PIB_bl</th>\n",
       "      <th>AV45_bl</th>\n",
       "      <th>Years_bl</th>\n",
       "      <th>Month_bl</th>\n",
       "      <th>Month</th>\n",
       "      <th>M</th>\n",
       "      <th>update_stamp</th>\n",
       "    </tr>\n",
       "  </thead>\n",
       "  <tbody>\n",
       "    <tr>\n",
       "      <th>0</th>\n",
       "      <td>2</td>\n",
       "      <td>011_S_0002</td>\n",
       "      <td>bl</td>\n",
       "      <td>11</td>\n",
       "      <td>ADNI1</td>\n",
       "      <td>ADNI1</td>\n",
       "      <td>2005-09-08</td>\n",
       "      <td>CN</td>\n",
       "      <td>74.3</td>\n",
       "      <td>Male</td>\n",
       "      <td>16</td>\n",
       "      <td>Not Hisp/Latino</td>\n",
       "      <td>White</td>\n",
       "      <td>Married</td>\n",
       "      <td>0.0</td>\n",
       "      <td>1.36665</td>\n",
       "      <td>NaN</td>\n",
       "      <td>NaN</td>\n",
       "      <td>NaN</td>\n",
       "      <td>NaN</td>\n",
       "      <td>NaN</td>\n",
       "      <td>0.0</td>\n",
       "      <td>10.67</td>\n",
       "      <td>18.67</td>\n",
       "      <td>5.0</td>\n",
       "      <td>28.0</td>\n",
       "      <td>44.0</td>\n",
       "      <td>4.0</td>\n",
       "      <td>6.0</td>\n",
       "      <td>54.5455</td>\n",
       "      <td>10.0</td>\n",
       "      <td>34.0</td>\n",
       "      <td>112.0</td>\n",
       "      <td>0.0</td>\n",
       "      <td>NaN</td>\n",
       "      <td>NaN</td>\n",
       "      <td>NaN</td>\n",
       "      <td>NaN</td>\n",
       "      <td>NaN</td>\n",
       "      <td>NaN</td>\n",
       "      <td>NaN</td>\n",
       "      <td>NaN</td>\n",
       "      <td>NaN</td>\n",
       "      <td>NaN</td>\n",
       "      <td>NaN</td>\n",
       "      <td>NaN</td>\n",
       "      <td>NaN</td>\n",
       "      <td>NaN</td>\n",
       "      <td>NaN</td>\n",
       "      <td>NaN</td>\n",
       "      <td>Cross-Sectional FreeSurfer (FreeSurfer Version...</td>\n",
       "      <td>35475.0</td>\n",
       "      <td>118233.0</td>\n",
       "      <td>8336.0</td>\n",
       "      <td>1229740.0</td>\n",
       "      <td>4177.0</td>\n",
       "      <td>16559.0</td>\n",
       "      <td>27936.0</td>\n",
       "      <td>1984660.0</td>\n",
       "      <td>CN</td>\n",
       "      <td>-4.35795</td>\n",
       "      <td>-4.15975</td>\n",
       "      <td>2005-09-08</td>\n",
       "      <td>0.0</td>\n",
       "      <td>10.67</td>\n",
       "      <td>18.67</td>\n",
       "      <td>5.0</td>\n",
       "      <td>28</td>\n",
       "      <td>44.0</td>\n",
       "      <td>4.0</td>\n",
       "      <td>6.0</td>\n",
       "      <td>54.5455</td>\n",
       "      <td>10.0</td>\n",
       "      <td>34.0</td>\n",
       "      <td>112.0</td>\n",
       "      <td>0.0</td>\n",
       "      <td>-4.35795</td>\n",
       "      <td>-4.15975</td>\n",
       "      <td>NaN</td>\n",
       "      <td>Cross-Sectional FreeSurfer (FreeSurfer Version...</td>\n",
       "      <td>118233.0</td>\n",
       "      <td>8336.0</td>\n",
       "      <td>1229740.0</td>\n",
       "      <td>4177.0</td>\n",
       "      <td>16559.0</td>\n",
       "      <td>27936.0</td>\n",
       "      <td>1984660.0</td>\n",
       "      <td>NaN</td>\n",
       "      <td>NaN</td>\n",
       "      <td>NaN</td>\n",
       "      <td>NaN</td>\n",
       "      <td>NaN</td>\n",
       "      <td>NaN</td>\n",
       "      <td>NaN</td>\n",
       "      <td>NaN</td>\n",
       "      <td>NaN</td>\n",
       "      <td>NaN</td>\n",
       "      <td>NaN</td>\n",
       "      <td>NaN</td>\n",
       "      <td>NaN</td>\n",
       "      <td>NaN</td>\n",
       "      <td>NaN</td>\n",
       "      <td>NaN</td>\n",
       "      <td>NaN</td>\n",
       "      <td>NaN</td>\n",
       "      <td>1.36665</td>\n",
       "      <td>NaN</td>\n",
       "      <td>NaN</td>\n",
       "      <td>0.000000</td>\n",
       "      <td>0.00000</td>\n",
       "      <td>0</td>\n",
       "      <td>0</td>\n",
       "      <td>2018-11-08 22:51:22.0</td>\n",
       "    </tr>\n",
       "    <tr>\n",
       "      <th>1</th>\n",
       "      <td>3</td>\n",
       "      <td>011_S_0003</td>\n",
       "      <td>bl</td>\n",
       "      <td>11</td>\n",
       "      <td>ADNI1</td>\n",
       "      <td>ADNI1</td>\n",
       "      <td>2005-09-12</td>\n",
       "      <td>AD</td>\n",
       "      <td>81.3</td>\n",
       "      <td>Male</td>\n",
       "      <td>18</td>\n",
       "      <td>Not Hisp/Latino</td>\n",
       "      <td>White</td>\n",
       "      <td>Married</td>\n",
       "      <td>1.0</td>\n",
       "      <td>1.08355</td>\n",
       "      <td>NaN</td>\n",
       "      <td>NaN</td>\n",
       "      <td>741.5</td>\n",
       "      <td>239.7</td>\n",
       "      <td>22.83</td>\n",
       "      <td>4.5</td>\n",
       "      <td>22.00</td>\n",
       "      <td>31.00</td>\n",
       "      <td>8.0</td>\n",
       "      <td>20.0</td>\n",
       "      <td>22.0</td>\n",
       "      <td>1.0</td>\n",
       "      <td>4.0</td>\n",
       "      <td>100.0000</td>\n",
       "      <td>2.0</td>\n",
       "      <td>25.0</td>\n",
       "      <td>148.0</td>\n",
       "      <td>10.0</td>\n",
       "      <td>NaN</td>\n",
       "      <td>NaN</td>\n",
       "      <td>NaN</td>\n",
       "      <td>NaN</td>\n",
       "      <td>NaN</td>\n",
       "      <td>NaN</td>\n",
       "      <td>NaN</td>\n",
       "      <td>NaN</td>\n",
       "      <td>NaN</td>\n",
       "      <td>NaN</td>\n",
       "      <td>NaN</td>\n",
       "      <td>NaN</td>\n",
       "      <td>NaN</td>\n",
       "      <td>NaN</td>\n",
       "      <td>NaN</td>\n",
       "      <td>NaN</td>\n",
       "      <td>Cross-Sectional FreeSurfer (FreeSurfer Version...</td>\n",
       "      <td>32237.0</td>\n",
       "      <td>84599.0</td>\n",
       "      <td>5319.0</td>\n",
       "      <td>1129830.0</td>\n",
       "      <td>1791.0</td>\n",
       "      <td>15506.0</td>\n",
       "      <td>18422.0</td>\n",
       "      <td>1920690.0</td>\n",
       "      <td>Dementia</td>\n",
       "      <td>-16.58450</td>\n",
       "      <td>-16.16580</td>\n",
       "      <td>2005-09-12</td>\n",
       "      <td>4.5</td>\n",
       "      <td>22.00</td>\n",
       "      <td>31.00</td>\n",
       "      <td>8.0</td>\n",
       "      <td>20</td>\n",
       "      <td>22.0</td>\n",
       "      <td>1.0</td>\n",
       "      <td>4.0</td>\n",
       "      <td>100.0000</td>\n",
       "      <td>2.0</td>\n",
       "      <td>25.0</td>\n",
       "      <td>148.0</td>\n",
       "      <td>10.0</td>\n",
       "      <td>-16.58450</td>\n",
       "      <td>-16.16580</td>\n",
       "      <td>NaN</td>\n",
       "      <td>Cross-Sectional FreeSurfer (FreeSurfer Version...</td>\n",
       "      <td>84599.0</td>\n",
       "      <td>5319.0</td>\n",
       "      <td>1129830.0</td>\n",
       "      <td>1791.0</td>\n",
       "      <td>15506.0</td>\n",
       "      <td>18422.0</td>\n",
       "      <td>1920690.0</td>\n",
       "      <td>NaN</td>\n",
       "      <td>NaN</td>\n",
       "      <td>NaN</td>\n",
       "      <td>NaN</td>\n",
       "      <td>NaN</td>\n",
       "      <td>NaN</td>\n",
       "      <td>NaN</td>\n",
       "      <td>NaN</td>\n",
       "      <td>NaN</td>\n",
       "      <td>NaN</td>\n",
       "      <td>NaN</td>\n",
       "      <td>NaN</td>\n",
       "      <td>NaN</td>\n",
       "      <td>NaN</td>\n",
       "      <td>NaN</td>\n",
       "      <td>741.5</td>\n",
       "      <td>239.7</td>\n",
       "      <td>22.83</td>\n",
       "      <td>1.08355</td>\n",
       "      <td>NaN</td>\n",
       "      <td>NaN</td>\n",
       "      <td>0.000000</td>\n",
       "      <td>0.00000</td>\n",
       "      <td>0</td>\n",
       "      <td>0</td>\n",
       "      <td>2018-11-08 22:51:22.0</td>\n",
       "    </tr>\n",
       "    <tr>\n",
       "      <th>2</th>\n",
       "      <td>3</td>\n",
       "      <td>011_S_0003</td>\n",
       "      <td>m06</td>\n",
       "      <td>11</td>\n",
       "      <td>ADNI1</td>\n",
       "      <td>ADNI1</td>\n",
       "      <td>2006-03-13</td>\n",
       "      <td>AD</td>\n",
       "      <td>81.3</td>\n",
       "      <td>Male</td>\n",
       "      <td>18</td>\n",
       "      <td>Not Hisp/Latino</td>\n",
       "      <td>White</td>\n",
       "      <td>Married</td>\n",
       "      <td>1.0</td>\n",
       "      <td>1.05803</td>\n",
       "      <td>NaN</td>\n",
       "      <td>NaN</td>\n",
       "      <td>NaN</td>\n",
       "      <td>NaN</td>\n",
       "      <td>NaN</td>\n",
       "      <td>6.0</td>\n",
       "      <td>19.00</td>\n",
       "      <td>30.00</td>\n",
       "      <td>10.0</td>\n",
       "      <td>24.0</td>\n",
       "      <td>19.0</td>\n",
       "      <td>2.0</td>\n",
       "      <td>6.0</td>\n",
       "      <td>100.0000</td>\n",
       "      <td>NaN</td>\n",
       "      <td>19.0</td>\n",
       "      <td>135.0</td>\n",
       "      <td>12.0</td>\n",
       "      <td>NaN</td>\n",
       "      <td>NaN</td>\n",
       "      <td>NaN</td>\n",
       "      <td>NaN</td>\n",
       "      <td>NaN</td>\n",
       "      <td>NaN</td>\n",
       "      <td>NaN</td>\n",
       "      <td>NaN</td>\n",
       "      <td>NaN</td>\n",
       "      <td>NaN</td>\n",
       "      <td>NaN</td>\n",
       "      <td>NaN</td>\n",
       "      <td>NaN</td>\n",
       "      <td>NaN</td>\n",
       "      <td>NaN</td>\n",
       "      <td>NaN</td>\n",
       "      <td>Cross-Sectional FreeSurfer (FreeSurfer Version...</td>\n",
       "      <td>31863.0</td>\n",
       "      <td>88580.0</td>\n",
       "      <td>5446.0</td>\n",
       "      <td>1100060.0</td>\n",
       "      <td>2427.0</td>\n",
       "      <td>14400.0</td>\n",
       "      <td>16972.0</td>\n",
       "      <td>1906430.0</td>\n",
       "      <td>Dementia</td>\n",
       "      <td>-15.02030</td>\n",
       "      <td>-13.38660</td>\n",
       "      <td>2005-09-12</td>\n",
       "      <td>4.5</td>\n",
       "      <td>22.00</td>\n",
       "      <td>31.00</td>\n",
       "      <td>8.0</td>\n",
       "      <td>20</td>\n",
       "      <td>22.0</td>\n",
       "      <td>1.0</td>\n",
       "      <td>4.0</td>\n",
       "      <td>100.0000</td>\n",
       "      <td>2.0</td>\n",
       "      <td>25.0</td>\n",
       "      <td>148.0</td>\n",
       "      <td>10.0</td>\n",
       "      <td>-16.58450</td>\n",
       "      <td>-16.16580</td>\n",
       "      <td>NaN</td>\n",
       "      <td>Cross-Sectional FreeSurfer (FreeSurfer Version...</td>\n",
       "      <td>84599.0</td>\n",
       "      <td>5319.0</td>\n",
       "      <td>1129830.0</td>\n",
       "      <td>1791.0</td>\n",
       "      <td>15506.0</td>\n",
       "      <td>18422.0</td>\n",
       "      <td>1920690.0</td>\n",
       "      <td>NaN</td>\n",
       "      <td>NaN</td>\n",
       "      <td>NaN</td>\n",
       "      <td>NaN</td>\n",
       "      <td>NaN</td>\n",
       "      <td>NaN</td>\n",
       "      <td>NaN</td>\n",
       "      <td>NaN</td>\n",
       "      <td>NaN</td>\n",
       "      <td>NaN</td>\n",
       "      <td>NaN</td>\n",
       "      <td>NaN</td>\n",
       "      <td>NaN</td>\n",
       "      <td>NaN</td>\n",
       "      <td>NaN</td>\n",
       "      <td>741.5</td>\n",
       "      <td>239.7</td>\n",
       "      <td>22.83</td>\n",
       "      <td>1.08355</td>\n",
       "      <td>NaN</td>\n",
       "      <td>NaN</td>\n",
       "      <td>0.498289</td>\n",
       "      <td>5.96721</td>\n",
       "      <td>6</td>\n",
       "      <td>6</td>\n",
       "      <td>2018-11-08 22:51:22.0</td>\n",
       "    </tr>\n",
       "    <tr>\n",
       "      <th>3</th>\n",
       "      <td>3</td>\n",
       "      <td>011_S_0003</td>\n",
       "      <td>m12</td>\n",
       "      <td>11</td>\n",
       "      <td>ADNI1</td>\n",
       "      <td>ADNI1</td>\n",
       "      <td>2006-09-12</td>\n",
       "      <td>AD</td>\n",
       "      <td>81.3</td>\n",
       "      <td>Male</td>\n",
       "      <td>18</td>\n",
       "      <td>Not Hisp/Latino</td>\n",
       "      <td>White</td>\n",
       "      <td>Married</td>\n",
       "      <td>1.0</td>\n",
       "      <td>1.09690</td>\n",
       "      <td>NaN</td>\n",
       "      <td>NaN</td>\n",
       "      <td>601.4</td>\n",
       "      <td>251.7</td>\n",
       "      <td>24.18</td>\n",
       "      <td>3.5</td>\n",
       "      <td>24.00</td>\n",
       "      <td>35.00</td>\n",
       "      <td>10.0</td>\n",
       "      <td>17.0</td>\n",
       "      <td>31.0</td>\n",
       "      <td>2.0</td>\n",
       "      <td>7.0</td>\n",
       "      <td>100.0000</td>\n",
       "      <td>0.0</td>\n",
       "      <td>21.0</td>\n",
       "      <td>126.0</td>\n",
       "      <td>17.0</td>\n",
       "      <td>NaN</td>\n",
       "      <td>NaN</td>\n",
       "      <td>NaN</td>\n",
       "      <td>NaN</td>\n",
       "      <td>NaN</td>\n",
       "      <td>NaN</td>\n",
       "      <td>NaN</td>\n",
       "      <td>NaN</td>\n",
       "      <td>NaN</td>\n",
       "      <td>NaN</td>\n",
       "      <td>NaN</td>\n",
       "      <td>NaN</td>\n",
       "      <td>NaN</td>\n",
       "      <td>NaN</td>\n",
       "      <td>NaN</td>\n",
       "      <td>NaN</td>\n",
       "      <td>Cross-Sectional FreeSurfer (FreeSurfer Version...</td>\n",
       "      <td>35576.0</td>\n",
       "      <td>90099.0</td>\n",
       "      <td>5157.0</td>\n",
       "      <td>1095640.0</td>\n",
       "      <td>1596.0</td>\n",
       "      <td>14617.0</td>\n",
       "      <td>17330.0</td>\n",
       "      <td>1903820.0</td>\n",
       "      <td>Dementia</td>\n",
       "      <td>-21.41690</td>\n",
       "      <td>-20.22380</td>\n",
       "      <td>2005-09-12</td>\n",
       "      <td>4.5</td>\n",
       "      <td>22.00</td>\n",
       "      <td>31.00</td>\n",
       "      <td>8.0</td>\n",
       "      <td>20</td>\n",
       "      <td>22.0</td>\n",
       "      <td>1.0</td>\n",
       "      <td>4.0</td>\n",
       "      <td>100.0000</td>\n",
       "      <td>2.0</td>\n",
       "      <td>25.0</td>\n",
       "      <td>148.0</td>\n",
       "      <td>10.0</td>\n",
       "      <td>-16.58450</td>\n",
       "      <td>-16.16580</td>\n",
       "      <td>NaN</td>\n",
       "      <td>Cross-Sectional FreeSurfer (FreeSurfer Version...</td>\n",
       "      <td>84599.0</td>\n",
       "      <td>5319.0</td>\n",
       "      <td>1129830.0</td>\n",
       "      <td>1791.0</td>\n",
       "      <td>15506.0</td>\n",
       "      <td>18422.0</td>\n",
       "      <td>1920690.0</td>\n",
       "      <td>NaN</td>\n",
       "      <td>NaN</td>\n",
       "      <td>NaN</td>\n",
       "      <td>NaN</td>\n",
       "      <td>NaN</td>\n",
       "      <td>NaN</td>\n",
       "      <td>NaN</td>\n",
       "      <td>NaN</td>\n",
       "      <td>NaN</td>\n",
       "      <td>NaN</td>\n",
       "      <td>NaN</td>\n",
       "      <td>NaN</td>\n",
       "      <td>NaN</td>\n",
       "      <td>NaN</td>\n",
       "      <td>NaN</td>\n",
       "      <td>741.5</td>\n",
       "      <td>239.7</td>\n",
       "      <td>22.83</td>\n",
       "      <td>1.08355</td>\n",
       "      <td>NaN</td>\n",
       "      <td>NaN</td>\n",
       "      <td>0.999316</td>\n",
       "      <td>11.96720</td>\n",
       "      <td>12</td>\n",
       "      <td>12</td>\n",
       "      <td>2018-11-08 22:51:22.0</td>\n",
       "    </tr>\n",
       "  </tbody>\n",
       "</table>\n",
       "</div>"
      ],
      "text/plain": [
       "   RID        PTID VISCODE  SITE COLPROT ORIGPROT    EXAMDATE DX_bl   AGE  \\\n",
       "0    2  011_S_0002      bl    11   ADNI1    ADNI1  2005-09-08    CN  74.3   \n",
       "1    3  011_S_0003      bl    11   ADNI1    ADNI1  2005-09-12    AD  81.3   \n",
       "2    3  011_S_0003     m06    11   ADNI1    ADNI1  2006-03-13    AD  81.3   \n",
       "3    3  011_S_0003     m12    11   ADNI1    ADNI1  2006-09-12    AD  81.3   \n",
       "\n",
       "  PTGENDER  PTEDUCAT         PTETHCAT PTRACCAT  PTMARRY  APOE4      FDG  PIB  \\\n",
       "0     Male        16  Not Hisp/Latino    White  Married    0.0  1.36665  NaN   \n",
       "1     Male        18  Not Hisp/Latino    White  Married    1.0  1.08355  NaN   \n",
       "2     Male        18  Not Hisp/Latino    White  Married    1.0  1.05803  NaN   \n",
       "3     Male        18  Not Hisp/Latino    White  Married    1.0  1.09690  NaN   \n",
       "\n",
       "   AV45  ABETA    TAU   PTAU  CDRSB  ADAS11  ADAS13  ADASQ4  MMSE  \\\n",
       "0   NaN    NaN    NaN    NaN    0.0   10.67   18.67     5.0  28.0   \n",
       "1   NaN  741.5  239.7  22.83    4.5   22.00   31.00     8.0  20.0   \n",
       "2   NaN    NaN    NaN    NaN    6.0   19.00   30.00    10.0  24.0   \n",
       "3   NaN  601.4  251.7  24.18    3.5   24.00   35.00    10.0  17.0   \n",
       "\n",
       "   RAVLT_immediate  RAVLT_learning  RAVLT_forgetting  RAVLT_perc_forgetting  \\\n",
       "0             44.0             4.0               6.0                54.5455   \n",
       "1             22.0             1.0               4.0               100.0000   \n",
       "2             19.0             2.0               6.0               100.0000   \n",
       "3             31.0             2.0               7.0               100.0000   \n",
       "\n",
       "   LDELTOTAL  DIGITSCOR  TRABSCOR   FAQ  MOCA  EcogPtMem  EcogPtLang  \\\n",
       "0       10.0       34.0     112.0   0.0   NaN        NaN         NaN   \n",
       "1        2.0       25.0     148.0  10.0   NaN        NaN         NaN   \n",
       "2        NaN       19.0     135.0  12.0   NaN        NaN         NaN   \n",
       "3        0.0       21.0     126.0  17.0   NaN        NaN         NaN   \n",
       "\n",
       "   EcogPtVisspat  EcogPtPlan  EcogPtOrgan  EcogPtDivatt  EcogPtTotal  \\\n",
       "0            NaN         NaN          NaN           NaN          NaN   \n",
       "1            NaN         NaN          NaN           NaN          NaN   \n",
       "2            NaN         NaN          NaN           NaN          NaN   \n",
       "3            NaN         NaN          NaN           NaN          NaN   \n",
       "\n",
       "   EcogSPMem  EcogSPLang  EcogSPVisspat  EcogSPPlan  EcogSPOrgan  \\\n",
       "0        NaN         NaN            NaN         NaN          NaN   \n",
       "1        NaN         NaN            NaN         NaN          NaN   \n",
       "2        NaN         NaN            NaN         NaN          NaN   \n",
       "3        NaN         NaN            NaN         NaN          NaN   \n",
       "\n",
       "   EcogSPDivatt  EcogSPTotal  FLDSTRENG  \\\n",
       "0           NaN          NaN        NaN   \n",
       "1           NaN          NaN        NaN   \n",
       "2           NaN          NaN        NaN   \n",
       "3           NaN          NaN        NaN   \n",
       "\n",
       "                                           FSVERSION  IMAGEUID  Ventricles  \\\n",
       "0  Cross-Sectional FreeSurfer (FreeSurfer Version...   35475.0    118233.0   \n",
       "1  Cross-Sectional FreeSurfer (FreeSurfer Version...   32237.0     84599.0   \n",
       "2  Cross-Sectional FreeSurfer (FreeSurfer Version...   31863.0     88580.0   \n",
       "3  Cross-Sectional FreeSurfer (FreeSurfer Version...   35576.0     90099.0   \n",
       "\n",
       "   Hippocampus  WholeBrain  Entorhinal  Fusiform  MidTemp        ICV  \\\n",
       "0       8336.0   1229740.0      4177.0   16559.0  27936.0  1984660.0   \n",
       "1       5319.0   1129830.0      1791.0   15506.0  18422.0  1920690.0   \n",
       "2       5446.0   1100060.0      2427.0   14400.0  16972.0  1906430.0   \n",
       "3       5157.0   1095640.0      1596.0   14617.0  17330.0  1903820.0   \n",
       "\n",
       "         DX  mPACCdigit  mPACCtrailsB EXAMDATE_bl  CDRSB_bl  ADAS11_bl  \\\n",
       "0        CN    -4.35795      -4.15975  2005-09-08       0.0      10.67   \n",
       "1  Dementia   -16.58450     -16.16580  2005-09-12       4.5      22.00   \n",
       "2  Dementia   -15.02030     -13.38660  2005-09-12       4.5      22.00   \n",
       "3  Dementia   -21.41690     -20.22380  2005-09-12       4.5      22.00   \n",
       "\n",
       "   ADAS13_bl  ADASQ4_bl  MMSE_bl  RAVLT_immediate_bl  RAVLT_learning_bl  \\\n",
       "0      18.67        5.0       28                44.0                4.0   \n",
       "1      31.00        8.0       20                22.0                1.0   \n",
       "2      31.00        8.0       20                22.0                1.0   \n",
       "3      31.00        8.0       20                22.0                1.0   \n",
       "\n",
       "   RAVLT_forgetting_bl  RAVLT_perc_forgetting_bl  LDELTOTAL_BL  DIGITSCOR_bl  \\\n",
       "0                  6.0                   54.5455          10.0          34.0   \n",
       "1                  4.0                  100.0000           2.0          25.0   \n",
       "2                  4.0                  100.0000           2.0          25.0   \n",
       "3                  4.0                  100.0000           2.0          25.0   \n",
       "\n",
       "   TRABSCOR_bl  FAQ_bl  mPACCdigit_bl  mPACCtrailsB_bl  FLDSTRENG_bl  \\\n",
       "0        112.0     0.0       -4.35795         -4.15975           NaN   \n",
       "1        148.0    10.0      -16.58450        -16.16580           NaN   \n",
       "2        148.0    10.0      -16.58450        -16.16580           NaN   \n",
       "3        148.0    10.0      -16.58450        -16.16580           NaN   \n",
       "\n",
       "                                        FSVERSION_bl  Ventricles_bl  \\\n",
       "0  Cross-Sectional FreeSurfer (FreeSurfer Version...       118233.0   \n",
       "1  Cross-Sectional FreeSurfer (FreeSurfer Version...        84599.0   \n",
       "2  Cross-Sectional FreeSurfer (FreeSurfer Version...        84599.0   \n",
       "3  Cross-Sectional FreeSurfer (FreeSurfer Version...        84599.0   \n",
       "\n",
       "   Hippocampus_bl  WholeBrain_bl  Entorhinal_bl  Fusiform_bl  MidTemp_bl  \\\n",
       "0          8336.0      1229740.0         4177.0      16559.0     27936.0   \n",
       "1          5319.0      1129830.0         1791.0      15506.0     18422.0   \n",
       "2          5319.0      1129830.0         1791.0      15506.0     18422.0   \n",
       "3          5319.0      1129830.0         1791.0      15506.0     18422.0   \n",
       "\n",
       "      ICV_bl  MOCA_bl  EcogPtMem_bl  EcogPtLang_bl  EcogPtVisspat_bl  \\\n",
       "0  1984660.0      NaN           NaN            NaN               NaN   \n",
       "1  1920690.0      NaN           NaN            NaN               NaN   \n",
       "2  1920690.0      NaN           NaN            NaN               NaN   \n",
       "3  1920690.0      NaN           NaN            NaN               NaN   \n",
       "\n",
       "   EcogPtPlan_bl  EcogPtOrgan_bl  EcogPtDivatt_bl  EcogPtTotal_bl  \\\n",
       "0            NaN             NaN              NaN             NaN   \n",
       "1            NaN             NaN              NaN             NaN   \n",
       "2            NaN             NaN              NaN             NaN   \n",
       "3            NaN             NaN              NaN             NaN   \n",
       "\n",
       "   EcogSPMem_bl  EcogSPLang_bl  EcogSPVisspat_bl  EcogSPPlan_bl  \\\n",
       "0           NaN            NaN               NaN            NaN   \n",
       "1           NaN            NaN               NaN            NaN   \n",
       "2           NaN            NaN               NaN            NaN   \n",
       "3           NaN            NaN               NaN            NaN   \n",
       "\n",
       "   EcogSPOrgan_bl  EcogSPDivatt_bl  EcogSPTotal_bl ABETA_bl TAU_bl PTAU_bl  \\\n",
       "0             NaN              NaN             NaN      NaN    NaN     NaN   \n",
       "1             NaN              NaN             NaN    741.5  239.7   22.83   \n",
       "2             NaN              NaN             NaN    741.5  239.7   22.83   \n",
       "3             NaN              NaN             NaN    741.5  239.7   22.83   \n",
       "\n",
       "    FDG_bl  PIB_bl  AV45_bl  Years_bl  Month_bl  Month   M  \\\n",
       "0  1.36665     NaN      NaN  0.000000   0.00000      0   0   \n",
       "1  1.08355     NaN      NaN  0.000000   0.00000      0   0   \n",
       "2  1.08355     NaN      NaN  0.498289   5.96721      6   6   \n",
       "3  1.08355     NaN      NaN  0.999316  11.96720     12  12   \n",
       "\n",
       "            update_stamp  \n",
       "0  2018-11-08 22:51:22.0  \n",
       "1  2018-11-08 22:51:22.0  \n",
       "2  2018-11-08 22:51:22.0  \n",
       "3  2018-11-08 22:51:22.0  "
      ]
     },
     "execution_count": 2,
     "metadata": {},
     "output_type": "execute_result"
    }
   ],
   "source": [
    "adni_df = pd.read_csv('../data/ADNIMERGE.csv')\n",
    "print(\"The shape of ADNIMERGE.csv\",  adni_df.shape)\n",
    "adni_df.head(4)"
   ]
  },
  {
   "cell_type": "code",
   "execution_count": 3,
   "metadata": {
    "colab": {
     "base_uri": "https://localhost:8080/",
     "height": 221
    },
    "colab_type": "code",
    "executionInfo": {
     "elapsed": 3041,
     "status": "ok",
     "timestamp": 1544659618916,
     "user": {
      "displayName": "Robbert Struyven",
      "photoUrl": "https://lh5.googleusercontent.com/-6QIbKl4FwZI/AAAAAAAAAAI/AAAAAAAAAAc/MZzIFCOiLj8/s64/photo.jpg",
      "userId": "15638207437883965838"
     },
     "user_tz": 300
    },
    "hide": true,
    "id": "YNXnhFmUiCTS",
    "outputId": "221cfd03-5a32-4d43-8f2f-c55a2a0b431e"
   },
   "outputs": [
    {
     "data": {
      "text/plain": [
       "LMCI    4819\n",
       "CN      4125\n",
       "EMCI    2488\n",
       "AD      1576\n",
       "SMC      648\n",
       "NONE      17\n",
       "Name: DX_bl, dtype: int64"
      ]
     },
     "metadata": {},
     "output_type": "display_data"
    },
    {
     "data": {
      "text/plain": [
       "MCI         4288\n",
       "NONE        3982\n",
       "CN          3223\n",
       "Dementia    2180\n",
       "Name: DX, dtype: int64"
      ]
     },
     "metadata": {},
     "output_type": "display_data"
    }
   ],
   "source": [
    "adni_df['DX_bl'].fillna('NONE', inplace=True)\n",
    "adni_df['DX'].fillna('NONE', inplace=True)\n",
    "display(adni_df['DX_bl'].value_counts())\n",
    "display(adni_df['DX'].value_counts())"
   ]
  },
  {
   "cell_type": "code",
   "execution_count": 4,
   "metadata": {
    "colab": {
     "base_uri": "https://localhost:8080/",
     "height": 51
    },
    "colab_type": "code",
    "executionInfo": {
     "elapsed": 3016,
     "status": "ok",
     "timestamp": 1544659618917,
     "user": {
      "displayName": "Robbert Struyven",
      "photoUrl": "https://lh5.googleusercontent.com/-6QIbKl4FwZI/AAAAAAAAAAI/AAAAAAAAAAc/MZzIFCOiLj8/s64/photo.jpg",
      "userId": "15638207437883965838"
     },
     "user_tz": 300
    },
    "hide": true,
    "id": "jtjSAyZEiLrD",
    "outputId": "f9508752-b303-435e-99dd-8da85b0ea097"
   },
   "outputs": [
    {
     "name": "stdout",
     "output_type": "stream",
     "text": [
      "['CN' 'AD' 'LMCI']\n",
      "['CN' 'Dementia' 'MCI' 'NONE']\n"
     ]
    }
   ],
   "source": [
    "adni1_df = adni_df[adni_df['ORIGPROT'] == 'ADNI1'].copy()\n",
    "df = adni1_df.copy()\n",
    "print(df['DX_bl'].unique())\n",
    "print(df['DX'].unique())"
   ]
  },
  {
   "cell_type": "code",
   "execution_count": 5,
   "metadata": {
    "colab": {
     "base_uri": "https://localhost:8080/",
     "height": 68
    },
    "colab_type": "code",
    "executionInfo": {
     "elapsed": 2996,
     "status": "ok",
     "timestamp": 1544659618918,
     "user": {
      "displayName": "Robbert Struyven",
      "photoUrl": "https://lh5.googleusercontent.com/-6QIbKl4FwZI/AAAAAAAAAAI/AAAAAAAAAAc/MZzIFCOiLj8/s64/photo.jpg",
      "userId": "15638207437883965838"
     },
     "user_tz": 300
    },
    "hide": true,
    "id": "u5BzMcVfiZl-",
    "outputId": "636cbd0a-0f01-4670-8fb3-2b8905655aab"
   },
   "outputs": [
    {
     "name": "stdout",
     "output_type": "stream",
     "text": [
      "Before dropping:  (7066, 113)\n",
      "After dropping:  (5059, 113)\n",
      "['CN' 'Dementia' 'MCI']\n"
     ]
    }
   ],
   "source": [
    "print('Before dropping: ' , df.shape)\n",
    "df['DX'] = df['DX'].replace(to_replace='NONE', value=np.nan)\n",
    "df=df.dropna(axis=0, subset=['DX'])\n",
    "print('After dropping: ' , df.shape)\n",
    "print(df['DX'].unique())"
   ]
  },
  {
   "cell_type": "markdown",
   "metadata": {
    "colab_type": "text",
    "id": "t1-2P5OlfMA7"
   },
   "source": [
    "## 1.1 Limit your data for each individual to their last visit and baseline information"
   ]
  },
  {
   "cell_type": "code",
   "execution_count": 6,
   "metadata": {
    "colab": {
     "base_uri": "https://localhost:8080/",
     "height": 204
    },
    "colab_type": "code",
    "executionInfo": {
     "elapsed": 2974,
     "status": "ok",
     "timestamp": 1544659618919,
     "user": {
      "displayName": "Robbert Struyven",
      "photoUrl": "https://lh5.googleusercontent.com/-6QIbKl4FwZI/AAAAAAAAAAI/AAAAAAAAAAc/MZzIFCOiLj8/s64/photo.jpg",
      "userId": "15638207437883965838"
     },
     "user_tz": 300
    },
    "hide": true,
    "id": "sOkBolg-vawH",
    "outputId": "9c62295b-1510-44b0-e668-84542d2bf2d2"
   },
   "outputs": [
    {
     "data": {
      "text/plain": [
       "0          0\n",
       "5109       6\n",
       "5110      36\n",
       "5111      60\n",
       "11174    120\n",
       "11177     96\n",
       "11179     84\n",
       "11181     72\n",
       "11445    132\n",
       "11446    144\n",
       "Name: M, dtype: int64"
      ]
     },
     "execution_count": 6,
     "metadata": {},
     "output_type": "execute_result"
    }
   ],
   "source": [
    "# All the different visits for our first patient ID\n",
    "# df[df.PTID=='011_S_0002' ]['M']"
   ]
  },
  {
   "cell_type": "code",
   "execution_count": 7,
   "metadata": {
    "colab": {
     "base_uri": "https://localhost:8080/",
     "height": 34
    },
    "colab_type": "code",
    "executionInfo": {
     "elapsed": 2959,
     "status": "ok",
     "timestamp": 1544659618920,
     "user": {
      "displayName": "Robbert Struyven",
      "photoUrl": "https://lh5.googleusercontent.com/-6QIbKl4FwZI/AAAAAAAAAAI/AAAAAAAAAAc/MZzIFCOiLj8/s64/photo.jpg",
      "userId": "15638207437883965838"
     },
     "user_tz": 300
    },
    "hide": true,
    "id": "axYmUr3WqH_m",
    "outputId": "8ac28dfe-4280-4860-e203-89b92623b619"
   },
   "outputs": [
    {
     "data": {
      "text/plain": [
       "819"
      ]
     },
     "execution_count": 7,
     "metadata": {},
     "output_type": "execute_result"
    }
   ],
   "source": [
    "# The different unique patient ID\n",
    "len(df.PTID.unique())"
   ]
  },
  {
   "cell_type": "code",
   "execution_count": 8,
   "metadata": {
    "colab": {
     "base_uri": "https://localhost:8080/",
     "height": 51
    },
    "colab_type": "code",
    "executionInfo": {
     "elapsed": 2947,
     "status": "ok",
     "timestamp": 1544659618921,
     "user": {
      "displayName": "Robbert Struyven",
      "photoUrl": "https://lh5.googleusercontent.com/-6QIbKl4FwZI/AAAAAAAAAAI/AAAAAAAAAAc/MZzIFCOiLj8/s64/photo.jpg",
      "userId": "15638207437883965838"
     },
     "user_tz": 300
    },
    "hide": true,
    "id": "5kKcDaXnG3fw",
    "outputId": "feef87e6-32d4-4d53-e6e3-7bd88464c1b3"
   },
   "outputs": [
    {
     "data": {
      "text/plain": [
       "array([  0,   6,  12,  24,  18,  36,  48,  60,  72, 108,  96,  84, 120,\n",
       "       132, 144, 156])"
      ]
     },
     "execution_count": 8,
     "metadata": {},
     "output_type": "execute_result"
    }
   ],
   "source": [
    "# The different unique patient ID\n",
    "df.M.unique()"
   ]
  },
  {
   "cell_type": "code",
   "execution_count": 9,
   "metadata": {
    "colab": {},
    "colab_type": "code",
    "hide": true,
    "id": "PyEsPRLimxjJ"
   },
   "outputs": [],
   "source": [
    "indexes_last_visit=[]\n",
    "for patient_ids in df.PTID.unique():\n",
    "  latest_visit_M=df[df.PTID==patient_ids]['M'].max()\n",
    "  d=df[ df.PTID==patient_ids ]['M']== latest_visit_M\n",
    "  ind=d.index[-1]\n",
    "  indexes_last_visit.append(ind);\n",
    "  \n",
    "# Only last visits\n",
    "df_last=df.loc[indexes_last_visit]"
   ]
  },
  {
   "cell_type": "code",
   "execution_count": 10,
   "metadata": {
    "colab": {},
    "colab_type": "code",
    "hide": true,
    "id": "c_grBAOExstm"
   },
   "outputs": [],
   "source": [
    "diction_last_DX={}\n",
    "for D in df_last['DX'].unique():\n",
    "  diction_last_DX[D]=df_last[df_last['DX']==D]['M']/12\n",
    "  \n",
    "diction_first_DX={}\n",
    "for D in df_last['DX_bl'].unique():\n",
    "  diction_first_DX[D]=df_last[df_last['DX_bl']==D]['M']/12"
   ]
  },
  {
   "cell_type": "code",
   "execution_count": 11,
   "metadata": {
    "colab": {
     "base_uri": "https://localhost:8080/",
     "height": 293
    },
    "colab_type": "code",
    "executionInfo": {
     "elapsed": 5337,
     "status": "ok",
     "timestamp": 1544659621352,
     "user": {
      "displayName": "Robbert Struyven",
      "photoUrl": "https://lh5.googleusercontent.com/-6QIbKl4FwZI/AAAAAAAAAAI/AAAAAAAAAAc/MZzIFCOiLj8/s64/photo.jpg",
      "userId": "15638207437883965838"
     },
     "user_tz": 300
    },
    "hide": true,
    "id": "sRlRl4I0wv8A",
    "outputId": "103afd6a-2465-4ab1-fa4d-ef78c0a782e1"
   },
   "outputs": [
    {
     "data": {
      "image/png": "[encoded data removed]",
      "text/plain": [
       "<Figure size 936x288 with 2 Axes>"
      ]
     },
     "metadata": {
      "needs_background": "light"
     },
     "output_type": "display_data"
    }
   ],
   "source": [
    "fig, axs= plt.subplots(1,2, figsize=(13,4))\n",
    "ax=axs.ravel()\n",
    "for key, val in diction_first_DX.items():\n",
    "  sns.kdeplot(val, label=key, ax= ax[0])\n",
    "  ax[0].set_title('Time till last visit for each group of Diagnosis on first visit')\n",
    "  ax[0].set_xlabel('Years till last visit')\n",
    "  ax[0].set_ylabel('Normalised probability')\n",
    "  ax[0].legend()\n",
    "for key, val in diction_last_DX.items():\n",
    "  sns.kdeplot(val, label=key, ax= ax[1])\n",
    "  ax[1].set_title('Time till last visit for each group of Diagnosis on last visit')\n",
    "  ax[1].set_xlabel('Years till last visit')\n",
    "  ax[1].set_ylabel('Normalised probability')\n",
    "  ax[1].legend()\n",
    "plt.tight_layout()"
   ]
  },
  {
   "cell_type": "markdown",
   "metadata": {
    "colab_type": "text",
    "id": "sbp4Zu7Mzm0Q"
   },
   "source": [
    "## 1.2 Dropping duplicates and last visit measurements except time and diagnosis \n",
    "- Dropping meaningless/duplicate features \n",
    "- Keep all features of baseline visit\n",
    "- Drop all features of the last visist except time till last visit and diagnosis"
   ]
  },
  {
   "cell_type": "code",
   "execution_count": 12,
   "metadata": {
    "colab": {
     "base_uri": "https://localhost:8080/",
     "height": 258
    },
    "colab_type": "code",
    "executionInfo": {
     "elapsed": 5849,
     "status": "ok",
     "timestamp": 1544659621882,
     "user": {
      "displayName": "Robbert Struyven",
      "photoUrl": "https://lh5.googleusercontent.com/-6QIbKl4FwZI/AAAAAAAAAAI/AAAAAAAAAAc/MZzIFCOiLj8/s64/photo.jpg",
      "userId": "15638207437883965838"
     },
     "user_tz": 300
    },
    "hide": true,
    "id": "jyj-7Hw1jn7t",
    "outputId": "957a0571-a878-4108-a752-ff76d08b2ded"
   },
   "outputs": [
    {
     "data": {
      "text/plain": [
       "(819, 47)"
      ]
     },
     "metadata": {},
     "output_type": "display_data"
    },
    {
     "data": {
      "text/html": [
       "<div>\n",
       "<style scoped>\n",
       "    .dataframe tbody tr th:only-of-type {\n",
       "        vertical-align: middle;\n",
       "    }\n",
       "\n",
       "    .dataframe tbody tr th {\n",
       "        vertical-align: top;\n",
       "    }\n",
       "\n",
       "    .dataframe thead th {\n",
       "        text-align: right;\n",
       "    }\n",
       "</style>\n",
       "<table border=\"1\" class=\"dataframe\">\n",
       "  <thead>\n",
       "    <tr style=\"text-align: right;\">\n",
       "      <th></th>\n",
       "      <th>DX_bl</th>\n",
       "      <th>AGE</th>\n",
       "      <th>PTGENDER_Female</th>\n",
       "      <th>PTEDUCAT</th>\n",
       "      <th>APOE4</th>\n",
       "      <th>DX</th>\n",
       "      <th>CDRSB_bl</th>\n",
       "      <th>ADAS11_bl</th>\n",
       "      <th>ADAS13_bl</th>\n",
       "      <th>ADASQ4_bl</th>\n",
       "      <th>MMSE_bl</th>\n",
       "      <th>RAVLT_immediate_bl</th>\n",
       "      <th>RAVLT_learning_bl</th>\n",
       "      <th>RAVLT_forgetting_bl</th>\n",
       "      <th>RAVLT_perc_forgetting_bl</th>\n",
       "      <th>LDELTOTAL_BL</th>\n",
       "      <th>DIGITSCOR_bl</th>\n",
       "      <th>TRABSCOR_bl</th>\n",
       "      <th>FAQ_bl</th>\n",
       "      <th>mPACCdigit_bl</th>\n",
       "      <th>mPACCtrailsB_bl</th>\n",
       "      <th>Ventricles_bl</th>\n",
       "      <th>Hippocampus_bl</th>\n",
       "      <th>WholeBrain_bl</th>\n",
       "      <th>Entorhinal_bl</th>\n",
       "      <th>Fusiform_bl</th>\n",
       "      <th>MidTemp_bl</th>\n",
       "      <th>ICV_bl</th>\n",
       "      <th>FDG_bl</th>\n",
       "      <th>PIB_bl</th>\n",
       "      <th>M</th>\n",
       "      <th>TAU_bl</th>\n",
       "      <th>ABETA_bl</th>\n",
       "      <th>PTAU_bl</th>\n",
       "      <th>PTETHCAT_Hisp/Latino</th>\n",
       "      <th>PTETHCAT_Not Hisp/Latino</th>\n",
       "      <th>PTETHCAT_Unknown</th>\n",
       "      <th>PTRACCAT_Am Indian/Alaskan</th>\n",
       "      <th>PTRACCAT_Asian</th>\n",
       "      <th>PTRACCAT_Black</th>\n",
       "      <th>PTRACCAT_More than one</th>\n",
       "      <th>PTRACCAT_White</th>\n",
       "      <th>PTMARRY_Divorced</th>\n",
       "      <th>PTMARRY_Married</th>\n",
       "      <th>PTMARRY_Never married</th>\n",
       "      <th>PTMARRY_Unknown</th>\n",
       "      <th>PTMARRY_Widowed</th>\n",
       "    </tr>\n",
       "  </thead>\n",
       "  <tbody>\n",
       "    <tr>\n",
       "      <th>11446</th>\n",
       "      <td>1</td>\n",
       "      <td>74.3</td>\n",
       "      <td>0</td>\n",
       "      <td>16</td>\n",
       "      <td>0.0</td>\n",
       "      <td>2</td>\n",
       "      <td>0.0</td>\n",
       "      <td>10.67</td>\n",
       "      <td>18.67</td>\n",
       "      <td>5.0</td>\n",
       "      <td>28</td>\n",
       "      <td>44.0</td>\n",
       "      <td>4.0</td>\n",
       "      <td>6.0</td>\n",
       "      <td>54.5455</td>\n",
       "      <td>10.0</td>\n",
       "      <td>34.0</td>\n",
       "      <td>112.0</td>\n",
       "      <td>0.0</td>\n",
       "      <td>-4.35795</td>\n",
       "      <td>-4.15975</td>\n",
       "      <td>118233.0</td>\n",
       "      <td>8336.0</td>\n",
       "      <td>1229740.0</td>\n",
       "      <td>4177.0</td>\n",
       "      <td>16559.0</td>\n",
       "      <td>27936.0</td>\n",
       "      <td>1984660.0</td>\n",
       "      <td>1.36665</td>\n",
       "      <td>NaN</td>\n",
       "      <td>144</td>\n",
       "      <td>NaN</td>\n",
       "      <td>NaN</td>\n",
       "      <td>NaN</td>\n",
       "      <td>0</td>\n",
       "      <td>1</td>\n",
       "      <td>0</td>\n",
       "      <td>0</td>\n",
       "      <td>0</td>\n",
       "      <td>0</td>\n",
       "      <td>0</td>\n",
       "      <td>1</td>\n",
       "      <td>0</td>\n",
       "      <td>1</td>\n",
       "      <td>0</td>\n",
       "      <td>0</td>\n",
       "      <td>0</td>\n",
       "    </tr>\n",
       "    <tr>\n",
       "      <th>4</th>\n",
       "      <td>3</td>\n",
       "      <td>81.3</td>\n",
       "      <td>0</td>\n",
       "      <td>18</td>\n",
       "      <td>1.0</td>\n",
       "      <td>3</td>\n",
       "      <td>4.5</td>\n",
       "      <td>22.00</td>\n",
       "      <td>31.00</td>\n",
       "      <td>8.0</td>\n",
       "      <td>20</td>\n",
       "      <td>22.0</td>\n",
       "      <td>1.0</td>\n",
       "      <td>4.0</td>\n",
       "      <td>100.0000</td>\n",
       "      <td>2.0</td>\n",
       "      <td>25.0</td>\n",
       "      <td>148.0</td>\n",
       "      <td>10.0</td>\n",
       "      <td>-16.58450</td>\n",
       "      <td>-16.16580</td>\n",
       "      <td>84599.0</td>\n",
       "      <td>5319.0</td>\n",
       "      <td>1129830.0</td>\n",
       "      <td>1791.0</td>\n",
       "      <td>15506.0</td>\n",
       "      <td>18422.0</td>\n",
       "      <td>1920690.0</td>\n",
       "      <td>1.08355</td>\n",
       "      <td>NaN</td>\n",
       "      <td>24</td>\n",
       "      <td>239.7</td>\n",
       "      <td>741.5</td>\n",
       "      <td>22.83</td>\n",
       "      <td>0</td>\n",
       "      <td>1</td>\n",
       "      <td>0</td>\n",
       "      <td>0</td>\n",
       "      <td>0</td>\n",
       "      <td>0</td>\n",
       "      <td>0</td>\n",
       "      <td>1</td>\n",
       "      <td>0</td>\n",
       "      <td>1</td>\n",
       "      <td>0</td>\n",
       "      <td>0</td>\n",
       "      <td>0</td>\n",
       "    </tr>\n",
       "    <tr>\n",
       "      <th>9</th>\n",
       "      <td>2</td>\n",
       "      <td>67.5</td>\n",
       "      <td>0</td>\n",
       "      <td>10</td>\n",
       "      <td>0.0</td>\n",
       "      <td>2</td>\n",
       "      <td>1.0</td>\n",
       "      <td>14.33</td>\n",
       "      <td>21.33</td>\n",
       "      <td>6.0</td>\n",
       "      <td>27</td>\n",
       "      <td>37.0</td>\n",
       "      <td>7.0</td>\n",
       "      <td>4.0</td>\n",
       "      <td>36.3636</td>\n",
       "      <td>4.0</td>\n",
       "      <td>25.0</td>\n",
       "      <td>271.0</td>\n",
       "      <td>0.0</td>\n",
       "      <td>-8.49902</td>\n",
       "      <td>-9.52048</td>\n",
       "      <td>39605.0</td>\n",
       "      <td>6869.0</td>\n",
       "      <td>1154980.0</td>\n",
       "      <td>3983.0</td>\n",
       "      <td>19036.0</td>\n",
       "      <td>19615.0</td>\n",
       "      <td>1679440.0</td>\n",
       "      <td>NaN</td>\n",
       "      <td>NaN</td>\n",
       "      <td>36</td>\n",
       "      <td>153.1</td>\n",
       "      <td>1501.0</td>\n",
       "      <td>13.29</td>\n",
       "      <td>1</td>\n",
       "      <td>0</td>\n",
       "      <td>0</td>\n",
       "      <td>0</td>\n",
       "      <td>0</td>\n",
       "      <td>0</td>\n",
       "      <td>0</td>\n",
       "      <td>1</td>\n",
       "      <td>0</td>\n",
       "      <td>1</td>\n",
       "      <td>0</td>\n",
       "      <td>0</td>\n",
       "      <td>0</td>\n",
       "    </tr>\n",
       "    <tr>\n",
       "      <th>14</th>\n",
       "      <td>1</td>\n",
       "      <td>73.7</td>\n",
       "      <td>0</td>\n",
       "      <td>16</td>\n",
       "      <td>0.0</td>\n",
       "      <td>1</td>\n",
       "      <td>0.0</td>\n",
       "      <td>8.67</td>\n",
       "      <td>14.67</td>\n",
       "      <td>4.0</td>\n",
       "      <td>29</td>\n",
       "      <td>37.0</td>\n",
       "      <td>4.0</td>\n",
       "      <td>4.0</td>\n",
       "      <td>44.4444</td>\n",
       "      <td>12.0</td>\n",
       "      <td>38.0</td>\n",
       "      <td>90.0</td>\n",
       "      <td>0.0</td>\n",
       "      <td>-1.90246</td>\n",
       "      <td>-1.57826</td>\n",
       "      <td>34062.0</td>\n",
       "      <td>7075.0</td>\n",
       "      <td>1116630.0</td>\n",
       "      <td>4433.0</td>\n",
       "      <td>24788.0</td>\n",
       "      <td>21614.0</td>\n",
       "      <td>1640770.0</td>\n",
       "      <td>1.29343</td>\n",
       "      <td>NaN</td>\n",
       "      <td>36</td>\n",
       "      <td>337.0</td>\n",
       "      <td>547.3</td>\n",
       "      <td>33.43</td>\n",
       "      <td>0</td>\n",
       "      <td>1</td>\n",
       "      <td>0</td>\n",
       "      <td>0</td>\n",
       "      <td>0</td>\n",
       "      <td>0</td>\n",
       "      <td>0</td>\n",
       "      <td>1</td>\n",
       "      <td>0</td>\n",
       "      <td>1</td>\n",
       "      <td>0</td>\n",
       "      <td>0</td>\n",
       "      <td>0</td>\n",
       "    </tr>\n",
       "    <tr>\n",
       "      <th>5122</th>\n",
       "      <td>2</td>\n",
       "      <td>80.4</td>\n",
       "      <td>1</td>\n",
       "      <td>13</td>\n",
       "      <td>0.0</td>\n",
       "      <td>2</td>\n",
       "      <td>0.5</td>\n",
       "      <td>18.67</td>\n",
       "      <td>25.67</td>\n",
       "      <td>7.0</td>\n",
       "      <td>25</td>\n",
       "      <td>30.0</td>\n",
       "      <td>1.0</td>\n",
       "      <td>5.0</td>\n",
       "      <td>83.3333</td>\n",
       "      <td>3.0</td>\n",
       "      <td>34.0</td>\n",
       "      <td>168.0</td>\n",
       "      <td>0.0</td>\n",
       "      <td>-10.29260</td>\n",
       "      <td>-11.05750</td>\n",
       "      <td>39826.0</td>\n",
       "      <td>5348.0</td>\n",
       "      <td>927510.0</td>\n",
       "      <td>2277.0</td>\n",
       "      <td>17963.0</td>\n",
       "      <td>17802.0</td>\n",
       "      <td>1485830.0</td>\n",
       "      <td>NaN</td>\n",
       "      <td>NaN</td>\n",
       "      <td>24</td>\n",
       "      <td>NaN</td>\n",
       "      <td>NaN</td>\n",
       "      <td>NaN</td>\n",
       "      <td>0</td>\n",
       "      <td>1</td>\n",
       "      <td>0</td>\n",
       "      <td>0</td>\n",
       "      <td>0</td>\n",
       "      <td>0</td>\n",
       "      <td>0</td>\n",
       "      <td>1</td>\n",
       "      <td>0</td>\n",
       "      <td>1</td>\n",
       "      <td>0</td>\n",
       "      <td>0</td>\n",
       "      <td>0</td>\n",
       "    </tr>\n",
       "  </tbody>\n",
       "</table>\n",
       "</div>"
      ],
      "text/plain": [
       "       DX_bl   AGE  PTGENDER_Female  PTEDUCAT  APOE4  DX  CDRSB_bl  ADAS11_bl  \\\n",
       "11446      1  74.3                0        16    0.0   2       0.0      10.67   \n",
       "4          3  81.3                0        18    1.0   3       4.5      22.00   \n",
       "9          2  67.5                0        10    0.0   2       1.0      14.33   \n",
       "14         1  73.7                0        16    0.0   1       0.0       8.67   \n",
       "5122       2  80.4                1        13    0.0   2       0.5      18.67   \n",
       "\n",
       "       ADAS13_bl  ADASQ4_bl  MMSE_bl  RAVLT_immediate_bl  RAVLT_learning_bl  \\\n",
       "11446      18.67        5.0       28                44.0                4.0   \n",
       "4          31.00        8.0       20                22.0                1.0   \n",
       "9          21.33        6.0       27                37.0                7.0   \n",
       "14         14.67        4.0       29                37.0                4.0   \n",
       "5122       25.67        7.0       25                30.0                1.0   \n",
       "\n",
       "       RAVLT_forgetting_bl  RAVLT_perc_forgetting_bl  LDELTOTAL_BL  \\\n",
       "11446                  6.0                   54.5455          10.0   \n",
       "4                      4.0                  100.0000           2.0   \n",
       "9                      4.0                   36.3636           4.0   \n",
       "14                     4.0                   44.4444          12.0   \n",
       "5122                   5.0                   83.3333           3.0   \n",
       "\n",
       "       DIGITSCOR_bl  TRABSCOR_bl  FAQ_bl  mPACCdigit_bl  mPACCtrailsB_bl  \\\n",
       "11446          34.0        112.0     0.0       -4.35795         -4.15975   \n",
       "4              25.0        148.0    10.0      -16.58450        -16.16580   \n",
       "9              25.0        271.0     0.0       -8.49902         -9.52048   \n",
       "14             38.0         90.0     0.0       -1.90246         -1.57826   \n",
       "5122           34.0        168.0     0.0      -10.29260        -11.05750   \n",
       "\n",
       "       Ventricles_bl  Hippocampus_bl  WholeBrain_bl  Entorhinal_bl  \\\n",
       "11446       118233.0          8336.0      1229740.0         4177.0   \n",
       "4            84599.0          5319.0      1129830.0         1791.0   \n",
       "9            39605.0          6869.0      1154980.0         3983.0   \n",
       "14           34062.0          7075.0      1116630.0         4433.0   \n",
       "5122         39826.0          5348.0       927510.0         2277.0   \n",
       "\n",
       "       Fusiform_bl  MidTemp_bl     ICV_bl   FDG_bl  PIB_bl    M  TAU_bl  \\\n",
       "11446      16559.0     27936.0  1984660.0  1.36665     NaN  144     NaN   \n",
       "4          15506.0     18422.0  1920690.0  1.08355     NaN   24   239.7   \n",
       "9          19036.0     19615.0  1679440.0      NaN     NaN   36   153.1   \n",
       "14         24788.0     21614.0  1640770.0  1.29343     NaN   36   337.0   \n",
       "5122       17963.0     17802.0  1485830.0      NaN     NaN   24     NaN   \n",
       "\n",
       "       ABETA_bl  PTAU_bl  PTETHCAT_Hisp/Latino  PTETHCAT_Not Hisp/Latino  \\\n",
       "11446       NaN      NaN                     0                         1   \n",
       "4         741.5    22.83                     0                         1   \n",
       "9        1501.0    13.29                     1                         0   \n",
       "14        547.3    33.43                     0                         1   \n",
       "5122        NaN      NaN                     0                         1   \n",
       "\n",
       "       PTETHCAT_Unknown  PTRACCAT_Am Indian/Alaskan  PTRACCAT_Asian  \\\n",
       "11446                 0                           0               0   \n",
       "4                     0                           0               0   \n",
       "9                     0                           0               0   \n",
       "14                    0                           0               0   \n",
       "5122                  0                           0               0   \n",
       "\n",
       "       PTRACCAT_Black  PTRACCAT_More than one  PTRACCAT_White  \\\n",
       "11446               0                       0               1   \n",
       "4                   0                       0               1   \n",
       "9                   0                       0               1   \n",
       "14                  0                       0               1   \n",
       "5122                0                       0               1   \n",
       "\n",
       "       PTMARRY_Divorced  PTMARRY_Married  PTMARRY_Never married  \\\n",
       "11446                 0                1                      0   \n",
       "4                     0                1                      0   \n",
       "9                     0                1                      0   \n",
       "14                    0                1                      0   \n",
       "5122                  0                1                      0   \n",
       "\n",
       "       PTMARRY_Unknown  PTMARRY_Widowed  \n",
       "11446                0                0  \n",
       "4                    0                0  \n",
       "9                    0                0  \n",
       "14                   0                0  \n",
       "5122                 0                0  "
      ]
     },
     "execution_count": 12,
     "metadata": {},
     "output_type": "execute_result"
    }
   ],
   "source": [
    "df=df_last\n",
    "df.head()\n",
    "\n",
    "# dealing with the '<' and '>' in abeta and tau and ptau\n",
    "genes = ['TAU_bl', 'ABETA_bl', 'PTAU_bl']\n",
    "for val in genes:\n",
    "    all_vals = df[val].values\n",
    "    df = df.drop(val, axis=1)\n",
    "    df[val] = [float(str(x).replace('<','').replace('>','')) for x in all_vals]\n",
    "\n",
    "# drop collinear, unrelated or missing variables\n",
    "collinear = ['VISCODE', 'update_stamp', 'Month', 'Month_bl', 'Years_bl']\n",
    "unrelated = ['RID', 'PTID', 'SITE', 'ORIGPROT', 'COLPROT', 'FSVERSION','FSVERSION_bl', 'IMAGEUID', 'FLDSTRENG','FLDSTRENG_bl', 'EXAMDATE' ,  'EXAMDATE_bl']\n",
    "baselines = []\n",
    "nulls = dict(df.isna().sum().sort_values())\n",
    "null_cols = []\n",
    "drop_non_bl=['FDG', 'PIB', 'AV45', 'ABETA',\n",
    "             'TAU', 'PTAU', 'CDRSB', 'ADAS11', 'ADAS13', 'ADASQ4', 'MMSE',\n",
    "             'RAVLT_immediate', 'RAVLT_learning', 'RAVLT_forgetting',\n",
    "             'RAVLT_perc_forgetting', 'LDELTOTAL', 'DIGITSCOR', 'TRABSCOR',\n",
    "             'FAQ', 'MOCA', 'EcogPtMem', 'EcogPtLang', 'EcogPtVisspat',\n",
    "             'EcogPtPlan', 'EcogPtOrgan', 'EcogPtDivatt', 'EcogPtTotal',\n",
    "             'EcogSPMem', 'EcogSPLang', 'EcogSPVisspat', 'EcogSPPlan',\n",
    "             'EcogSPOrgan', 'EcogSPDivatt', 'EcogSPTotal', 'FLDSTRENG',\n",
    "             'FSVERSION', 'IMAGEUID', 'Ventricles', 'Hippocampus', 'WholeBrain',\n",
    "             'Entorhinal', 'Fusiform', 'MidTemp', 'ICV', 'mPACCdigit',\n",
    "             'mPACCtrailsB']\n",
    "\n",
    "empty=['MOCA_bl', 'EcogSPTotal_bl', 'EcogPtVisspat_bl', 'EcogPtPlan_bl','EcogPtOrgan_bl','EcogPtDivatt_bl',\n",
    "       'EcogPtTotal_bl','EcogSPMem_bl','EcogSPLang_bl','EcogSPVisspat_bl',\n",
    "       'EcogSPPlan_bl','EcogSPOrgan_bl','EcogSPDivatt_bl', 'AV45_bl', 'EcogPtMem_bl', 'EcogPtLang_bl'] \n",
    "\n",
    "# filling out null_cols and baselines\n",
    "for i in df.columns.values:\n",
    "    if '_bl' in i or '_BL' in i:\n",
    "        baselines.append(i)\n",
    "    elif nulls[i] > df.shape[0]/1.1:\n",
    "        baselines.append(i)\n",
    "        \n",
    "df = df.drop(collinear + unrelated + null_cols + drop_non_bl + empty, axis=1)\n",
    "\n",
    "# dealing with categorical variables\n",
    "df['PTGENDER'] = (df['PTGENDER'] == 'Female')*1\n",
    "\n",
    "categoricals = ['PTETHCAT', 'PTRACCAT', 'PTMARRY']\n",
    "dummies = pd.get_dummies(df[categoricals])\n",
    "df = pd.concat([df, dummies], axis=1)\n",
    "\n",
    "# more informative names\n",
    "df = df.rename(index=str, columns={\"PTGENDER\": \"PTGENDER_Female\"})\n",
    "\n",
    "# drop categoricals\n",
    "df = df.drop(categoricals, axis=1)\n",
    "\n",
    "# making the 'DX' variable numeric\n",
    "df['DX'] = df['DX'].map({'CN': 1, 'MCI': 2, 'Dementia': 3})\n",
    "df['DX_bl'] = df['DX_bl'].map({'CN': 1, 'LMCI': 2, 'AD': 3})\n",
    "\n",
    "# dropping rows that are missing the response variable\n",
    "df = df.dropna(subset=['DX'])\n",
    "df = df.dropna(subset=['DX_bl'])\n",
    "\n",
    "display(df.shape)\n",
    "df.head()"
   ]
  },
  {
   "cell_type": "markdown",
   "metadata": {
    "colab_type": "text",
    "id": "lFpDMunn0uJJ"
   },
   "source": [
    "## 1.3 Missing value imputation by 5 KNN"
   ]
  },
  {
   "cell_type": "code",
   "execution_count": 13,
   "metadata": {
    "colab": {},
    "colab_type": "code",
    "hide": true,
    "id": "NvZpjH0njpBG"
   },
   "outputs": [],
   "source": [
    "# imputation through kNN with 5 neighbors\n",
    "\n",
    "null_df = pd.DataFrame(df.isna().sum().sort_values(), columns=['Nulls'])\n",
    "new_nulls = null_df[null_df['Nulls'] > 0].to_dict()['Nulls']\n",
    "nulls = new_nulls.keys()\n",
    "not_nulls = df.columns.difference(nulls).values\n",
    "ind_dict = {}\n",
    "\n",
    "# filling it with a weird value for now\n",
    "weird_value = -247\n",
    "df = df.fillna(weird_value)\n",
    "\n",
    "for n, col in enumerate(nulls):\n",
    "  # Training set: all the rows for which the entry in the corresponding column does not contain a '0'\n",
    "  pseudo_train = df[df[col] != weird_value]\n",
    "  pseudo_x = pseudo_train[pseudo_train.columns.difference([col, 'DX'])]\n",
    "  pseudo_y = pseudo_train[col]\n",
    "\n",
    "  # Doing the same for the \"test\" set\n",
    "  pseudo_test = df[df[col] == weird_value]\n",
    "  pseudo_x_tes = pseudo_test[pseudo_test.columns.difference([col, 'DX'])]\n",
    "  pseudo_y_tes = pseudo_test[col]\n",
    "\n",
    "  # Fitting a kNN model with N=5\n",
    "  chosen_model = KNeighborsRegressor(n_neighbors=5).fit(pseudo_x, pseudo_y)\n",
    "\n",
    "  # Saving the indices into a dictionary\n",
    "  ind = df[df[col] == weird_value][col].index.values\n",
    "  ind_dict[col] = chosen_model.predict(pseudo_x_tes)\n",
    "    \n",
    "# doing the actual imputation\n",
    "for col in nulls:\n",
    "  ind = df[df[col] == weird_value][col].index.values\n",
    "  df.loc[ind, col] = ind_dict[col]"
   ]
  },
  {
   "cell_type": "markdown",
   "metadata": {
    "colab_type": "text",
    "id": "UXn0mSC1vtCX"
   },
   "source": [
    "# 2 Basic Logistic model"
   ]
  },
  {
   "cell_type": "code",
   "execution_count": 14,
   "metadata": {
    "colab": {
     "base_uri": "https://localhost:8080/",
     "height": 51
    },
    "colab_type": "code",
    "executionInfo": {
     "elapsed": 5786,
     "status": "ok",
     "timestamp": 1544659621885,
     "user": {
      "displayName": "Robbert Struyven",
      "photoUrl": "https://lh5.googleusercontent.com/-6QIbKl4FwZI/AAAAAAAAAAI/AAAAAAAAAAc/MZzIFCOiLj8/s64/photo.jpg",
      "userId": "15638207437883965838"
     },
     "user_tz": 300
    },
    "id": "47vR9K7XYslk",
    "outputId": "e8f38e42-9730-4e77-e848-b9078062a617"
   },
   "outputs": [
    {
     "name": "stdout",
     "output_type": "stream",
     "text": [
      "(183, 46) (183,) (46, 46) (46,)\n",
      "(321, 46) (321,) (81, 46) (81,)\n"
     ]
    }
   ],
   "source": [
    "# Train-test split for two different models: \n",
    "# Splitting in two different cases:\n",
    "df_1 = df[df['DX_bl']==1]  # Patients with normal diagnosis at baseline\n",
    "df_2 = df[df['DX_bl']==2]  # Patients with MCI diagnosis at baseline\n",
    "\n",
    "y_1 = ( df_1['DX'] > df_1['DX_bl'] ) # if Dx went from 1 (Dx_bl )to 2/3 (Dx) -> y =1  if DX did change y=0\n",
    "X_1 = df_1[df_1.columns.difference(['DX'])]\n",
    "\n",
    "y_2 = ( df_2['DX'] > df_2['DX_bl'] ) # if Dx went from 2 (Dx_bl )to 3 (Dx) -> y =1  otherwhise y=0\n",
    "X_2 = df_2[df_2.columns.difference(['DX'])]\n",
    "\n",
    "X_train1, X_test1, y_train1, y_test1 = train_test_split(X_1, y_1, test_size=0.2, random_state=209)\n",
    "X_train2, X_test2, y_train2, y_test2 = train_test_split(X_2, y_2, test_size=0.2, random_state=209)\n",
    "\n",
    "print(X_train1.shape, y_train1.shape, X_test1.shape, y_test1.shape)\n",
    "print(X_train2.shape, y_train2.shape, X_test2.shape, y_test2.shape)"
   ]
  },
  {
   "cell_type": "markdown",
   "metadata": {
    "colab_type": "text",
    "id": "auGR9RuJ1RBx"
   },
   "source": [
    "## 2.1 Basic Logistic model only taking into account time till last visit"
   ]
  },
  {
   "cell_type": "code",
   "execution_count": 15,
   "metadata": {
    "colab": {
     "base_uri": "https://localhost:8080/",
     "height": 401
    },
    "colab_type": "code",
    "executionInfo": {
     "elapsed": 6772,
     "status": "ok",
     "timestamp": 1544659622886,
     "user": {
      "displayName": "Robbert Struyven",
      "photoUrl": "https://lh5.googleusercontent.com/-6QIbKl4FwZI/AAAAAAAAAAI/AAAAAAAAAAc/MZzIFCOiLj8/s64/photo.jpg",
      "userId": "15638207437883965838"
     },
     "user_tz": 300
    },
    "id": "whFd5fhC_8mh",
    "outputId": "e8e27d48-dd9b-4a17-a4e7-44ad2888bd36"
   },
   "outputs": [
    {
     "data": {
      "image/png": "[encoded data removed]",
      "text/plain": [
       "<Figure size 936x396 with 2 Axes>"
      ]
     },
     "metadata": {
      "needs_background": "light"
     },
     "output_type": "display_data"
    }
   ],
   "source": [
    "fig, ax = plt.subplots(nrows=1, ncols=2, figsize=(13,5.5))\n",
    "ax1, ax2 = ax.ravel()\n",
    "\n",
    "pd.crosstab(X_1['M']/12,y_1).plot(kind='bar', ax=ax1)\n",
    "ax1.set_title('Disease progression Normal to MCI/AD versus last visit timing')\n",
    "ax1.set_xlabel('Timing of last visit (years)')\n",
    "ax1.set_ylabel('People')\n",
    "ax1.legend(title='Disease Progression from Normal BL to MCI/AD last visit')\n",
    "\n",
    "pd.crosstab(X_2['M']/12,y_2).plot(kind='bar', ax=ax2)\n",
    "ax2.set_title('Disease progression MCI to AD versus last visit timing')\n",
    "ax2.set_xlabel('Timing of last visit (years)')\n",
    "ax2.set_ylabel('People')\n",
    "ax1.legend(title='Disease Progression from MCI BL to AD last visit')\n",
    "\n",
    "fig.tight_layout()"
   ]
  },
  {
   "cell_type": "code",
   "execution_count": 16,
   "metadata": {
    "colab": {},
    "colab_type": "code",
    "id": "d96klRjcC7r0"
   },
   "outputs": [],
   "source": [
    "# Code credit: sklearn example\n",
    "def plot_confusion_matrix(ax, cm, classes,\n",
    "                          normalize=False,\n",
    "                          title='Confusion matrix',\n",
    "                          cmap=plt.cm.Blues):\n",
    "    cm_original=cm.copy()\n",
    "    if normalize:\n",
    "        cm = cm.astype('float') / cm.sum(axis=1)[:, np.newaxis]\n",
    "    img = ax.imshow(cm, interpolation='nearest', cmap=cmap)\n",
    "    plt.colorbar(img, ax=ax)\n",
    "    tick_marks = np.arange(len(classes))\n",
    "    ax.set(xticks=tick_marks, yticks=tick_marks)\n",
    "    ax.set_xticklabels(classes, rotation=0, fontsize=13)\n",
    "    ax.set_yticklabels(classes, fontsize=13)\n",
    "\n",
    "    fmt = '.2f' if normalize else 'd'\n",
    "    thresh = cm.max() / 2.\n",
    "    thresh = 1 / 2.\n",
    "    for i, j in itertools.product(range(cm.shape[0]), range(cm.shape[1])):\n",
    "        ax.text(j, i, format(cm[i, j]*100, '.0f') +  '%  (' +format(cm_original[i, j], 'd') + ')',\n",
    "                 horizontalalignment=\"center\",\n",
    "                 color=\"white\" if cm[i, j] > thresh else \"black\", fontsize=15)\n",
    "\n",
    "    ax.set_title(title, fontsize=15)\n",
    "    ax.set_ylabel('True label', fontsize=15)\n",
    "    ax.set_xlabel('Predicted label', fontsize=15)\n",
    "    ax.grid('off')"
   ]
  },
  {
   "cell_type": "markdown",
   "metadata": {
    "colab_type": "text",
    "id": "EdCPUAFc9FZC"
   },
   "source": [
    "### 2.1.1 Modelling non-balanced, Normal Baseline, progressing to MCI/AD only based on time till last visit"
   ]
  },
  {
   "cell_type": "code",
   "execution_count": 17,
   "metadata": {
    "colab": {
     "base_uri": "https://localhost:8080/",
     "height": 487
    },
    "colab_type": "code",
    "executionInfo": {
     "elapsed": 7044,
     "status": "ok",
     "timestamp": 1544659623191,
     "user": {
      "displayName": "Robbert Struyven",
      "photoUrl": "https://lh5.googleusercontent.com/-6QIbKl4FwZI/AAAAAAAAAAI/AAAAAAAAAAc/MZzIFCOiLj8/s64/photo.jpg",
      "userId": "15638207437883965838"
     },
     "user_tz": 300
    },
    "id": "yBENcO488fpQ",
    "outputId": "a4521306-6531-4b55-9669-747ad9703712"
   },
   "outputs": [
    {
     "name": "stdout",
     "output_type": "stream",
     "text": [
      "\n",
      "Simple logistic regression modeling with the CLASS WEIGHTS NON BALANCED\n",
      "\n",
      "Logistic Regresssion predicting desease progression from Normal Baseline to MCI or AD at last visit\n",
      "Training accuracy: \t0.80 , Test accuracy: \t0.63\n",
      "\n"
     ]
    },
    {
     "data": {
      "image/png": "[encoded data removed]",
      "text/plain": [
       "<Figure size 1188x360 with 4 Axes>"
      ]
     },
     "metadata": {
      "needs_background": "light"
     },
     "output_type": "display_data"
    }
   ],
   "source": [
    "print('\\nSimple logistic regression modeling with the CLASS WEIGHTS NON BALANCED')\n",
    "\n",
    "baseline_logreg_1 = LogisticRegression(solver='liblinear').fit(X_train1['M'].values.reshape(-1,1), y_train1)\n",
    "print('\\nLogistic Regresssion predicting desease progression from Normal Baseline to MCI or AD at last visit')\n",
    "print('Training accuracy: \\t{:.2f} , Test accuracy: \\t{:.2f}\\n'.format(baseline_logreg_1.score(X_train1['M'].values.reshape(-1,1), y_train1), baseline_logreg_1.score(X_test1['M'].values.reshape(-1,1), y_test1)))\n",
    "fig, ax = plt.subplots(nrows=1, ncols=2, figsize=(16.5,5))\n",
    "ax1, ax2 = ax.ravel()\n",
    "cnf_matrix_tr = confusion_matrix(y_train1 , baseline_logreg_1.predict(X_train1['M'].values.reshape(-1,1)))\n",
    "cnf_matrix_ts = confusion_matrix(y_test1 , baseline_logreg_1.predict(X_test1['M'].values.reshape(-1,1)))\n",
    "plot_confusion_matrix(ax1, cnf_matrix_tr, classes=['Normal->Normal','Normal->MCI/AD'], normalize=True, title='Training set')\n",
    "plot_confusion_matrix(ax2, cnf_matrix_ts, classes=['Normal->Normal','Normal->MCI/AD'], normalize=True, title='Test set')\n",
    "fig.tight_layout()"
   ]
  },
  {
   "cell_type": "markdown",
   "metadata": {
    "colab_type": "text",
    "id": "N8qxlQb7F12C"
   },
   "source": [
    "### 2.1.2 Modelling balanced, Normal Baseline , progressing to MCI/AD only based on time till last visit"
   ]
  },
  {
   "cell_type": "code",
   "execution_count": 18,
   "metadata": {
    "colab": {
     "base_uri": "https://localhost:8080/",
     "height": 487
    },
    "colab_type": "code",
    "executionInfo": {
     "elapsed": 7582,
     "status": "ok",
     "timestamp": 1544659623750,
     "user": {
      "displayName": "Robbert Struyven",
      "photoUrl": "https://lh5.googleusercontent.com/-6QIbKl4FwZI/AAAAAAAAAAI/AAAAAAAAAAc/MZzIFCOiLj8/s64/photo.jpg",
      "userId": "15638207437883965838"
     },
     "user_tz": 300
    },
    "id": "MEN032dqF7uW",
    "outputId": "7184e2c0-e0ec-44d0-faf4-795384b5c327"
   },
   "outputs": [
    {
     "name": "stdout",
     "output_type": "stream",
     "text": [
      "\n",
      "Simple logistic regression modeling with the CLASS WEIGHTS  BALANCED\n",
      "\n",
      "Logistic Regresssion predicting desease progression from Normal Baseline to MCI or AD at last visit\n",
      "Training accuracy: \t0.70 , Test accuracy: \t0.70\n",
      "\n"
     ]
    },
    {
     "data": {
      "image/png": "[encoded data removed]",
      "text/plain": [
       "<Figure size 1188x360 with 4 Axes>"
      ]
     },
     "metadata": {
      "needs_background": "light"
     },
     "output_type": "display_data"
    }
   ],
   "source": [
    "print('\\nSimple logistic regression modeling with the CLASS WEIGHTS  BALANCED')\n",
    "\n",
    "baseline_logreg_1 = LogisticRegression(solver='liblinear', class_weight='balanced').fit(X_train1['M'].values.reshape(-1,1), y_train1)\n",
    "print('\\nLogistic Regresssion predicting desease progression from Normal Baseline to MCI or AD at last visit')\n",
    "print('Training accuracy: \\t{:.2f} , Test accuracy: \\t{:.2f}\\n'.format(baseline_logreg_1.score(X_train1['M'].values.reshape(-1,1), y_train1), baseline_logreg_1.score(X_test1['M'].values.reshape(-1,1), y_test1)))\n",
    "fig, ax = plt.subplots(nrows=1, ncols=2, figsize=(16.5,5))\n",
    "ax1, ax2 = ax.ravel()\n",
    "cnf_matrix_tr = confusion_matrix(y_train1 , baseline_logreg_1.predict(X_train1['M'].values.reshape(-1,1)))\n",
    "cnf_matrix_ts = confusion_matrix(y_test1 , baseline_logreg_1.predict(X_test1['M'].values.reshape(-1,1)))\n",
    "plot_confusion_matrix(ax1, cnf_matrix_tr, classes=['Normal->Normal','Normal->MCI/AD'], normalize=True, title='Training set')\n",
    "plot_confusion_matrix(ax2, cnf_matrix_ts, classes=['Normal->Normal','Normal->MCI/AD'], normalize=True, title='Test set')\n",
    "fig.tight_layout()"
   ]
  },
  {
   "cell_type": "markdown",
   "metadata": {
    "colab_type": "text",
    "id": "hlQbFwDjGHLw"
   },
   "source": [
    "### 2.1.3 Modelling non-balanced, MCI Baseline, progressing to AD only based on time till last visit"
   ]
  },
  {
   "cell_type": "code",
   "execution_count": null,
   "metadata": {
    "colab": {
     "base_uri": "https://localhost:8080/",
     "height": 487
    },
    "colab_type": "code",
    "executionInfo": {
     "elapsed": 8676,
     "status": "ok",
     "timestamp": 1544659624863,
     "user": {
      "displayName": "Robbert Struyven",
      "photoUrl": "https://lh5.googleusercontent.com/-6QIbKl4FwZI/AAAAAAAAAAI/AAAAAAAAAAc/MZzIFCOiLj8/s64/photo.jpg",
      "userId": "15638207437883965838"
     },
     "user_tz": 300
    },
    "id": "_mWbb03ECkLf",
    "outputId": "85ce76fc-306a-40e2-a6da-a927af009e19"
   },
   "outputs": [
    {
     "name": "stdout",
     "output_type": "stream",
     "text": [
      "\n",
      "Simple logistic regression modeling with the CLASS WEIGHTS NON BALANCED\n",
      "\n",
      "Logistic Regresssion predicting desease progression from MCI Baseline to AD at last visit\n",
      "Training accuracy: \t0.58 , Test accuracy: \t0.49\n",
      "\n"
     ]
    },
    {
     "data": {
      "image/png": "[encoded data removed]",
      "text/plain": [
       "<Figure size 1188x360 with 4 Axes>"
      ]
     },
     "metadata": {
      "needs_background": "light"
     },
     "output_type": "display_data"
    }
   ],
   "source": [
    "print('\\nSimple logistic regression modeling with the CLASS WEIGHTS NON BALANCED')\n",
    "baseline_logreg_2 = LogisticRegression(solver='liblinear').fit(X_train2['M'].values.reshape(-1,1), y_train2)\n",
    "print('\\nLogistic Regresssion predicting desease progression from MCI Baseline to AD at last visit')\n",
    "print('Training accuracy: \\t{:.2f} , Test accuracy: \\t{:.2f}\\n'.format(baseline_logreg_2.score(X_train2['M'].values.reshape(-1,1), y_train2), baseline_logreg_2.score(X_test2['M'].values.reshape(-1,1), y_test2)))\n",
    "fig, ax = plt.subplots(nrows=1, ncols=2, figsize=(16.5,5))\n",
    "ax1, ax2 = ax.ravel()\n",
    "cnf_matrix_tr2 = confusion_matrix(y_train2 , baseline_logreg_2.predict(X_train2['M'].values.reshape(-1,1)))\n",
    "cnf_matrix_ts2 = confusion_matrix(y_test2 , baseline_logreg_2.predict(X_test2['M'].values.reshape(-1,1)))\n",
    "plot_confusion_matrix(ax1, cnf_matrix_tr2, classes=['MCI->MCI/Normal','MCI->AD'], normalize=True, title='Training set')\n",
    "plot_confusion_matrix(ax2, cnf_matrix_ts2, classes=['MCI->MCI/Normal','MCI->AD'], normalize=True, title='Test set')\n",
    "fig.tight_layout()"
   ]
  },
  {
   "cell_type": "markdown",
   "metadata": {
    "colab_type": "text",
    "id": "KZmxyxBo-vFs"
   },
   "source": [
    "### 2.1.4 Modelling balanced, MCI Baseline, progressing to AD only based on time till last visit"
   ]
  },
  {
   "cell_type": "code",
   "execution_count": null,
   "metadata": {
    "colab": {
     "base_uri": "https://localhost:8080/",
     "height": 487
    },
    "colab_type": "code",
    "executionInfo": {
     "elapsed": 9129,
     "status": "ok",
     "timestamp": 1544659625334,
     "user": {
      "displayName": "Robbert Struyven",
      "photoUrl": "https://lh5.googleusercontent.com/-6QIbKl4FwZI/AAAAAAAAAAI/AAAAAAAAAAc/MZzIFCOiLj8/s64/photo.jpg",
      "userId": "15638207437883965838"
     },
     "user_tz": 300
    },
    "id": "iHPbKPD8-rPF",
    "outputId": "049a737b-f51e-43a8-dafc-f5ac56c10fb7"
   },
   "outputs": [
    {
     "name": "stdout",
     "output_type": "stream",
     "text": [
      "\n",
      "Simple logistic regression modeling with the CLASS WEIGHTS BALANCED\n",
      "\n",
      "Logistic Regresssion predicting desease progression from MCI Baseline to AD at last visit\n",
      "Training accuracy: \t0.61 , Test accuracy: \t0.54\n",
      "\n"
     ]
    },
    {
     "data": {
      "image/png": "[encoded data removed]",
      "text/plain": [
       "<Figure size 1188x360 with 4 Axes>"
      ]
     },
     "metadata": {
      "needs_background": "light"
     },
     "output_type": "display_data"
    }
   ],
   "source": [
    "print('\\nSimple logistic regression modeling with the CLASS WEIGHTS BALANCED')\n",
    "baseline_logreg_2 = LogisticRegression(solver='liblinear', class_weight='balanced').fit(X_train2['M'].values.reshape(-1,1), y_train2)\n",
    "print('\\nLogistic Regresssion predicting desease progression from MCI Baseline to AD at last visit')\n",
    "print('Training accuracy: \\t{:.2f} , Test accuracy: \\t{:.2f}\\n'.format(baseline_logreg_2.score(X_train2['M'].values.reshape(-1,1), y_train2), baseline_logreg_2.score(X_test2['M'].values.reshape(-1,1), y_test2)))\n",
    "fig, ax = plt.subplots(nrows=1, ncols=2, figsize=(16.5,5))\n",
    "ax1, ax2 = ax.ravel()\n",
    "cnf_matrix_tr2 = confusion_matrix(y_train2 , baseline_logreg_2.predict(X_train2['M'].values.reshape(-1,1)))\n",
    "cnf_matrix_ts2 = confusion_matrix(y_test2 , baseline_logreg_2.predict(X_test2['M'].values.reshape(-1,1)))\n",
    "plot_confusion_matrix(ax1, cnf_matrix_tr2, classes=['MCI->MCI/Normal','MCI->AD'], normalize=True, title='Training set')\n",
    "plot_confusion_matrix(ax2, cnf_matrix_ts2, classes=['MCI->MCI/Normal','MCI->AD'], normalize=True, title='Test set')\n",
    "fig.tight_layout()"
   ]
  },
  {
   "cell_type": "code",
   "execution_count": null,
   "metadata": {
    "colab": {
     "base_uri": "https://localhost:8080/",
     "height": 376
    },
    "colab_type": "code",
    "executionInfo": {
     "elapsed": 9109,
     "status": "ok",
     "timestamp": 1544659625335,
     "user": {
      "displayName": "Robbert Struyven",
      "photoUrl": "https://lh5.googleusercontent.com/-6QIbKl4FwZI/AAAAAAAAAAI/AAAAAAAAAAc/MZzIFCOiLj8/s64/photo.jpg",
      "userId": "15638207437883965838"
     },
     "user_tz": 300
    },
    "id": "BcYTVWPGpJMw",
    "outputId": "abcabd73-3a7f-497a-a84b-333c2aa90703"
   },
   "outputs": [
    {
     "data": {
      "image/png": "[encoded data removed]",
      "text/plain": [
       "<Figure size 648x288 with 1 Axes>"
      ]
     },
     "metadata": {
      "needs_background": "light"
     },
     "output_type": "display_data"
    }
   ],
   "source": [
    "# Plotting regression line of non balanced logistic regression versus age\n",
    "baseline_logreg_1 = LogisticRegression(solver='liblinear').fit(X_train1['M'].values.reshape(-1,1), y_train1)\n",
    "baseline_logreg_2 = LogisticRegression(solver='liblinear').fit(X_train2['M'].values.reshape(-1,1), y_train2)\n",
    "\n",
    "age= np.linspace(start=40, stop=90, num=50)\n",
    "pred1= baseline_logreg_1.predict_proba(age.reshape(-1,1))[:,1]\n",
    "pred2= baseline_logreg_2.predict_proba(age.reshape(-1,1))[:,1]\n",
    "\n",
    "plt.figure(figsize=(9,4))\n",
    "plt.plot(age, pred1, label='Disease progression from Normal (baseline) to worse')\n",
    "plt.plot(age, pred2, label='Disease progression from MCI (baseline) to worse')\n",
    "plt.legend()\n",
    "plt.title('Disease progression between 1st and last visit (NON-balanced logistic regression)')\n",
    "plt.xlabel('Age (y)')\n",
    "plt.ylabel('Probability of negative disease progression');\n",
    "plt.tight_layout()"
   ]
  },
  {
   "cell_type": "code",
   "execution_count": null,
   "metadata": {
    "colab": {
     "base_uri": "https://localhost:8080/",
     "height": 376
    },
    "colab_type": "code",
    "executionInfo": {
     "elapsed": 9997,
     "status": "ok",
     "timestamp": 1544659626241,
     "user": {
      "displayName": "Robbert Struyven",
      "photoUrl": "https://lh5.googleusercontent.com/-6QIbKl4FwZI/AAAAAAAAAAI/AAAAAAAAAAc/MZzIFCOiLj8/s64/photo.jpg",
      "userId": "15638207437883965838"
     },
     "user_tz": 300
    },
    "id": "eDCrZauqrfdx",
    "outputId": "639be4ab-f1f2-4e51-b442-538870b15d98"
   },
   "outputs": [
    {
     "data": {
      "image/png": "[encoded data removed]",
      "text/plain": [
       "<Figure size 648x288 with 1 Axes>"
      ]
     },
     "metadata": {
      "needs_background": "light"
     },
     "output_type": "display_data"
    }
   ],
   "source": [
    "# Plotting regression line of non balanced logistic regression versus age\n",
    "baseline_logreg_1 = LogisticRegression(solver='liblinear', class_weight='balanced').fit(X_train1['M'].values.reshape(-1,1), y_train1)\n",
    "baseline_logreg_2 = LogisticRegression(solver='liblinear', class_weight='balanced').fit(X_train2['M'].values.reshape(-1,1), y_train2)\n",
    "\n",
    "age= np.linspace(start=40, stop=90, num=50)\n",
    "pred1= baseline_logreg_1.predict_proba(age.reshape(-1,1))[:,1]\n",
    "pred2= baseline_logreg_2.predict_proba(age.reshape(-1,1))[:,1]\n",
    "\n",
    "plt.figure(figsize=(9,4))\n",
    "plt.plot(age, pred1, label='Disease progression from Normal (baseline) to worse')\n",
    "plt.plot(age, pred2, label='Disease progression from MCI (baseline) to worse')\n",
    "plt.legend()\n",
    "plt.title('Disease progression between 1st and last visit (balanced logistic regression)')\n",
    "plt.xlabel('Age (y)')\n",
    "plt.ylabel('Probability of negative disease progression');\n",
    "plt.tight_layout()"
   ]
  },
  {
   "cell_type": "markdown",
   "metadata": {
    "colab_type": "text",
    "id": "FFIUzjR33TWP"
   },
   "source": [
    "## 2.2 Logistic model  taking into account all baseline measurements and time till last visit"
   ]
  },
  {
   "cell_type": "markdown",
   "metadata": {
    "colab_type": "text",
    "id": "ingbIY60Xafw"
   },
   "source": [
    "### 2.2.1 Modelling balanced, Normal Baseline , progressing to MCI/AD taking into account all baseline measurements and time till last visit"
   ]
  },
  {
   "cell_type": "code",
   "execution_count": null,
   "metadata": {
    "colab": {
     "base_uri": "https://localhost:8080/",
     "height": 487
    },
    "colab_type": "code",
    "executionInfo": {
     "elapsed": 10580,
     "status": "ok",
     "timestamp": 1544659626847,
     "user": {
      "displayName": "Robbert Struyven",
      "photoUrl": "https://lh5.googleusercontent.com/-6QIbKl4FwZI/AAAAAAAAAAI/AAAAAAAAAAc/MZzIFCOiLj8/s64/photo.jpg",
      "userId": "15638207437883965838"
     },
     "user_tz": 300
    },
    "id": "iuDcc4xmfjlr",
    "outputId": "a0fbc7ed-ac85-4d98-a42f-dbea44463cb3"
   },
   "outputs": [
    {
     "name": "stdout",
     "output_type": "stream",
     "text": [
      "\n",
      "Simple logistic regression modeling with the CLASS WEIGHTS NON BALANCED\n",
      "\n",
      "Logistic Regresssion predicting desease progression from Normal Baseline to MCI or AD at last visit\n",
      "Training accuracy: \t0.75 , Test accuracy: \t0.63\n",
      "\n"
     ]
    },
    {
     "data": {
      "image/png": "[encoded data removed]",
      "text/plain": [
       "<Figure size 1188x360 with 4 Axes>"
      ]
     },
     "metadata": {
      "needs_background": "light"
     },
     "output_type": "display_data"
    }
   ],
   "source": [
    "print('\\nSimple logistic regression modeling with the CLASS WEIGHTS NON BALANCED')\n",
    "\n",
    "baseline_logreg_1 = LogisticRegression(solver='liblinear', class_weight='balanced').fit(X_train1.values, y_train1)\n",
    "print('\\nLogistic Regresssion predicting desease progression from Normal Baseline to MCI or AD at last visit')\n",
    "print('Training accuracy: \\t{:.2f} , Test accuracy: \\t{:.2f}\\n'.format(baseline_logreg_1.score(X_train1.values, y_train1), baseline_logreg_1.score(X_test1.values, y_test1)))\n",
    "fig, ax = plt.subplots(nrows=1, ncols=2, figsize=(16.5,5))\n",
    "ax1, ax2 = ax.ravel()\n",
    "cnf_matrix_tr = confusion_matrix(y_train1 , baseline_logreg_1.predict(X_train1.values))\n",
    "cnf_matrix_ts = confusion_matrix(y_test1 , baseline_logreg_1.predict(X_test1.values))\n",
    "plot_confusion_matrix(ax1, cnf_matrix_tr, classes=['Normal->Normal','Normal->MCI/AD'], normalize=True, title='Training set')\n",
    "plot_confusion_matrix(ax2, cnf_matrix_ts, classes=['Normal->Normal','Normal->MCI/AD'], normalize=True, title='Test set')\n",
    "fig.tight_layout()"
   ]
  },
  {
   "cell_type": "code",
   "execution_count": null,
   "metadata": {
    "colab": {
     "base_uri": "https://localhost:8080/",
     "height": 1085
    },
    "colab_type": "code",
    "executionInfo": {
     "elapsed": 11062,
     "status": "ok",
     "timestamp": 1544659627345,
     "user": {
      "displayName": "Robbert Struyven",
      "photoUrl": "https://lh5.googleusercontent.com/-6QIbKl4FwZI/AAAAAAAAAAI/AAAAAAAAAAc/MZzIFCOiLj8/s64/photo.jpg",
      "userId": "15638207437883965838"
     },
     "user_tz": 300
    },
    "id": "E6QHQWQpfl9f",
    "outputId": "d72dcce3-e3cb-46c4-ecdd-3e37316fba3c"
   },
   "outputs": [
    {
     "data": {
      "image/png": "[encoded data removed]",
      "text/plain": [
       "<Figure size 720x1080 with 1 Axes>"
      ]
     },
     "metadata": {
      "needs_background": "light"
     },
     "output_type": "display_data"
    }
   ],
   "source": [
    "# Feature importance analysis, sort and visualization (for normal baseline model)\n",
    "feature_importance = abs(baseline_logreg_1.coef_[0])\n",
    "feature_importance = 100.0 * (feature_importance / feature_importance.max())\n",
    "sorted_idx = np.argsort(feature_importance)\n",
    "pos = np.arange(sorted_idx.shape[0]) + .5\n",
    "\n",
    "featfig = plt.figure(figsize=(10,15))\n",
    "featax = featfig.add_subplot(1, 1, 1)\n",
    "featax.barh(pos, feature_importance[sorted_idx], align='center')\n",
    "featax.set_yticks(pos)\n",
    "featax.set_yticklabels(np.array(X_train1.columns)[sorted_idx], fontsize=8)\n",
    "featax.set_xlabel('Relative Feature Importance compared to most important feature (%)')\n",
    "featax.set_title('Feature Importance for Logistic Regresssion predicting desease progression from Normal Baseline to MCI or AD at last visit')\n",
    "\n",
    "plt.tight_layout()   \n",
    "plt.show()"
   ]
  },
  {
   "cell_type": "markdown",
   "metadata": {
    "colab_type": "text",
    "id": "pK4_WCufXwbP"
   },
   "source": [
    "### 2.2.2 Modelling balanced, MCI Baseline , progressing to AD taking into account all baseline measurements and time till last visit"
   ]
  },
  {
   "cell_type": "code",
   "execution_count": null,
   "metadata": {
    "colab": {
     "base_uri": "https://localhost:8080/",
     "height": 487
    },
    "colab_type": "code",
    "executionInfo": {
     "elapsed": 11523,
     "status": "ok",
     "timestamp": 1544659627826,
     "user": {
      "displayName": "Robbert Struyven",
      "photoUrl": "https://lh5.googleusercontent.com/-6QIbKl4FwZI/AAAAAAAAAAI/AAAAAAAAAAc/MZzIFCOiLj8/s64/photo.jpg",
      "userId": "15638207437883965838"
     },
     "user_tz": 300
    },
    "id": "_68MPto5X07R",
    "outputId": "74c11344-6803-42f6-88e0-a2a26715eb37"
   },
   "outputs": [
    {
     "name": "stdout",
     "output_type": "stream",
     "text": [
      "\n",
      "Simple logistic regression modeling with the CLASS WEIGHTS NON BALANCED\n",
      "\n",
      "Logistic Regresssion predicting desease progression from Normal Baseline to MCI or AD at last visit\n",
      "Training accuracy: \t0.76 , Test accuracy: \t0.63\n",
      "\n"
     ]
    },
    {
     "data": {
      "image/png": "[encoded data removed]",
      "text/plain": [
       "<Figure size 1188x360 with 4 Axes>"
      ]
     },
     "metadata": {
      "needs_background": "light"
     },
     "output_type": "display_data"
    }
   ],
   "source": [
    "print('\\nSimple logistic regression modeling with the CLASS WEIGHTS NON BALANCED')\n",
    "\n",
    "baseline_logreg_2 = LogisticRegression(solver='liblinear', class_weight='balanced').fit(X_train2.values, y_train2)\n",
    "print('\\nLogistic Regresssion predicting desease progression from Normal Baseline to MCI or AD at last visit')\n",
    "print('Training accuracy: \\t{:.2f} , Test accuracy: \\t{:.2f}\\n'.format(baseline_logreg_2.score(X_train2.values, y_train2), baseline_logreg_2.score(X_test2.values, y_test2)))\n",
    "fig, ax = plt.subplots(nrows=1, ncols=2, figsize=(16.5,5))\n",
    "ax1, ax2 = ax.ravel()\n",
    "cnf_matrix_tr = confusion_matrix(y_train2 , baseline_logreg_2.predict(X_train2.values))\n",
    "cnf_matrix_ts = confusion_matrix(y_test2 , baseline_logreg_2.predict(X_test2.values))\n",
    "plot_confusion_matrix(ax1, cnf_matrix_tr, classes=['Normal->Normal','Normal->MCI/AD'], normalize=True, title='Training set')\n",
    "plot_confusion_matrix(ax2, cnf_matrix_ts, classes=['Normal->Normal','Normal->MCI/AD'], normalize=True, title='Test set')\n",
    "fig.tight_layout()"
   ]
  },
  {
   "cell_type": "code",
   "execution_count": null,
   "metadata": {
    "colab": {
     "base_uri": "https://localhost:8080/",
     "height": 1153
    },
    "colab_type": "code",
    "executionInfo": {
     "elapsed": 12042,
     "status": "ok",
     "timestamp": 1544659628366,
     "user": {
      "displayName": "Robbert Struyven",
      "photoUrl": "https://lh5.googleusercontent.com/-6QIbKl4FwZI/AAAAAAAAAAI/AAAAAAAAAAc/MZzIFCOiLj8/s64/photo.jpg",
      "userId": "15638207437883965838"
     },
     "user_tz": 300
    },
    "id": "FeBmHlb4f72C",
    "outputId": "626b78ed-b2cc-4f01-e5b8-39701c694e37"
   },
   "outputs": [
    {
     "name": "stdout",
     "output_type": "stream",
     "text": [
      "1. M: \t\t\t Months after BL\n",
      "2. RAVLT_perc_forget: \t Percentage forgetting during Reys Auditory Verbal Learning Test\n",
      "3. FAQ_bl: \t\t Functinoal Activities Questionnaire score at BL\n",
      "\n"
     ]
    },
    {
     "data": {
      "image/png": "[encoded data removed]",
      "text/plain": [
       "<Figure size 720x1080 with 1 Axes>"
      ]
     },
     "metadata": {
      "needs_background": "light"
     },
     "output_type": "display_data"
    }
   ],
   "source": [
    "# Feature importance analysis, sort and visualization (for MCI baseline model)\n",
    "print('1. M: \\t\\t\\t Months after BL')\n",
    "print('2. RAVLT_perc_forget: \\t Percentage forgetting during Reys Auditory Verbal Learning Test')\n",
    "print('3. FAQ_bl: \\t\\t Functinoal Activities Questionnaire score at BL\\n')\n",
    "\n",
    "feature_importance = abs(baseline_logreg_2.coef_[0])\n",
    "feature_importance = 100.0 * (feature_importance / feature_importance.max())\n",
    "sorted_idx = np.argsort(feature_importance)\n",
    "pos = np.arange(sorted_idx.shape[0]) + .5\n",
    "\n",
    "featfig = plt.figure(figsize=(10,15))\n",
    "featax = featfig.add_subplot(1, 1, 1)\n",
    "featax.barh(pos, feature_importance[sorted_idx], align='center')\n",
    "featax.set_yticks(pos)\n",
    "featax.set_yticklabels(np.array(X_train2.columns)[sorted_idx], fontsize=8)\n",
    "featax.set_xlabel('Relative Feature Importance compared to most important feature (%)')\n",
    "featax.set_title('Feature Importance for Logistic Regresssion predicting desease progression from MCI Baseline to AD at last visit')\n",
    "plt.tight_layout()   "
   ]
  },
  {
   "cell_type": "markdown",
   "metadata": {
    "colab_type": "text",
    "id": "Q22HXyMYJQvf"
   },
   "source": [
    "# 3 Advanced Model Testing with 4-fold Cross Validation Scoring Reporting with internal CV parameter optimization within training fold"
   ]
  },
  {
   "cell_type": "markdown",
   "metadata": {
    "colab_type": "text",
    "id": "6sqf2-jmWF8U"
   },
   "source": [
    "### 3.1 Parameter Optimisation Example\n",
    "Setting: \n",
    "- 5-fold cross validation ( so averages on these 5 test sets will be reported )\n",
    "- Within every training fold of cross validation we do an internal 4-fold CV to optimise the parameters"
   ]
  },
  {
   "cell_type": "code",
   "execution_count": null,
   "metadata": {
    "colab": {},
    "colab_type": "code",
    "id": "MQQhD58OIIgU"
   },
   "outputs": [],
   "source": [
    "X_CV=X_2\n",
    "y_CV=y_2\n",
    "\n",
    "Estimator_parameters = {'C':[0.001,0.01,0.1,1,10,100,1000] }\n",
    "Estimator=LogisticRegression(random_state=1, solver='liblinear', class_weight='balanced')"
   ]
  },
  {
   "cell_type": "code",
   "execution_count": null,
   "metadata": {
    "colab": {
     "base_uri": "https://localhost:8080/",
     "height": 442
    },
    "colab_type": "code",
    "executionInfo": {
     "elapsed": 15039,
     "status": "ok",
     "timestamp": 1544659631401,
     "user": {
      "displayName": "Robbert Struyven",
      "photoUrl": "https://lh5.googleusercontent.com/-6QIbKl4FwZI/AAAAAAAAAAI/AAAAAAAAAAc/MZzIFCOiLj8/s64/photo.jpg",
      "userId": "15638207437883965838"
     },
     "user_tz": 300
    },
    "id": "db3j8zAGHCBI",
    "outputId": "58165916-755a-4f26-aaa7-d3337a67edd7"
   },
   "outputs": [
    {
     "name": "stdout",
     "output_type": "stream",
     "text": [
      "All 4 PARAMETER OPTIMISATIONS AND CROSS VALIDATIONS OF THE \"KNeighborsClassifier\" ALGORITHM\n",
      "\n",
      "This is optimisation and CV number 2  \t----------------------------------------------------------------------------\n",
      "Mean scores: \t\t\t\t[0.71 0.71 0.72 0.71 0.72 0.71 0.71]\n",
      "Differences best - other scores:\t[0.01 0.01 0.   0.01 0.   0.01 0.01]\n",
      "The best paremeters set was\t \tSet 3: {'C': 0.1}\n",
      "Validation Accuracy score: \t\t[0.69]\n",
      "\n",
      "This is optimisation and CV number 3  \t----------------------------------------------------------------------------\n",
      "Mean scores: \t\t\t\t[0.71 0.71 0.7  0.69 0.7  0.69 0.72]\n",
      "Differences best - other scores:\t[0.01 0.01 0.02 0.03 0.02 0.03 0.  ]\n",
      "The best paremeters set was\t \tSet 7: {'C': 1000}\n",
      "Validation Accuracy score: \t\t[0.69 0.73]\n",
      "\n",
      "This is optimisation and CV number 4  \t----------------------------------------------------------------------------\n",
      "Mean scores: \t\t\t\t[0.68 0.69 0.69 0.68 0.7  0.68 0.68]\n",
      "Differences best - other scores:\t[0.02 0.01 0.01 0.02 0.   0.02 0.02]\n",
      "The best paremeters set was\t \tSet 5: {'C': 10}\n",
      "Validation Accuracy score: \t\t[0.69 0.73 0.72]\n",
      "\n",
      "This is optimisation and CV number 5  \t----------------------------------------------------------------------------\n",
      "Mean scores: \t\t\t\t[0.7  0.71 0.7  0.7  0.69 0.71 0.69]\n",
      "Differences best - other scores:\t[0.01 0.   0.01 0.01 0.01 0.   0.02]\n",
      "The best paremeters set was\t \tSet 2: {'C': 0.01}\n",
      "Validation Accuracy score: \t\t[0.69 0.73 0.72 0.7 ]\n"
     ]
    }
   ],
   "source": [
    "# All 10 parameter optimisations and cross validations of a certain Classifier\n",
    "# Split the data randomly (stratified) in 10 folds\n",
    "splits = 4\n",
    "print(\"All {} PARAMETER OPTIMISATIONS AND CROSS VALIDATIONS OF THE \\\"KNeighborsClassifier\\\" ALGORITHM\".format(splits))\n",
    "strat_kfold_external = StratifiedKFold(n_splits=splits, shuffle=True, random_state=1)\n",
    "splitted_indexes_external = strat_kfold_external.split(X_CV, y_CV)\n",
    "\n",
    "params= [len(Estimator_parameters[param]) for param in Estimator_parameters]\n",
    "total_params= np.prod(params)\n",
    "\n",
    "best_index=[]\n",
    "Sum=[0]*total_params\n",
    "AP_Score =np.array([])\n",
    "ROC_Score =np.array([])\n",
    "Prec_Score =np.array([])\n",
    "Recall_Score =np.array([])\n",
    "F1_Score =np.array([])\n",
    "Sens_Score =np.array([])\n",
    "Spec_Score =np.array([])\n",
    "Accuracy_Score =np.array([])\n",
    "\n",
    "best_predictions_all=np.array([])\n",
    "test_all=np.array([])\n",
    "i=1\n",
    "for train_index_external, test_index_external in splitted_indexes_external:\n",
    "    i+=1\n",
    "    print(\"\\nThis is optimisation and CV number {}  \\t----------------------------------------------------------------------------\".format(i))\n",
    "    \n",
    "    # take i’th fold as test set and the other 3 folds together as training set\n",
    "    X_train, X_test = X_CV.iloc[train_index_external], X_CV.iloc[test_index_external]\n",
    "    y_train, y_test = y_CV.iloc[train_index_external], y_CV.iloc[test_index_external]    \n",
    "    # take the training set and split it randomly (stratified) \n",
    "    # in an inner training set of 2/3 size and an inner validation set of 1/3 size\n",
    "        \n",
    "    # for each of the ML methods\n",
    "    # for each combination of parameter values\n",
    "    # train the ML method with specified parameters on inner training set and validate on inner validation set\n",
    "    # take the combination of parameter values that yields highest performance (e.g. area under PR curve), \n",
    "    # also write down this parameter value combination train the ML method with best parameter values on\n",
    "    # the (outer) training set and test on the (outer) test set\n",
    "                \n",
    "    mod=clone(Estimator)\n",
    "    optimisation_param_AP = GridSearchCV(estimator=mod, param_grid=Estimator_parameters, cv=3, verbose=0, scoring='accuracy')\n",
    "    optimisation_param_AP.fit(X_train, y_train)\n",
    "    print('Mean scores: \\t\\t\\t\\t{}'.format((optimisation_param_AP.cv_results_['mean_test_score']).round(2)))\n",
    "    print('Differences best - other scores:\\t{}'.format((optimisation_param_AP.best_score_-optimisation_param_AP.cv_results_['mean_test_score']).round(2)))\n",
    "    print('The best paremeters set was\\t \\tSet {}: {}'.format(optimisation_param_AP.best_index_ +1, optimisation_param_AP.best_params_))\n",
    "    best_index.append(optimisation_param_AP.best_index_+1)\n",
    "    Sum=Sum+(optimisation_param_AP.cv_results_['mean_test_score']).round(2)\n",
    "    \n",
    "    # Building Random Forest Estimator with best parameters\n",
    "    best= optimisation_param_AP.best_estimator_\n",
    "    best.fit(X_train, y_train)\n",
    "    best_predictions = best.predict_proba(X_test)[:,1]\n",
    "    best_predictions=best_predictions\n",
    "    Average_precision_score=average_precision_score(y_test, best_predictions)\n",
    "    best_predictions_binary =  best.predict(X_test)\n",
    "    t=confusion_matrix(y_test, best_predictions_binary)\n",
    "    sensitivity=(t[1][1]/(t[1][0]+t[1][1]))\n",
    "    specificity=(t[0][0]/(t[0][1]+t[0][0]))\n",
    "    AP_Score =np.append(AP_Score , Average_precision_score)\n",
    "    ROC_Score =np.append(ROC_Score , roc_auc_score(y_test, best_predictions))\n",
    "    Prec_Score =np.append(Prec_Score , precision_score(y_test, best_predictions_binary))\n",
    "    Recall_Score =np.append(Recall_Score , recall_score(y_test, best_predictions_binary))\n",
    "    F1_Score =np.append(F1_Score , f1_score(y_test, best_predictions_binary))\n",
    "    Sens_Score =np.append(Sens_Score , sensitivity)\n",
    "    Spec_Score =np.append(Spec_Score , specificity)\n",
    "    Accuracy_Score =np.append(Accuracy_Score , accuracy_score(y_test, best_predictions_binary))\n",
    "    \n",
    "    best_predictions_all=np.append(best_predictions_all,best_predictions)\n",
    "    test_all=np.append(test_all,y_test)\n",
    "    print('Validation Accuracy score: \\t\\t{}'.format(Accuracy_Score .round(2)))"
   ]
  },
  {
   "cell_type": "markdown",
   "metadata": {
    "colab_type": "text",
    "id": "YmbevIm01qJN"
   },
   "source": [
    "Note on *Average Precision Score*: scoring='average_precision' = sklearn.metrics.average_precision_score. Compute average precision (AP) from prediction scores AP summarizes a precision-recall curve as the weighted mean of precisions achieved at each threshold.\n"
   ]
  },
  {
   "cell_type": "code",
   "execution_count": null,
   "metadata": {
    "colab": {
     "base_uri": "https://localhost:8080/",
     "height": 170
    },
    "colab_type": "code",
    "executionInfo": {
     "elapsed": 15021,
     "status": "ok",
     "timestamp": 1544659631401,
     "user": {
      "displayName": "Robbert Struyven",
      "photoUrl": "https://lh5.googleusercontent.com/-6QIbKl4FwZI/AAAAAAAAAAI/AAAAAAAAAAc/MZzIFCOiLj8/s64/photo.jpg",
      "userId": "15638207437883965838"
     },
     "user_tz": 300
    },
    "id": "Uhi4x_IT0UnA",
    "outputId": "02f9a63f-5051-47fc-9109-f08357bc2ddb"
   },
   "outputs": [
    {
     "name": "stdout",
     "output_type": "stream",
     "text": [
      "____________________________________________________________________________________________________________________\n",
      "\n",
      "Average of 4 splits mean_test_score for all 8 parameter sets:\n",
      "[0.7 0.7 0.7 0.7 0.7 0.7 0.7]\n",
      "Differences best Average - Average for all 8 parameter sets:\n",
      "[0.01 0.   0.   0.01 0.   0.01 0.01]\n",
      "Best Average mean_test_score = 0.7 for the 2th parameter: {'C': 0.01}\n",
      "Best Parameter Set for all 4 splits: [3, 7, 5, 2]\n",
      "Occurences of all 8 parameters as Best Parameter Set in a split: Counter({3: 1, 7: 1, 5: 1, 2: 1})\n"
     ]
    }
   ],
   "source": [
    "print('____________________________________________________________________________________________________________________\\n') \n",
    "Avg=Sum/splits\n",
    "print('Average of {} splits mean_test_score for all 8 parameter sets:\\n{}'.format(splits, Avg.round(2)))\n",
    "print('Differences best Average - Average for all 8 parameter sets:\\n{}'.format((Avg.max()-Avg).round(2)))\n",
    "print('Best Average mean_test_score = {} for the {}th parameter: {}'.format(round(Avg.max(),2), Avg.argmax()+1, optimisation_param_AP.cv_results_['params'][Avg.argmax()]))\n",
    "print('Best Parameter Set for all {} splits: {}'.format(splits,best_index))\n",
    "print('Occurences of all 8 parameters as Best Parameter Set in a split: {}'.format(Counter(best_index)))"
   ]
  },
  {
   "cell_type": "markdown",
   "metadata": {
    "colab_type": "text",
    "id": "Flp7iXF7VlCE"
   },
   "source": [
    "### 3.2 Model Performance and Area Under The Receiver Operating Characteristic Curve"
   ]
  },
  {
   "cell_type": "code",
   "execution_count": null,
   "metadata": {
    "colab": {
     "base_uri": "https://localhost:8080/",
     "height": 170
    },
    "colab_type": "code",
    "executionInfo": {
     "elapsed": 15004,
     "status": "ok",
     "timestamp": 1544659631403,
     "user": {
      "displayName": "Robbert Struyven",
      "photoUrl": "https://lh5.googleusercontent.com/-6QIbKl4FwZI/AAAAAAAAAAI/AAAAAAAAAAc/MZzIFCOiLj8/s64/photo.jpg",
      "userId": "15638207437883965838"
     },
     "user_tz": 300
    },
    "id": "werwdDs2x779",
    "outputId": "041a7d85-a9e1-4f35-8396-52c46d031865"
   },
   "outputs": [
    {
     "name": "stdout",
     "output_type": "stream",
     "text": [
      "____________________________________________________________________________________________________________________\n",
      "\n",
      "Estimator : All 4 Accuracy Scores of validation on the outer test set \n",
      "with the estimator with the optimised parameters trained on the inner test set: \n",
      "[0.68627451 0.73       0.72       0.7       ]\n",
      "\n",
      "\t\tAvg \t(+- STD  )\n",
      "\t\t-----------------\n",
      "Accuracy: \t0.709 \t(+- 0.017) \n"
     ]
    }
   ],
   "source": [
    "print('____________________________________________________________________________________________________________________\\n') \n",
    "print('Estimator : All {} Accuracy Scores of validation on the outer test set \\nwith the estimator with the optimised parameters trained on the inner test set: \\n{}'.format(splits, Accuracy_Score))\n",
    "print('\\n\\t\\tAvg \\t(+- STD  )\\n\\t\\t-----------------\\nAccuracy: \\t{} \\t(+- {}) '.format(round(Accuracy_Score.mean(),3), round(Accuracy_Score.std(),3)))"
   ]
  },
  {
   "cell_type": "code",
   "execution_count": null,
   "metadata": {
    "colab": {
     "base_uri": "https://localhost:8080/",
     "height": 297
    },
    "colab_type": "code",
    "executionInfo": {
     "elapsed": 14987,
     "status": "ok",
     "timestamp": 1544659631403,
     "user": {
      "displayName": "Robbert Struyven",
      "photoUrl": "https://lh5.googleusercontent.com/-6QIbKl4FwZI/AAAAAAAAAAI/AAAAAAAAAAc/MZzIFCOiLj8/s64/photo.jpg",
      "userId": "15638207437883965838"
     },
     "user_tz": 300
    },
    "id": "Kwu4rC2p20ZZ",
    "outputId": "7d8fe5de-78a7-4f2f-acc2-cd4fc4318fb1"
   },
   "outputs": [
    {
     "data": {
      "text/html": [
       "<div>\n",
       "<style scoped>\n",
       "    .dataframe tbody tr th:only-of-type {\n",
       "        vertical-align: middle;\n",
       "    }\n",
       "\n",
       "    .dataframe tbody tr th {\n",
       "        vertical-align: top;\n",
       "    }\n",
       "\n",
       "    .dataframe thead th {\n",
       "        text-align: right;\n",
       "    }\n",
       "</style>\n",
       "<table border=\"1\" class=\"dataframe\">\n",
       "  <thead>\n",
       "    <tr style=\"text-align: right;\">\n",
       "      <th></th>\n",
       "      <th>Logistic_mu</th>\n",
       "      <th>Logistic_std</th>\n",
       "    </tr>\n",
       "  </thead>\n",
       "  <tbody>\n",
       "    <tr>\n",
       "      <th>Average Precision</th>\n",
       "      <td>0.76</td>\n",
       "      <td>0.02</td>\n",
       "    </tr>\n",
       "    <tr>\n",
       "      <th>AUROC</th>\n",
       "      <td>0.78</td>\n",
       "      <td>0.01</td>\n",
       "    </tr>\n",
       "    <tr>\n",
       "      <th>Precision</th>\n",
       "      <td>0.68</td>\n",
       "      <td>0.03</td>\n",
       "    </tr>\n",
       "    <tr>\n",
       "      <th>Recall</th>\n",
       "      <td>0.70</td>\n",
       "      <td>0.08</td>\n",
       "    </tr>\n",
       "    <tr>\n",
       "      <th>F1_Score</th>\n",
       "      <td>0.69</td>\n",
       "      <td>0.03</td>\n",
       "    </tr>\n",
       "    <tr>\n",
       "      <th>Sensitivity</th>\n",
       "      <td>0.70</td>\n",
       "      <td>0.08</td>\n",
       "    </tr>\n",
       "    <tr>\n",
       "      <th>Specificity</th>\n",
       "      <td>0.72</td>\n",
       "      <td>0.06</td>\n",
       "    </tr>\n",
       "    <tr>\n",
       "      <th>Accuracy</th>\n",
       "      <td>0.71</td>\n",
       "      <td>0.02</td>\n",
       "    </tr>\n",
       "  </tbody>\n",
       "</table>\n",
       "</div>"
      ],
      "text/plain": [
       "                   Logistic_mu  Logistic_std\n",
       "Average Precision         0.76          0.02\n",
       "AUROC                     0.78          0.01\n",
       "Precision                 0.68          0.03\n",
       "Recall                    0.70          0.08\n",
       "F1_Score                  0.69          0.03\n",
       "Sensitivity               0.70          0.08\n",
       "Specificity               0.72          0.06\n",
       "Accuracy                  0.71          0.02"
      ]
     },
     "execution_count": 31,
     "metadata": {},
     "output_type": "execute_result"
    }
   ],
   "source": [
    "d={}\n",
    "Names=['Average Precision', 'AUROC', 'Precision', 'Recall', 'F1_Score', 'Sensitivity', 'Specificity', 'Accuracy']\n",
    "d['Logistic_mu'] = [AP_Score.mean(), ROC_Score.mean(), Prec_Score.mean(), Recall_Score.mean(), F1_Score.mean(), Sens_Score.mean(), Spec_Score.mean(), Accuracy_Score.mean()]\n",
    "d['Logistic_std'] = [AP_Score.std(), ROC_Score.std(), Prec_Score.std(), Recall_Score.std(), F1_Score.std(), Sens_Score.std(), Spec_Score.std(), Accuracy_Score.std()]\n",
    "df = pd.DataFrame(data=d, index=Names)\n",
    "#decimals = pd.Series([2, 3], index=['Logistic_mu', 'Logistic_std'])\n",
    "#df.round(decimals)\n",
    "df.round(2)"
   ]
  },
  {
   "cell_type": "code",
   "execution_count": null,
   "metadata": {
    "colab": {
     "base_uri": "https://localhost:8080/",
     "height": 376
    },
    "colab_type": "code",
    "executionInfo": {
     "elapsed": 15443,
     "status": "ok",
     "timestamp": 1544659631875,
     "user": {
      "displayName": "Robbert Struyven",
      "photoUrl": "https://lh5.googleusercontent.com/-6QIbKl4FwZI/AAAAAAAAAAI/AAAAAAAAAAc/MZzIFCOiLj8/s64/photo.jpg",
      "userId": "15638207437883965838"
     },
     "user_tz": 300
    },
    "id": "Ga1qEqAqKnOR",
    "outputId": "1c8ed4b0-b532-4c57-95be-ec574d810199"
   },
   "outputs": [
    {
     "data": {
      "image/png": "[encoded data removed]",
      "text/plain": [
       "<Figure size 432x288 with 1 Axes>"
      ]
     },
     "metadata": {
      "needs_background": "light"
     },
     "output_type": "display_data"
    }
   ],
   "source": [
    "# Compute ROC curve and ROC area for each class\n",
    "fpr = dict()\n",
    "tpr = dict()\n",
    "roc_auc = dict()\n",
    "\n",
    "fpr, tpr, _ = roc_curve(test_all[:], best_predictions_all[:])\n",
    "roc_auc = auc(fpr, tpr)\n",
    "\n",
    "# Plot of a ROC curve for a specific class\n",
    "plt.figure()\n",
    "lw = 2\n",
    "plt.plot(fpr, tpr, color='C1', lw=lw, label='ROC curve (area = %0.2f)' % roc_auc)\n",
    "plt.plot([0, 1], [0, 1], color='navy', lw=lw, linestyle='--')\n",
    "plt.xlim([0.0, 1.0])\n",
    "plt.ylim([0.0, 1.05])\n",
    "plt.xlabel('False Positive Rate')\n",
    "plt.ylabel('True Positive Rate')\n",
    "plt.title('Receiver operating characteristic example')\n",
    "plt.legend(loc=\"lower right\")\n",
    "plt.tight_layout()"
   ]
  },
  {
   "cell_type": "markdown",
   "metadata": {
    "colab_type": "text",
    "id": "q_TEQGCz0ywi"
   },
   "source": [
    "### 3.2bis Parameter Optimisation and 5-fold CV wrapper function"
   ]
  },
  {
   "cell_type": "code",
   "execution_count": null,
   "metadata": {
    "colab": {},
    "colab_type": "code",
    "id": "EG5XR_u15kqX"
   },
   "outputs": [],
   "source": [
    "def CV_and_Parameter_Optimization(X_CV, y_CV, splits, Estimator, Estimator_parameters):\n",
    "  # All 10 parameter optimisations and cross validations of a certain Classifier\n",
    "  strat_kfold_external = StratifiedKFold(n_splits=splits, shuffle=True, random_state=1)\n",
    "  splitted_indexes_external = strat_kfold_external.split(X_CV, y_CV)\n",
    "  params= [len(Estimator_parameters[param]) for param in Estimator_parameters]\n",
    "  total_params= np.prod(params)\n",
    "  best_index=[]\n",
    "  Sum=[0]*total_params\n",
    "  AP_Score =np.array([])\n",
    "  ROC_Score =np.array([])\n",
    "  Prec_Score =np.array([])\n",
    "  Recall_Score =np.array([])\n",
    "  F1_Score =np.array([])\n",
    "  Sens_Score =np.array([])\n",
    "  Spec_Score =np.array([])\n",
    "  Accuracy_Score =np.array([])\n",
    "\n",
    "  best_predictions_all=np.array([])\n",
    "  test_all=np.array([])\n",
    "  i=1\n",
    "  for train_index_external, test_index_external in splitted_indexes_external:\n",
    "      print(\"This is parameter optimisation and CV number {} ...\".format(i))\n",
    "      i=i+1\n",
    "      # take i’th fold as test set and the other 3 folds together as training set\n",
    "      X_train, X_test = X_CV.iloc[train_index_external], X_CV.iloc[test_index_external]\n",
    "      y_train, y_test = y_CV.iloc[train_index_external], y_CV.iloc[test_index_external]    \n",
    "      # take the training set and split it randomly (stratified) \n",
    "      # in an inner training set of 2/3 size and an inner validation set of 1/3 size\n",
    "\n",
    "      # for each of the ML methods\n",
    "      # for each combination of parameter values\n",
    "      # train the ML method with specified parameters on inner training set and validate on inner validation set\n",
    "      # take the combination of parameter values that yields highest performance (e.g. area under PR curve), \n",
    "      # also write down this parameter value combination train the ML method with best parameter values on\n",
    "      # the (outer) training set and test on the (outer) test set\n",
    "\n",
    "      mod=clone(Estimator)\n",
    "      optimisation_param_AP = GridSearchCV(estimator=mod, param_grid=Estimator_parameters, cv=3, verbose=0, scoring='accuracy')\n",
    "      optimisation_param_AP.fit(X_train, y_train)\n",
    "      best_index.append(optimisation_param_AP.best_index_+1)\n",
    "      Sum=Sum+(optimisation_param_AP.cv_results_['mean_test_score']).round(2)\n",
    "\n",
    "      # Building Estimator with best parameters\n",
    "      best= optimisation_param_AP.best_estimator_\n",
    "      best.fit(X_train, y_train)\n",
    "      best_predictions = best.predict_proba(X_test)[:,1]\n",
    "      best_predictions=best_predictions\n",
    "      Average_precision_score=average_precision_score(y_test, best_predictions)\n",
    "      best_predictions_binary =  best.predict(X_test)\n",
    "      t=confusion_matrix(y_test, best_predictions_binary)\n",
    "      sensitivity=(t[1][1]/(t[1][0]+t[1][1]))\n",
    "      specificity=(t[0][0]/(t[0][1]+t[0][0]))\n",
    "      AP_Score =np.append(AP_Score , Average_precision_score)\n",
    "      ROC_Score =np.append(ROC_Score , roc_auc_score(y_test, best_predictions))\n",
    "      Prec_Score =np.append(Prec_Score , precision_score(y_test, best_predictions_binary))\n",
    "      Recall_Score =np.append(Recall_Score , recall_score(y_test, best_predictions_binary))\n",
    "      F1_Score =np.append(F1_Score , f1_score(y_test, best_predictions_binary))\n",
    "      Sens_Score =np.append(Sens_Score , sensitivity)\n",
    "      Spec_Score =np.append(Spec_Score , specificity)\n",
    "      Accuracy_Score =np.append(Accuracy_Score , accuracy_score(y_test, best_predictions_binary))\n",
    "\n",
    "      best_predictions_all=np.append(best_predictions_all,best_predictions)\n",
    "      test_all=np.append(test_all,y_test)\n",
    "  \n",
    "  print('Done: Validation Accuracy score: \\t\\t{}'.format(Accuracy_Score .round(3)))\n",
    "  return AP_Score,  ROC_Score,  Prec_Score,  Recall_Score,  F1_Score,  Sens_Score, Spec_Score, Accuracy_Score,  best_predictions_all, test_all\n"
   ]
  },
  {
   "cell_type": "code",
   "execution_count": null,
   "metadata": {
    "colab": {
     "base_uri": "https://localhost:8080/",
     "height": 187
    },
    "colab_type": "code",
    "executionInfo": {
     "elapsed": 16178,
     "status": "ok",
     "timestamp": 1544659632638,
     "user": {
      "displayName": "Robbert Struyven",
      "photoUrl": "https://lh5.googleusercontent.com/-6QIbKl4FwZI/AAAAAAAAAAI/AAAAAAAAAAc/MZzIFCOiLj8/s64/photo.jpg",
      "userId": "15638207437883965838"
     },
     "user_tz": 300
    },
    "id": "hIlknkCs5kvR",
    "outputId": "3254b65f-5953-41e0-b083-ee5729259b44"
   },
   "outputs": [
    {
     "name": "stdout",
     "output_type": "stream",
     "text": [
      "This is parameter optimisation and CV number 1 ...\n",
      "This is parameter optimisation and CV number 2 ...\n",
      "This is parameter optimisation and CV number 3 ...\n",
      "This is parameter optimisation and CV number 4 ...\n",
      "Done: Validation Accuracy score: \t\t[0.676 0.73  0.73  0.7  ]\n"
     ]
    }
   ],
   "source": [
    "LOGI_AP=np.array([])    ;  LOGI_ROC=np.array([])     ;  LOGI_Prec=np.array([])\n",
    "LOGI_Recall=np.array([]);  LOGI_F1=np.array([])      ;  LOGI_Sens=np.array([])\n",
    "LOGI_Spec=np.array([])  ;  LOGI_Accuracy=np.array([]);  LOGI_binary_mean=np.array([])\n",
    "LOGI_best_predictions_all=np.array([])               ;  LOGI_test_all=np.array([])\n",
    "\n",
    "Estimator_parameters = {'C':[1] }\n",
    "Estimator=LogisticRegression(random_state=1, solver='liblinear', class_weight='balanced')\n",
    "\n",
    "LOGI_AP,  LOGI_ROC,  LOGI_Prec,  LOGI_Recall,  LOGI_F1,  LOGI_Sens, LOGI_Spec, \\\n",
    "LOGI_Accuracy,  LOGI_best_predictions_all,  LOGI_test_all \\\n",
    "= CV_and_Parameter_Optimization(X_CV, y_CV, splits, Estimator, Estimator_parameters)"
   ]
  },
  {
   "cell_type": "code",
   "execution_count": null,
   "metadata": {
    "colab": {
     "base_uri": "https://localhost:8080/",
     "height": 297
    },
    "colab_type": "code",
    "executionInfo": {
     "elapsed": 16164,
     "status": "ok",
     "timestamp": 1544659632640,
     "user": {
      "displayName": "Robbert Struyven",
      "photoUrl": "https://lh5.googleusercontent.com/-6QIbKl4FwZI/AAAAAAAAAAI/AAAAAAAAAAc/MZzIFCOiLj8/s64/photo.jpg",
      "userId": "15638207437883965838"
     },
     "user_tz": 300
    },
    "id": "3A4UVsSH8-qS",
    "outputId": "c0e74c81-774a-43c7-e9d6-dfd4f1201605"
   },
   "outputs": [
    {
     "data": {
      "text/html": [
       "<div>\n",
       "<style scoped>\n",
       "    .dataframe tbody tr th:only-of-type {\n",
       "        vertical-align: middle;\n",
       "    }\n",
       "\n",
       "    .dataframe tbody tr th {\n",
       "        vertical-align: top;\n",
       "    }\n",
       "\n",
       "    .dataframe thead th {\n",
       "        text-align: right;\n",
       "    }\n",
       "</style>\n",
       "<table border=\"1\" class=\"dataframe\">\n",
       "  <thead>\n",
       "    <tr style=\"text-align: right;\">\n",
       "      <th></th>\n",
       "      <th>0 Logistic_mu_default</th>\n",
       "      <th>a Logistic_std_default</th>\n",
       "    </tr>\n",
       "  </thead>\n",
       "  <tbody>\n",
       "    <tr>\n",
       "      <th>Average Precision</th>\n",
       "      <td>0.75</td>\n",
       "      <td>0.01</td>\n",
       "    </tr>\n",
       "    <tr>\n",
       "      <th>AUROC</th>\n",
       "      <td>0.78</td>\n",
       "      <td>0.01</td>\n",
       "    </tr>\n",
       "    <tr>\n",
       "      <th>Precision</th>\n",
       "      <td>0.68</td>\n",
       "      <td>0.03</td>\n",
       "    </tr>\n",
       "    <tr>\n",
       "      <th>Recall</th>\n",
       "      <td>0.71</td>\n",
       "      <td>0.08</td>\n",
       "    </tr>\n",
       "    <tr>\n",
       "      <th>F1_Score</th>\n",
       "      <td>0.69</td>\n",
       "      <td>0.03</td>\n",
       "    </tr>\n",
       "    <tr>\n",
       "      <th>Sensitivity</th>\n",
       "      <td>0.71</td>\n",
       "      <td>0.08</td>\n",
       "    </tr>\n",
       "    <tr>\n",
       "      <th>Specificity</th>\n",
       "      <td>0.71</td>\n",
       "      <td>0.06</td>\n",
       "    </tr>\n",
       "    <tr>\n",
       "      <th>Accuracy</th>\n",
       "      <td>0.71</td>\n",
       "      <td>0.02</td>\n",
       "    </tr>\n",
       "  </tbody>\n",
       "</table>\n",
       "</div>"
      ],
      "text/plain": [
       "                   0 Logistic_mu_default  a Logistic_std_default\n",
       "Average Precision                   0.75                    0.01\n",
       "AUROC                               0.78                    0.01\n",
       "Precision                           0.68                    0.03\n",
       "Recall                              0.71                    0.08\n",
       "F1_Score                            0.69                    0.03\n",
       "Sensitivity                         0.71                    0.08\n",
       "Specificity                         0.71                    0.06\n",
       "Accuracy                            0.71                    0.02"
      ]
     },
     "execution_count": 35,
     "metadata": {},
     "output_type": "execute_result"
    }
   ],
   "source": [
    "d={} # dictionarry with all the results\n",
    "Names=['Average Precision', 'AUROC', 'Precision', 'Recall', 'F1_Score', 'Sensitivity', 'Specificity', 'Accuracy']\n",
    "d['0 Logistic_mu_default'] = [LOGI_AP.mean(),  LOGI_ROC.mean(),  LOGI_Prec.mean(),  LOGI_Recall.mean(),  LOGI_F1.mean(),  LOGI_Sens.mean(), LOGI_Spec.mean(), LOGI_Accuracy.mean()]\n",
    "d['a Logistic_std_default'] = [LOGI_AP.std(),  LOGI_ROC.std(),  LOGI_Prec.std(),  LOGI_Recall.std(),  LOGI_F1.std(),  LOGI_Sens.std(), LOGI_Spec.std(), LOGI_Accuracy.std()]\n",
    "df = pd.DataFrame(data=d, index=Names)\n",
    "df.round(2)"
   ]
  },
  {
   "cell_type": "markdown",
   "metadata": {
    "colab_type": "text",
    "id": "25poCD5B0Scb"
   },
   "source": [
    "### Preprocessing: Scaling "
   ]
  },
  {
   "cell_type": "code",
   "execution_count": null,
   "metadata": {
    "colab": {},
    "colab_type": "code",
    "id": "at35gF5k0ti4"
   },
   "outputs": [],
   "source": [
    "X_CV  = X_2\n",
    "y_CV  = y_2"
   ]
  },
  {
   "cell_type": "code",
   "execution_count": null,
   "metadata": {
    "colab": {},
    "colab_type": "code",
    "id": "VBivbB-z0DsG"
   },
   "outputs": [],
   "source": [
    "X_std = (X_CV - X_CV.min(axis=0)) / (X_CV.max(axis=0) - X_CV.min(axis=0))\n",
    "X_CV  = X_std.dropna(axis=1).copy()"
   ]
  },
  {
   "cell_type": "markdown",
   "metadata": {
    "colab_type": "text",
    "id": "tqE75u1zjAAj"
   },
   "source": [
    "## 3.3 Model Performance testing"
   ]
  },
  {
   "cell_type": "markdown",
   "metadata": {
    "colab_type": "text",
    "id": "Juy8tD0VjSgD"
   },
   "source": [
    "#### 3.3.1 KNN\n",
    "``` class sklearn.neighbors.KNeighborsClassifier(n_neighbors=5, weights='uniform', algorithm='auto', \n",
    " leaf_size=30, p=2, metric='minkowski', metric_params=None, n_jobs=1, **kwargs)````\n",
    "\n",
    "Test parameters:\n",
    "- n_neighbors: 1, 3, 5, 9\n",
    "- p: 1, 2 (manhattan and euclidean distance)"
   ]
  },
  {
   "cell_type": "code",
   "execution_count": null,
   "metadata": {
    "colab": {},
    "colab_type": "code",
    "id": "kvYPwtz_jRfY"
   },
   "outputs": [],
   "source": [
    "KNN_parameters = {'p':[1,2], 'n_neighbors':[1, 3, 5, 9]}\n",
    "KNN = KNeighborsClassifier(weights='distance')"
   ]
  },
  {
   "cell_type": "code",
   "execution_count": null,
   "metadata": {
    "colab": {
     "base_uri": "https://localhost:8080/",
     "height": 187
    },
    "colab_type": "code",
    "executionInfo": {
     "elapsed": 17675,
     "status": "ok",
     "timestamp": 1544659634187,
     "user": {
      "displayName": "Robbert Struyven",
      "photoUrl": "https://lh5.googleusercontent.com/-6QIbKl4FwZI/AAAAAAAAAAI/AAAAAAAAAAc/MZzIFCOiLj8/s64/photo.jpg",
      "userId": "15638207437883965838"
     },
     "user_tz": 300
    },
    "id": "ip4Dg-RMouUH",
    "outputId": "c9bfbaa6-bf9a-4ab7-a8ca-1f67f94c5448"
   },
   "outputs": [
    {
     "name": "stdout",
     "output_type": "stream",
     "text": [
      "This is parameter optimisation and CV number 1 ...\n",
      "This is parameter optimisation and CV number 2 ...\n",
      "This is parameter optimisation and CV number 3 ...\n",
      "This is parameter optimisation and CV number 4 ...\n",
      "Done: Validation Accuracy score: \t\t[0.676 0.68  0.76  0.69 ]\n"
     ]
    }
   ],
   "source": [
    "KNN_AP=np.array([])    ;  KNN_ROC=np.array([])     ;  KNN_Prec=np.array([])\n",
    "KNN_Recall=np.array([]);  KNN_F1=np.array([])      ;  KNN_Sens=np.array([])\n",
    "KNN_Spec=np.array([])  ;  KNN_Accuracy=np.array([]);  KNN_binary_mean=np.array([])\n",
    "KNN_best_predictions_all=np.array([])               ;  KNN_test_all=np.array([])\n",
    "\n",
    "KNN_AP,  KNN_ROC,  KNN_Prec,  KNN_Recall,  KNN_F1,  KNN_Sens, KNN_Spec, \\\n",
    "KNN_Accuracy,  KNN_best_predictions_all,  KNN_test_all \\\n",
    "= CV_and_Parameter_Optimization(X_CV, y_CV, splits, KNN, KNN_parameters)"
   ]
  },
  {
   "cell_type": "code",
   "execution_count": null,
   "metadata": {
    "colab": {
     "base_uri": "https://localhost:8080/",
     "height": 297
    },
    "colab_type": "code",
    "executionInfo": {
     "elapsed": 17660,
     "status": "ok",
     "timestamp": 1544659634188,
     "user": {
      "displayName": "Robbert Struyven",
      "photoUrl": "https://lh5.googleusercontent.com/-6QIbKl4FwZI/AAAAAAAAAAI/AAAAAAAAAAc/MZzIFCOiLj8/s64/photo.jpg",
      "userId": "15638207437883965838"
     },
     "user_tz": 300
    },
    "id": "Sa39fozdAsgw",
    "outputId": "7bcd0c98-4c68-421f-f807-3afee56f9bed"
   },
   "outputs": [
    {
     "data": {
      "text/html": [
       "<div>\n",
       "<style scoped>\n",
       "    .dataframe tbody tr th:only-of-type {\n",
       "        vertical-align: middle;\n",
       "    }\n",
       "\n",
       "    .dataframe tbody tr th {\n",
       "        vertical-align: top;\n",
       "    }\n",
       "\n",
       "    .dataframe thead th {\n",
       "        text-align: right;\n",
       "    }\n",
       "</style>\n",
       "<table border=\"1\" class=\"dataframe\">\n",
       "  <thead>\n",
       "    <tr style=\"text-align: right;\">\n",
       "      <th></th>\n",
       "      <th>1 KNN_mu</th>\n",
       "      <th>1 KNN_std</th>\n",
       "    </tr>\n",
       "  </thead>\n",
       "  <tbody>\n",
       "    <tr>\n",
       "      <th>Average Precision</th>\n",
       "      <td>0.69</td>\n",
       "      <td>0.05</td>\n",
       "    </tr>\n",
       "    <tr>\n",
       "      <th>AUROC</th>\n",
       "      <td>0.76</td>\n",
       "      <td>0.06</td>\n",
       "    </tr>\n",
       "    <tr>\n",
       "      <th>Precision</th>\n",
       "      <td>0.67</td>\n",
       "      <td>0.07</td>\n",
       "    </tr>\n",
       "    <tr>\n",
       "      <th>Recall</th>\n",
       "      <td>0.74</td>\n",
       "      <td>0.07</td>\n",
       "    </tr>\n",
       "    <tr>\n",
       "      <th>F1_Score</th>\n",
       "      <td>0.70</td>\n",
       "      <td>0.02</td>\n",
       "    </tr>\n",
       "    <tr>\n",
       "      <th>Sensitivity</th>\n",
       "      <td>0.74</td>\n",
       "      <td>0.07</td>\n",
       "    </tr>\n",
       "    <tr>\n",
       "      <th>Specificity</th>\n",
       "      <td>0.67</td>\n",
       "      <td>0.11</td>\n",
       "    </tr>\n",
       "    <tr>\n",
       "      <th>Accuracy</th>\n",
       "      <td>0.70</td>\n",
       "      <td>0.03</td>\n",
       "    </tr>\n",
       "  </tbody>\n",
       "</table>\n",
       "</div>"
      ],
      "text/plain": [
       "                   1 KNN_mu  1 KNN_std\n",
       "Average Precision      0.69       0.05\n",
       "AUROC                  0.76       0.06\n",
       "Precision              0.67       0.07\n",
       "Recall                 0.74       0.07\n",
       "F1_Score               0.70       0.02\n",
       "Sensitivity            0.74       0.07\n",
       "Specificity            0.67       0.11\n",
       "Accuracy               0.70       0.03"
      ]
     },
     "execution_count": 40,
     "metadata": {},
     "output_type": "execute_result"
    }
   ],
   "source": [
    "d={} # dictionarry with all the results\n",
    "Names=['Average Precision', 'AUROC', 'Precision', 'Recall', 'F1_Score', 'Sensitivity', 'Specificity', 'Accuracy']\n",
    "d['1 KNN_mu'] = [KNN_AP.mean(),  KNN_ROC.mean(),  KNN_Prec.mean(),  KNN_Recall.mean(),  KNN_F1.mean(),  KNN_Sens.mean(), KNN_Spec.mean(), KNN_Accuracy.mean()]\n",
    "d['1 KNN_std'] = [KNN_AP.std(),  KNN_ROC.std(),  KNN_Prec.std(),  KNN_Recall.std(),  KNN_F1.std(),  KNN_Sens.std(), KNN_Spec.std(), KNN_Accuracy.std()]\n",
    "df = pd.DataFrame(data=d, index=Names)\n",
    "df.round(2)"
   ]
  },
  {
   "cell_type": "markdown",
   "metadata": {
    "colab_type": "text",
    "id": "gN9_610CowIG"
   },
   "source": [
    "#### 3.3.2 Logistic Regression\n",
    "```class sklearn.linear_model.LogisticRegression(penalty=’l2’, dual=False, tol=0.0001,  C=1.0, fit_intercept=True, intercept_scaling=1, class_weight=None, random_state=None,  solver=’liblinear’, max_iter=100, multi_class=’ovr’, verbose=0, warm_start=False, n_jobs=1)```\n",
    "\n",
    "Test parameters:\n",
    "- solver : {‘newton-cg’, ‘lbfgs’, ‘liblinear’, ‘sag’, ‘saga’},\n",
    "- C: 0.001,0.01,0.1,1,10,100,1000 \n"
   ]
  },
  {
   "cell_type": "code",
   "execution_count": null,
   "metadata": {
    "colab": {},
    "colab_type": "code",
    "id": "LPQtR2mbmyCE"
   },
   "outputs": [],
   "source": [
    "LOGI_parameters = {'C':[0.001,0.01,0.1,1,10,100,1000] }\n",
    "LOGI =LogisticRegression(random_state=1,max_iter=1000,tol=5e-4, solver='liblinear', class_weight='balanced')"
   ]
  },
  {
   "cell_type": "code",
   "execution_count": null,
   "metadata": {
    "colab": {
     "base_uri": "https://localhost:8080/",
     "height": 187
    },
    "colab_type": "code",
    "executionInfo": {
     "elapsed": 17939,
     "status": "ok",
     "timestamp": 1544659634490,
     "user": {
      "displayName": "Robbert Struyven",
      "photoUrl": "https://lh5.googleusercontent.com/-6QIbKl4FwZI/AAAAAAAAAAI/AAAAAAAAAAc/MZzIFCOiLj8/s64/photo.jpg",
      "userId": "15638207437883965838"
     },
     "user_tz": 300
    },
    "id": "Yt-Wg7PDA9EB",
    "outputId": "c9c36184-c7cd-43ca-e404-809f7f70a531"
   },
   "outputs": [
    {
     "name": "stdout",
     "output_type": "stream",
     "text": [
      "This is parameter optimisation and CV number 1 ...\n",
      "This is parameter optimisation and CV number 2 ...\n",
      "This is parameter optimisation and CV number 3 ...\n",
      "This is parameter optimisation and CV number 4 ...\n",
      "Done: Validation Accuracy score: \t\t[0.627 0.66  0.72  0.71 ]\n"
     ]
    }
   ],
   "source": [
    "LOGI_AP,  LOGI_ROC,  LOGI_Prec,  LOGI_Recall,  LOGI_F1,  LOGI_Sens, LOGI_Spec, \\\n",
    "LOGI_Accuracy,  LOGI_best_predictions_all,  LOGI_test_all \\\n",
    "= CV_and_Parameter_Optimization(X_CV, y_CV, splits, LOGI, LOGI_parameters)"
   ]
  },
  {
   "cell_type": "code",
   "execution_count": null,
   "metadata": {
    "colab": {
     "base_uri": "https://localhost:8080/",
     "height": 297
    },
    "colab_type": "code",
    "executionInfo": {
     "elapsed": 17925,
     "status": "ok",
     "timestamp": 1544659634490,
     "user": {
      "displayName": "Robbert Struyven",
      "photoUrl": "https://lh5.googleusercontent.com/-6QIbKl4FwZI/AAAAAAAAAAI/AAAAAAAAAAc/MZzIFCOiLj8/s64/photo.jpg",
      "userId": "15638207437883965838"
     },
     "user_tz": 300
    },
    "id": "FHkKtmFNpBWU",
    "outputId": "305f64cd-5991-40ed-fa0e-1576cea0bcbf"
   },
   "outputs": [
    {
     "data": {
      "text/html": [
       "<div>\n",
       "<style scoped>\n",
       "    .dataframe tbody tr th:only-of-type {\n",
       "        vertical-align: middle;\n",
       "    }\n",
       "\n",
       "    .dataframe tbody tr th {\n",
       "        vertical-align: top;\n",
       "    }\n",
       "\n",
       "    .dataframe thead th {\n",
       "        text-align: right;\n",
       "    }\n",
       "</style>\n",
       "<table border=\"1\" class=\"dataframe\">\n",
       "  <thead>\n",
       "    <tr style=\"text-align: right;\">\n",
       "      <th></th>\n",
       "      <th>1 KNN_mu</th>\n",
       "      <th>1 KNN_std</th>\n",
       "      <th>2 LOGI_mu</th>\n",
       "      <th>2 LOGI_std</th>\n",
       "    </tr>\n",
       "  </thead>\n",
       "  <tbody>\n",
       "    <tr>\n",
       "      <th>Average Precision</th>\n",
       "      <td>0.69</td>\n",
       "      <td>0.05</td>\n",
       "      <td>0.74</td>\n",
       "      <td>0.05</td>\n",
       "    </tr>\n",
       "    <tr>\n",
       "      <th>AUROC</th>\n",
       "      <td>0.76</td>\n",
       "      <td>0.06</td>\n",
       "      <td>0.77</td>\n",
       "      <td>0.04</td>\n",
       "    </tr>\n",
       "    <tr>\n",
       "      <th>Precision</th>\n",
       "      <td>0.67</td>\n",
       "      <td>0.07</td>\n",
       "      <td>0.65</td>\n",
       "      <td>0.06</td>\n",
       "    </tr>\n",
       "    <tr>\n",
       "      <th>Recall</th>\n",
       "      <td>0.74</td>\n",
       "      <td>0.07</td>\n",
       "      <td>0.71</td>\n",
       "      <td>0.09</td>\n",
       "    </tr>\n",
       "    <tr>\n",
       "      <th>F1_Score</th>\n",
       "      <td>0.70</td>\n",
       "      <td>0.02</td>\n",
       "      <td>0.67</td>\n",
       "      <td>0.03</td>\n",
       "    </tr>\n",
       "    <tr>\n",
       "      <th>Sensitivity</th>\n",
       "      <td>0.74</td>\n",
       "      <td>0.07</td>\n",
       "      <td>0.71</td>\n",
       "      <td>0.09</td>\n",
       "    </tr>\n",
       "    <tr>\n",
       "      <th>Specificity</th>\n",
       "      <td>0.67</td>\n",
       "      <td>0.11</td>\n",
       "      <td>0.65</td>\n",
       "      <td>0.12</td>\n",
       "    </tr>\n",
       "    <tr>\n",
       "      <th>Accuracy</th>\n",
       "      <td>0.70</td>\n",
       "      <td>0.03</td>\n",
       "      <td>0.68</td>\n",
       "      <td>0.04</td>\n",
       "    </tr>\n",
       "  </tbody>\n",
       "</table>\n",
       "</div>"
      ],
      "text/plain": [
       "                   1 KNN_mu  1 KNN_std  2 LOGI_mu  2 LOGI_std\n",
       "Average Precision      0.69       0.05       0.74        0.05\n",
       "AUROC                  0.76       0.06       0.77        0.04\n",
       "Precision              0.67       0.07       0.65        0.06\n",
       "Recall                 0.74       0.07       0.71        0.09\n",
       "F1_Score               0.70       0.02       0.67        0.03\n",
       "Sensitivity            0.74       0.07       0.71        0.09\n",
       "Specificity            0.67       0.11       0.65        0.12\n",
       "Accuracy               0.70       0.03       0.68        0.04"
      ]
     },
     "execution_count": 43,
     "metadata": {},
     "output_type": "execute_result"
    }
   ],
   "source": [
    "Names=['Average Precision', 'AUROC', 'Precision', 'Recall', 'F1_Score', 'Sensitivity', 'Specificity', 'Accuracy']\n",
    "d['2 LOGI_mu'] = [LOGI_AP.mean(),  LOGI_ROC.mean(),  LOGI_Prec.mean(),  LOGI_Recall.mean(),  LOGI_F1.mean(),  LOGI_Sens.mean(), LOGI_Spec.mean(), LOGI_Accuracy.mean()]\n",
    "d['2 LOGI_std'] = [LOGI_AP.std(),  LOGI_ROC.std(),  LOGI_Prec.std(),  LOGI_Recall.std(),  LOGI_F1.std(),  LOGI_Sens.std(), LOGI_Spec.std(), LOGI_Accuracy.std()]\n",
    "df = pd.DataFrame(data=d, index=Names)\n",
    "df.round(2)"
   ]
  },
  {
   "cell_type": "markdown",
   "metadata": {
    "colab_type": "text",
    "id": "L450NFyIqCwS"
   },
   "source": [
    "#### 3.3.3 SVM\n",
    "``` class sklearn.svm.SVC(C=1.0, kernel=’rbf’, degree=3, gamma=’auto’, coef0=0.0, shrinking=True, probability=False, tol=0.001, cache_size=200, class_weight=None, verbose=False, max_iter=-1, decision_function_shape=’ovr’, random_state=None) ```\n",
    "\n",
    "Test parameters:\n",
    "-  C: 0.001,0.01,0.1,1,10,100,1000 \n",
    "- gamma = 0.001,0.01,0.1,1"
   ]
  },
  {
   "cell_type": "code",
   "execution_count": null,
   "metadata": {
    "colab": {},
    "colab_type": "code",
    "id": "MkbxTyn4kOGV"
   },
   "outputs": [],
   "source": [
    "SVC_parameters = {'C':[0.1,1,10], 'gamma':[0.01,0.1,1] }\n",
    "svc=SVC(probability=True,random_state=1,class_weight='balanced', cache_size=20000,kernel='rbf')"
   ]
  },
  {
   "cell_type": "code",
   "execution_count": null,
   "metadata": {
    "colab": {
     "base_uri": "https://localhost:8080/",
     "height": 187
    },
    "colab_type": "code",
    "executionInfo": {
     "elapsed": 21068,
     "status": "ok",
     "timestamp": 1544659637646,
     "user": {
      "displayName": "Robbert Struyven",
      "photoUrl": "https://lh5.googleusercontent.com/-6QIbKl4FwZI/AAAAAAAAAAI/AAAAAAAAAAc/MZzIFCOiLj8/s64/photo.jpg",
      "userId": "15638207437883965838"
     },
     "user_tz": 300
    },
    "id": "4sx1tUipqXmE",
    "outputId": "ef24648b-4320-4f9e-a81f-231bba011587"
   },
   "outputs": [
    {
     "name": "stdout",
     "output_type": "stream",
     "text": [
      "This is parameter optimisation and CV number 1 ...\n",
      "This is parameter optimisation and CV number 2 ...\n",
      "This is parameter optimisation and CV number 3 ...\n",
      "This is parameter optimisation and CV number 4 ...\n",
      "Done: Validation Accuracy score: \t\t[0.716 0.67  0.73  0.71 ]\n"
     ]
    }
   ],
   "source": [
    "SVC_AP,  SVC_ROC,  SVC_Prec,  SVC_Recall,  SVC_F1,  SVC_Sens, SVC_Spec, \\\n",
    "SVC_Accuracy,  SVC_best_predictions_all,  SVC_test_all \\\n",
    "= CV_and_Parameter_Optimization(X_CV, y_CV, splits, svc, SVC_parameters)"
   ]
  },
  {
   "cell_type": "code",
   "execution_count": null,
   "metadata": {
    "colab": {
     "base_uri": "https://localhost:8080/",
     "height": 34
    },
    "colab_type": "code",
    "executionInfo": {
     "elapsed": 21062,
     "status": "ok",
     "timestamp": 1544659637647,
     "user": {
      "displayName": "Robbert Struyven",
      "photoUrl": "https://lh5.googleusercontent.com/-6QIbKl4FwZI/AAAAAAAAAAI/AAAAAAAAAAc/MZzIFCOiLj8/s64/photo.jpg",
      "userId": "15638207437883965838"
     },
     "user_tz": 300
    },
    "id": "SGcRmc2ECeod",
    "outputId": "e32882f4-952b-4ecd-9c4b-52cffe369ab6"
   },
   "outputs": [
    {
     "name": "stdout",
     "output_type": "stream",
     "text": [
      "SVC never converges...\n"
     ]
    }
   ],
   "source": [
    "#d['3 SVC_mu'] = [SVC_AP.mean(),  SVC_ROC.mean(),  SVC_Prec.mean(),  SVC_Recall.mean(),  SVC_F1.mean(),  SVC_Sens.mean(), SVC_Spec.mean(), SVC_Accuracy.mean()]\n",
    "#d['c SVC_std'] = [SVC_AP.std(),  SVC_ROC.std(),  SVC_Prec.std(),  SVC_Recall.std(),  SVC_F1.std(),  SVC_Sens.std(), SVC_Spec.std(), SVC_Accuracy.std()]\n",
    "#df = pd.DataFrame(data=d, index=Names)\n",
    "#df.round(2)\n",
    "\n",
    "print(\"SVC never converges...\")"
   ]
  },
  {
   "cell_type": "markdown",
   "metadata": {
    "colab_type": "text",
    "id": "5i-AUcBpqa4h"
   },
   "source": [
    "#### 3.3.4 Decision Tree\n",
    "```class sklearn.tree.DecisionTreeClassifier(criterion=’gini’, splitter=’best’, max_depth=None, min_samples_split=2, min_samples_leaf=1, min_weight_fraction_leaf=0.0, max_features=None, random_state=None, max_leaf_nodes=None, min_impurity_decrease=0.0, min_impurity_split=None, class_weight=None, presort=False)```\n",
    "\n",
    "Test parameters:\n",
    "- max depth = 2, 3, 4, ..., 13, 14, 15"
   ]
  },
  {
   "cell_type": "code",
   "execution_count": null,
   "metadata": {
    "colab": {},
    "colab_type": "code",
    "id": "17tiE9GCqbHD"
   },
   "outputs": [],
   "source": [
    "TREE_parameters ={ 'max_depth':range(2,15,2) }    \n",
    "TREE = DecisionTreeClassifier(random_state=1)"
   ]
  },
  {
   "cell_type": "code",
   "execution_count": null,
   "metadata": {
    "colab": {
     "base_uri": "https://localhost:8080/",
     "height": 187
    },
    "colab_type": "code",
    "executionInfo": {
     "elapsed": 21534,
     "status": "ok",
     "timestamp": 1544659638137,
     "user": {
      "displayName": "Robbert Struyven",
      "photoUrl": "https://lh5.googleusercontent.com/-6QIbKl4FwZI/AAAAAAAAAAI/AAAAAAAAAAc/MZzIFCOiLj8/s64/photo.jpg",
      "userId": "15638207437883965838"
     },
     "user_tz": 300
    },
    "id": "BVAMxyizqbO_",
    "outputId": "809878b3-f542-4326-b385-8b347964ee4c"
   },
   "outputs": [
    {
     "name": "stdout",
     "output_type": "stream",
     "text": [
      "This is parameter optimisation and CV number 1 ...\n",
      "This is parameter optimisation and CV number 2 ...\n",
      "This is parameter optimisation and CV number 3 ...\n",
      "This is parameter optimisation and CV number 4 ...\n",
      "Done: Validation Accuracy score: \t\t[0.647 0.68  0.61  0.61 ]\n"
     ]
    }
   ],
   "source": [
    "TREE_AP,  TREE_ROC,  TREE_Prec,  TREE_Recall,  TREE_F1,  TREE_Sens, TREE_Spec, \\\n",
    "TREE_Accuracy,  TREE_best_predictions_all,  TREE_test_all \\\n",
    "= CV_and_Parameter_Optimization(X_CV, y_CV, splits, TREE, TREE_parameters)"
   ]
  },
  {
   "cell_type": "code",
   "execution_count": null,
   "metadata": {
    "colab": {
     "base_uri": "https://localhost:8080/",
     "height": 297
    },
    "colab_type": "code",
    "executionInfo": {
     "elapsed": 21524,
     "status": "ok",
     "timestamp": 1544659638138,
     "user": {
      "displayName": "Robbert Struyven",
      "photoUrl": "https://lh5.googleusercontent.com/-6QIbKl4FwZI/AAAAAAAAAAI/AAAAAAAAAAc/MZzIFCOiLj8/s64/photo.jpg",
      "userId": "15638207437883965838"
     },
     "user_tz": 300
    },
    "id": "j0WqoU6NDFCn",
    "outputId": "3c29b9c0-b22c-4271-bd68-19cb0638cac3"
   },
   "outputs": [
    {
     "data": {
      "text/html": [
       "<div>\n",
       "<style scoped>\n",
       "    .dataframe tbody tr th:only-of-type {\n",
       "        vertical-align: middle;\n",
       "    }\n",
       "\n",
       "    .dataframe tbody tr th {\n",
       "        vertical-align: top;\n",
       "    }\n",
       "\n",
       "    .dataframe thead th {\n",
       "        text-align: right;\n",
       "    }\n",
       "</style>\n",
       "<table border=\"1\" class=\"dataframe\">\n",
       "  <thead>\n",
       "    <tr style=\"text-align: right;\">\n",
       "      <th></th>\n",
       "      <th>1 KNN_mu</th>\n",
       "      <th>1 KNN_std</th>\n",
       "      <th>2 LOGI_mu</th>\n",
       "      <th>2 LOGI_std</th>\n",
       "      <th>3 TREE_mu</th>\n",
       "      <th>3 TREE_std</th>\n",
       "    </tr>\n",
       "  </thead>\n",
       "  <tbody>\n",
       "    <tr>\n",
       "      <th>Average Precision</th>\n",
       "      <td>0.69</td>\n",
       "      <td>0.05</td>\n",
       "      <td>0.74</td>\n",
       "      <td>0.05</td>\n",
       "      <td>0.59</td>\n",
       "      <td>0.04</td>\n",
       "    </tr>\n",
       "    <tr>\n",
       "      <th>AUROC</th>\n",
       "      <td>0.76</td>\n",
       "      <td>0.06</td>\n",
       "      <td>0.77</td>\n",
       "      <td>0.04</td>\n",
       "      <td>0.67</td>\n",
       "      <td>0.03</td>\n",
       "    </tr>\n",
       "    <tr>\n",
       "      <th>Precision</th>\n",
       "      <td>0.67</td>\n",
       "      <td>0.07</td>\n",
       "      <td>0.65</td>\n",
       "      <td>0.06</td>\n",
       "      <td>0.61</td>\n",
       "      <td>0.03</td>\n",
       "    </tr>\n",
       "    <tr>\n",
       "      <th>Recall</th>\n",
       "      <td>0.74</td>\n",
       "      <td>0.07</td>\n",
       "      <td>0.71</td>\n",
       "      <td>0.09</td>\n",
       "      <td>0.61</td>\n",
       "      <td>0.16</td>\n",
       "    </tr>\n",
       "    <tr>\n",
       "      <th>F1_Score</th>\n",
       "      <td>0.70</td>\n",
       "      <td>0.02</td>\n",
       "      <td>0.67</td>\n",
       "      <td>0.03</td>\n",
       "      <td>0.59</td>\n",
       "      <td>0.09</td>\n",
       "    </tr>\n",
       "    <tr>\n",
       "      <th>Sensitivity</th>\n",
       "      <td>0.74</td>\n",
       "      <td>0.07</td>\n",
       "      <td>0.71</td>\n",
       "      <td>0.09</td>\n",
       "      <td>0.61</td>\n",
       "      <td>0.16</td>\n",
       "    </tr>\n",
       "    <tr>\n",
       "      <th>Specificity</th>\n",
       "      <td>0.67</td>\n",
       "      <td>0.11</td>\n",
       "      <td>0.65</td>\n",
       "      <td>0.12</td>\n",
       "      <td>0.66</td>\n",
       "      <td>0.10</td>\n",
       "    </tr>\n",
       "    <tr>\n",
       "      <th>Accuracy</th>\n",
       "      <td>0.70</td>\n",
       "      <td>0.03</td>\n",
       "      <td>0.68</td>\n",
       "      <td>0.04</td>\n",
       "      <td>0.64</td>\n",
       "      <td>0.03</td>\n",
       "    </tr>\n",
       "  </tbody>\n",
       "</table>\n",
       "</div>"
      ],
      "text/plain": [
       "                   1 KNN_mu  1 KNN_std  2 LOGI_mu  2 LOGI_std  3 TREE_mu  \\\n",
       "Average Precision      0.69       0.05       0.74        0.05       0.59   \n",
       "AUROC                  0.76       0.06       0.77        0.04       0.67   \n",
       "Precision              0.67       0.07       0.65        0.06       0.61   \n",
       "Recall                 0.74       0.07       0.71        0.09       0.61   \n",
       "F1_Score               0.70       0.02       0.67        0.03       0.59   \n",
       "Sensitivity            0.74       0.07       0.71        0.09       0.61   \n",
       "Specificity            0.67       0.11       0.65        0.12       0.66   \n",
       "Accuracy               0.70       0.03       0.68        0.04       0.64   \n",
       "\n",
       "                   3 TREE_std  \n",
       "Average Precision        0.04  \n",
       "AUROC                    0.03  \n",
       "Precision                0.03  \n",
       "Recall                   0.16  \n",
       "F1_Score                 0.09  \n",
       "Sensitivity              0.16  \n",
       "Specificity              0.10  \n",
       "Accuracy                 0.03  "
      ]
     },
     "execution_count": 49,
     "metadata": {},
     "output_type": "execute_result"
    }
   ],
   "source": [
    "d['3 TREE_mu'] = [TREE_AP.mean(),  TREE_ROC.mean(),  TREE_Prec.mean(),  TREE_Recall.mean(),  TREE_F1.mean(),  TREE_Sens.mean(), TREE_Spec.mean(), TREE_Accuracy.mean()]\n",
    "d['3 TREE_std'] = [TREE_AP.std(),  TREE_ROC.std(),  TREE_Prec.std(),  TREE_Recall.std(),  TREE_F1.std(),  TREE_Sens.std(), TREE_Spec.std(), TREE_Accuracy.std()]\n",
    "df = pd.DataFrame(data=d, index=Names)\n",
    "df.round(2)"
   ]
  },
  {
   "cell_type": "markdown",
   "metadata": {
    "colab_type": "text",
    "id": "HPLtzKp9oGT7"
   },
   "source": [
    "#### 3.3.5 Random Forest\n",
    "\n",
    "```class sklearn.ensemble.RandomForestClassifier(n_estimators=10->100, criterion='gini', \n",
    "max_depth=None, min_samples_split=2, min_samples_leaf=1, min_weight_fraction_leaf=0.0, \n",
    "max_features='auto', max_leaf_nodes=None, min_impurity_split=1e-07, bootstrap=True, \n",
    "oob_score=False, n_jobs=1, random_state=None, verbose=0, warm_start=False, class_weight=None)```\n",
    "\n",
    "Test parameters:\n",
    "- n_estimators: 50, 100, 500\n",
    "- max_features: sqrt(#features), log2(#features):\n",
    "    #If “sqrt”, then max_features=sqrt(n_features) (same as “auto”).\n",
    "    #If “log2”, then max_features=log2(n_features).\n",
    "- min_samples_leaf: 1, 5"
   ]
  },
  {
   "cell_type": "code",
   "execution_count": null,
   "metadata": {
    "colab": {},
    "colab_type": "code",
    "id": "tOXUslL9jTTt"
   },
   "outputs": [],
   "source": [
    "RF_parameters = {'n_estimators':[50, 100, 500], 'max_features':('sqrt', 'log2'), 'min_samples_leaf':[1, 5]}\n",
    "RF = RandomForestClassifier(random_state=1)"
   ]
  },
  {
   "cell_type": "code",
   "execution_count": null,
   "metadata": {
    "colab": {
     "base_uri": "https://localhost:8080/",
     "height": 187
    },
    "colab_type": "code",
    "executionInfo": {
     "elapsed": 62351,
     "status": "ok",
     "timestamp": 1544659678983,
     "user": {
      "displayName": "Robbert Struyven",
      "photoUrl": "https://lh5.googleusercontent.com/-6QIbKl4FwZI/AAAAAAAAAAI/AAAAAAAAAAc/MZzIFCOiLj8/s64/photo.jpg",
      "userId": "15638207437883965838"
     },
     "user_tz": 300
    },
    "id": "cTLokonWrvhS",
    "outputId": "e98c0ee0-2517-4608-b912-04bfea1671b5"
   },
   "outputs": [
    {
     "name": "stdout",
     "output_type": "stream",
     "text": [
      "This is parameter optimisation and CV number 1 ...\n",
      "This is parameter optimisation and CV number 2 ...\n",
      "This is parameter optimisation and CV number 3 ...\n",
      "This is parameter optimisation and CV number 4 ...\n",
      "Done: Validation Accuracy score: \t\t[0.735 0.71  0.72  0.69 ]\n"
     ]
    }
   ],
   "source": [
    "RF_AP,  RF_ROC,  RF_Prec,  RF_Recall,  RF_F1,  RF_Sens, RF_Spec, \\\n",
    "RF_Accuracy,  RF_best_predictions_all,  RF_test_all \\\n",
    "= CV_and_Parameter_Optimization(X_CV, y_CV, splits, RF, RF_parameters)"
   ]
  },
  {
   "cell_type": "code",
   "execution_count": null,
   "metadata": {
    "colab": {
     "base_uri": "https://localhost:8080/",
     "height": 297
    },
    "colab_type": "code",
    "executionInfo": {
     "elapsed": 62343,
     "status": "ok",
     "timestamp": 1544659678985,
     "user": {
      "displayName": "Robbert Struyven",
      "photoUrl": "https://lh5.googleusercontent.com/-6QIbKl4FwZI/AAAAAAAAAAI/AAAAAAAAAAc/MZzIFCOiLj8/s64/photo.jpg",
      "userId": "15638207437883965838"
     },
     "user_tz": 300
    },
    "id": "aijnBimIJGvz",
    "outputId": "32c9fa2b-826d-4622-fb94-3656b092636b"
   },
   "outputs": [
    {
     "data": {
      "text/html": [
       "<div>\n",
       "<style scoped>\n",
       "    .dataframe tbody tr th:only-of-type {\n",
       "        vertical-align: middle;\n",
       "    }\n",
       "\n",
       "    .dataframe tbody tr th {\n",
       "        vertical-align: top;\n",
       "    }\n",
       "\n",
       "    .dataframe thead th {\n",
       "        text-align: right;\n",
       "    }\n",
       "</style>\n",
       "<table border=\"1\" class=\"dataframe\">\n",
       "  <thead>\n",
       "    <tr style=\"text-align: right;\">\n",
       "      <th></th>\n",
       "      <th>1 KNN_mu</th>\n",
       "      <th>1 KNN_std</th>\n",
       "      <th>2 LOGI_mu</th>\n",
       "      <th>2 LOGI_std</th>\n",
       "      <th>3 TREE_mu</th>\n",
       "      <th>3 TREE_std</th>\n",
       "      <th>4 RF_mu</th>\n",
       "      <th>4 RF_std</th>\n",
       "    </tr>\n",
       "  </thead>\n",
       "  <tbody>\n",
       "    <tr>\n",
       "      <th>Average Precision</th>\n",
       "      <td>0.69</td>\n",
       "      <td>0.05</td>\n",
       "      <td>0.74</td>\n",
       "      <td>0.05</td>\n",
       "      <td>0.59</td>\n",
       "      <td>0.04</td>\n",
       "      <td>0.76</td>\n",
       "      <td>0.02</td>\n",
       "    </tr>\n",
       "    <tr>\n",
       "      <th>AUROC</th>\n",
       "      <td>0.76</td>\n",
       "      <td>0.06</td>\n",
       "      <td>0.77</td>\n",
       "      <td>0.04</td>\n",
       "      <td>0.67</td>\n",
       "      <td>0.03</td>\n",
       "      <td>0.79</td>\n",
       "      <td>0.02</td>\n",
       "    </tr>\n",
       "    <tr>\n",
       "      <th>Precision</th>\n",
       "      <td>0.67</td>\n",
       "      <td>0.07</td>\n",
       "      <td>0.65</td>\n",
       "      <td>0.06</td>\n",
       "      <td>0.61</td>\n",
       "      <td>0.03</td>\n",
       "      <td>0.70</td>\n",
       "      <td>0.04</td>\n",
       "    </tr>\n",
       "    <tr>\n",
       "      <th>Recall</th>\n",
       "      <td>0.74</td>\n",
       "      <td>0.07</td>\n",
       "      <td>0.71</td>\n",
       "      <td>0.09</td>\n",
       "      <td>0.61</td>\n",
       "      <td>0.16</td>\n",
       "      <td>0.67</td>\n",
       "      <td>0.08</td>\n",
       "    </tr>\n",
       "    <tr>\n",
       "      <th>F1_Score</th>\n",
       "      <td>0.70</td>\n",
       "      <td>0.02</td>\n",
       "      <td>0.67</td>\n",
       "      <td>0.03</td>\n",
       "      <td>0.59</td>\n",
       "      <td>0.09</td>\n",
       "      <td>0.68</td>\n",
       "      <td>0.03</td>\n",
       "    </tr>\n",
       "    <tr>\n",
       "      <th>Sensitivity</th>\n",
       "      <td>0.74</td>\n",
       "      <td>0.07</td>\n",
       "      <td>0.71</td>\n",
       "      <td>0.09</td>\n",
       "      <td>0.61</td>\n",
       "      <td>0.16</td>\n",
       "      <td>0.67</td>\n",
       "      <td>0.08</td>\n",
       "    </tr>\n",
       "    <tr>\n",
       "      <th>Specificity</th>\n",
       "      <td>0.67</td>\n",
       "      <td>0.11</td>\n",
       "      <td>0.65</td>\n",
       "      <td>0.12</td>\n",
       "      <td>0.66</td>\n",
       "      <td>0.10</td>\n",
       "      <td>0.75</td>\n",
       "      <td>0.07</td>\n",
       "    </tr>\n",
       "    <tr>\n",
       "      <th>Accuracy</th>\n",
       "      <td>0.70</td>\n",
       "      <td>0.03</td>\n",
       "      <td>0.68</td>\n",
       "      <td>0.04</td>\n",
       "      <td>0.64</td>\n",
       "      <td>0.03</td>\n",
       "      <td>0.71</td>\n",
       "      <td>0.02</td>\n",
       "    </tr>\n",
       "  </tbody>\n",
       "</table>\n",
       "</div>"
      ],
      "text/plain": [
       "                   1 KNN_mu  1 KNN_std  2 LOGI_mu  2 LOGI_std  3 TREE_mu  \\\n",
       "Average Precision      0.69       0.05       0.74        0.05       0.59   \n",
       "AUROC                  0.76       0.06       0.77        0.04       0.67   \n",
       "Precision              0.67       0.07       0.65        0.06       0.61   \n",
       "Recall                 0.74       0.07       0.71        0.09       0.61   \n",
       "F1_Score               0.70       0.02       0.67        0.03       0.59   \n",
       "Sensitivity            0.74       0.07       0.71        0.09       0.61   \n",
       "Specificity            0.67       0.11       0.65        0.12       0.66   \n",
       "Accuracy               0.70       0.03       0.68        0.04       0.64   \n",
       "\n",
       "                   3 TREE_std  4 RF_mu  4 RF_std  \n",
       "Average Precision        0.04     0.76      0.02  \n",
       "AUROC                    0.03     0.79      0.02  \n",
       "Precision                0.03     0.70      0.04  \n",
       "Recall                   0.16     0.67      0.08  \n",
       "F1_Score                 0.09     0.68      0.03  \n",
       "Sensitivity              0.16     0.67      0.08  \n",
       "Specificity              0.10     0.75      0.07  \n",
       "Accuracy                 0.03     0.71      0.02  "
      ]
     },
     "execution_count": 52,
     "metadata": {},
     "output_type": "execute_result"
    }
   ],
   "source": [
    "d['4 RF_mu'] = [RF_AP.mean(),  RF_ROC.mean(),  RF_Prec.mean(),  RF_Recall.mean(),  RF_F1.mean(),  RF_Sens.mean(), RF_Spec.mean(), RF_Accuracy.mean()]\n",
    "d['4 RF_std'] = [RF_AP.std(),  RF_ROC.std(),  RF_Prec.std(),  RF_Recall.std(),  RF_F1.std(),  RF_Sens.std(), RF_Spec.std(), RF_Accuracy.std()]\n",
    "df = pd.DataFrame(data=d, index=Names)\n",
    "df.round(2)"
   ]
  },
  {
   "cell_type": "markdown",
   "metadata": {
    "colab_type": "text",
    "id": "uB38PLvQrguJ"
   },
   "source": [
    "\n",
    "#### 3.3.6 Gradient boosting\n",
    "``` class sklearn.ensemble.GradientBoostingClassifier(loss='deviance', learning_rate=0.1, n_estimators=100, subsample=1.0, criterion='friedman_mse', min_samples_split=2, min_samples_leaf=1, min_weight_fraction_leaf=0.0, \n",
    " max_depth=3, min_impurity_split=1e-07, init=None, random_state=None, max_features=None, verbose=0, max_leaf_nodes=None, warm_start=False, presort='auto')```\n",
    "\n",
    "Test parameters:\n",
    "- n_estimators: 50, 100, 500 \n",
    "- max_leaf_nodes= 2, 4, 8, 16 \n",
    "- learning_rate = 1, 0.5, 0.1, 0.05, 0.01"
   ]
  },
  {
   "cell_type": "code",
   "execution_count": null,
   "metadata": {
    "colab": {},
    "colab_type": "code",
    "id": "J5ty1QeUkrPf"
   },
   "outputs": [],
   "source": [
    "BOOST_parameters = {'n_estimators':[50,100,500],'max_leaf_nodes':[2,4,8,16],'learning_rate':[1, 0.5, 0.1, 0.05, 0.01]}\n",
    "BOOST=GradientBoostingClassifier(random_state=1)"
   ]
  },
  {
   "cell_type": "code",
   "execution_count": null,
   "metadata": {
    "colab": {
     "base_uri": "https://localhost:8080/",
     "height": 187
    },
    "colab_type": "code",
    "executionInfo": {
     "elapsed": 187390,
     "status": "ok",
     "timestamp": 1544659804050,
     "user": {
      "displayName": "Robbert Struyven",
      "photoUrl": "https://lh5.googleusercontent.com/-6QIbKl4FwZI/AAAAAAAAAAI/AAAAAAAAAAc/MZzIFCOiLj8/s64/photo.jpg",
      "userId": "15638207437883965838"
     },
     "user_tz": 300
    },
    "id": "4ogbSOSTJSsb",
    "outputId": "8c8baa5c-2ec9-4269-a388-dc4792fa4b3e"
   },
   "outputs": [
    {
     "name": "stdout",
     "output_type": "stream",
     "text": [
      "This is parameter optimisation and CV number 1 ...\n",
      "This is parameter optimisation and CV number 2 ...\n",
      "This is parameter optimisation and CV number 3 ...\n",
      "This is parameter optimisation and CV number 4 ...\n",
      "Done: Validation Accuracy score: \t\t[0.745 0.68  0.75  0.73 ]\n"
     ]
    }
   ],
   "source": [
    "BOOST_AP,  BOOST_ROC,  BOOST_Prec,  BOOST_Recall,  BOOST_F1,  BOOST_Sens, BOOST_Spec, \\\n",
    "BOOST_Accuracy,  BOOST_best_predictions_all,  BOOST_test_all \\\n",
    "= CV_and_Parameter_Optimization(X_CV, y_CV, splits, BOOST, BOOST_parameters)"
   ]
  },
  {
   "cell_type": "code",
   "execution_count": null,
   "metadata": {
    "colab": {
     "base_uri": "https://localhost:8080/",
     "height": 331
    },
    "colab_type": "code",
    "executionInfo": {
     "elapsed": 187382,
     "status": "ok",
     "timestamp": 1544659804051,
     "user": {
      "displayName": "Robbert Struyven",
      "photoUrl": "https://lh5.googleusercontent.com/-6QIbKl4FwZI/AAAAAAAAAAI/AAAAAAAAAAc/MZzIFCOiLj8/s64/photo.jpg",
      "userId": "15638207437883965838"
     },
     "user_tz": 300
    },
    "id": "BX-lc9uwrwuu",
    "outputId": "2dcf0a12-4dee-4570-d81a-a3fdbce6bf07"
   },
   "outputs": [
    {
     "data": {
      "text/html": [
       "<div>\n",
       "<style scoped>\n",
       "    .dataframe tbody tr th:only-of-type {\n",
       "        vertical-align: middle;\n",
       "    }\n",
       "\n",
       "    .dataframe tbody tr th {\n",
       "        vertical-align: top;\n",
       "    }\n",
       "\n",
       "    .dataframe thead th {\n",
       "        text-align: right;\n",
       "    }\n",
       "</style>\n",
       "<table border=\"1\" class=\"dataframe\">\n",
       "  <thead>\n",
       "    <tr style=\"text-align: right;\">\n",
       "      <th></th>\n",
       "      <th>1 KNN_mu</th>\n",
       "      <th>1 KNN_std</th>\n",
       "      <th>2 LOGI_mu</th>\n",
       "      <th>2 LOGI_std</th>\n",
       "      <th>3 TREE_mu</th>\n",
       "      <th>3 TREE_std</th>\n",
       "      <th>4 RF_mu</th>\n",
       "      <th>4 RF_std</th>\n",
       "      <th>5 BOOST_mu</th>\n",
       "      <th>5 BOOST_std</th>\n",
       "    </tr>\n",
       "  </thead>\n",
       "  <tbody>\n",
       "    <tr>\n",
       "      <th>Average Precision</th>\n",
       "      <td>0.69</td>\n",
       "      <td>0.05</td>\n",
       "      <td>0.74</td>\n",
       "      <td>0.05</td>\n",
       "      <td>0.59</td>\n",
       "      <td>0.04</td>\n",
       "      <td>0.76</td>\n",
       "      <td>0.02</td>\n",
       "      <td>0.78</td>\n",
       "      <td>0.05</td>\n",
       "    </tr>\n",
       "    <tr>\n",
       "      <th>AUROC</th>\n",
       "      <td>0.76</td>\n",
       "      <td>0.06</td>\n",
       "      <td>0.77</td>\n",
       "      <td>0.04</td>\n",
       "      <td>0.67</td>\n",
       "      <td>0.03</td>\n",
       "      <td>0.79</td>\n",
       "      <td>0.02</td>\n",
       "      <td>0.80</td>\n",
       "      <td>0.03</td>\n",
       "    </tr>\n",
       "    <tr>\n",
       "      <th>Precision</th>\n",
       "      <td>0.67</td>\n",
       "      <td>0.07</td>\n",
       "      <td>0.65</td>\n",
       "      <td>0.06</td>\n",
       "      <td>0.61</td>\n",
       "      <td>0.03</td>\n",
       "      <td>0.70</td>\n",
       "      <td>0.04</td>\n",
       "      <td>0.71</td>\n",
       "      <td>0.05</td>\n",
       "    </tr>\n",
       "    <tr>\n",
       "      <th>Recall</th>\n",
       "      <td>0.74</td>\n",
       "      <td>0.07</td>\n",
       "      <td>0.71</td>\n",
       "      <td>0.09</td>\n",
       "      <td>0.61</td>\n",
       "      <td>0.16</td>\n",
       "      <td>0.67</td>\n",
       "      <td>0.08</td>\n",
       "      <td>0.70</td>\n",
       "      <td>0.04</td>\n",
       "    </tr>\n",
       "    <tr>\n",
       "      <th>F1_Score</th>\n",
       "      <td>0.70</td>\n",
       "      <td>0.02</td>\n",
       "      <td>0.67</td>\n",
       "      <td>0.03</td>\n",
       "      <td>0.59</td>\n",
       "      <td>0.09</td>\n",
       "      <td>0.68</td>\n",
       "      <td>0.03</td>\n",
       "      <td>0.70</td>\n",
       "      <td>0.02</td>\n",
       "    </tr>\n",
       "    <tr>\n",
       "      <th>Sensitivity</th>\n",
       "      <td>0.74</td>\n",
       "      <td>0.07</td>\n",
       "      <td>0.71</td>\n",
       "      <td>0.09</td>\n",
       "      <td>0.61</td>\n",
       "      <td>0.16</td>\n",
       "      <td>0.67</td>\n",
       "      <td>0.08</td>\n",
       "      <td>0.70</td>\n",
       "      <td>0.04</td>\n",
       "    </tr>\n",
       "    <tr>\n",
       "      <th>Specificity</th>\n",
       "      <td>0.67</td>\n",
       "      <td>0.11</td>\n",
       "      <td>0.65</td>\n",
       "      <td>0.12</td>\n",
       "      <td>0.66</td>\n",
       "      <td>0.10</td>\n",
       "      <td>0.75</td>\n",
       "      <td>0.07</td>\n",
       "      <td>0.75</td>\n",
       "      <td>0.07</td>\n",
       "    </tr>\n",
       "    <tr>\n",
       "      <th>Accuracy</th>\n",
       "      <td>0.70</td>\n",
       "      <td>0.03</td>\n",
       "      <td>0.68</td>\n",
       "      <td>0.04</td>\n",
       "      <td>0.64</td>\n",
       "      <td>0.03</td>\n",
       "      <td>0.71</td>\n",
       "      <td>0.02</td>\n",
       "      <td>0.73</td>\n",
       "      <td>0.03</td>\n",
       "    </tr>\n",
       "  </tbody>\n",
       "</table>\n",
       "</div>"
      ],
      "text/plain": [
       "                   1 KNN_mu  1 KNN_std  2 LOGI_mu  2 LOGI_std  3 TREE_mu  \\\n",
       "Average Precision      0.69       0.05       0.74        0.05       0.59   \n",
       "AUROC                  0.76       0.06       0.77        0.04       0.67   \n",
       "Precision              0.67       0.07       0.65        0.06       0.61   \n",
       "Recall                 0.74       0.07       0.71        0.09       0.61   \n",
       "F1_Score               0.70       0.02       0.67        0.03       0.59   \n",
       "Sensitivity            0.74       0.07       0.71        0.09       0.61   \n",
       "Specificity            0.67       0.11       0.65        0.12       0.66   \n",
       "Accuracy               0.70       0.03       0.68        0.04       0.64   \n",
       "\n",
       "                   3 TREE_std  4 RF_mu  4 RF_std  5 BOOST_mu  5 BOOST_std  \n",
       "Average Precision        0.04     0.76      0.02        0.78         0.05  \n",
       "AUROC                    0.03     0.79      0.02        0.80         0.03  \n",
       "Precision                0.03     0.70      0.04        0.71         0.05  \n",
       "Recall                   0.16     0.67      0.08        0.70         0.04  \n",
       "F1_Score                 0.09     0.68      0.03        0.70         0.02  \n",
       "Sensitivity              0.16     0.67      0.08        0.70         0.04  \n",
       "Specificity              0.10     0.75      0.07        0.75         0.07  \n",
       "Accuracy                 0.03     0.71      0.02        0.73         0.03  "
      ]
     },
     "execution_count": 55,
     "metadata": {},
     "output_type": "execute_result"
    }
   ],
   "source": [
    "d['5 BOOST_mu'] = [BOOST_AP.mean(),  BOOST_ROC.mean(),  BOOST_Prec.mean(),  BOOST_Recall.mean(),  BOOST_F1.mean(),  BOOST_Sens.mean(), BOOST_Spec.mean(), BOOST_Accuracy.mean()]\n",
    "d['5 BOOST_std'] = [BOOST_AP.std(),  BOOST_ROC.std(),  BOOST_Prec.std(),  BOOST_Recall.std(),  BOOST_F1.std(),  BOOST_Sens.std(), BOOST_Spec.std(), BOOST_Accuracy.std()]\n",
    "df = pd.DataFrame(data=d, index=Names)\n",
    "df.round(2)"
   ]
  },
  {
   "cell_type": "markdown",
   "metadata": {
    "colab_type": "text",
    "id": "FmsFJeyTr7k8"
   },
   "source": [
    "#### 3.3.7. XGBoost\n",
    " ``` class xgboost.XGBClassifier(max_depth=3, learning_rate=0.1, n_estimators=100, silent=True, objective='binary:logistic', booster='gbtree', n_jobs=1, nthread=None, gamma=0, min_child_weight=1, max_delta_step=0, subsample=1, colsample_bytree=1, colsample_bylevel=1, reg_alpha=0, reg_lambda=1, scale_pos_weight=1, base_score=0.5, random_state=0, seed=None, missing=None, **kwargs)```\n",
    "\n",
    "Bases: xgboost.sklearn.XGBModel, object\n",
    "Implementation of the scikit-learn API for XGBoost classification.\n",
    "\n",
    "Test parameters:\n",
    "- max_depth = 3,4,...,9,10 \n",
    "- min_child_weight =  1,3  \n",
    "- gamma = [0, 0.1,0.2]\n",
    "- subsample = 0.6, 0,8 \n",
    "- colsample_bytree = 0.6, 0,8 \n",
    "- reg_alpha = [0, 0.005, 0.01, 0.05]"
   ]
  },
  {
   "cell_type": "code",
   "execution_count": null,
   "metadata": {
    "colab": {},
    "colab_type": "code",
    "id": "NRx7iPivm5B_"
   },
   "outputs": [],
   "source": [
    "XGB2_parameters ={ 'max_depth':range(3,10,2),'min_child_weight':range(1,3,2),\n",
    "                   'gamma':[0, 0.1,0.2],'subsample':[i/10.0 for i in range(6,9,2)],\n",
    "                   'colsample_bytree':[i/10.0 for i in range(6,9,2)], 'reg_alpha':[0, 0.005, 0.01, 0.05]}    \n",
    "XGB2 = XGBClassifier(random_state=1)"
   ]
  },
  {
   "cell_type": "code",
   "execution_count": null,
   "metadata": {
    "colab": {
     "base_uri": "https://localhost:8080/",
     "height": 187
    },
    "colab_type": "code",
    "executionInfo": {
     "elapsed": 322228,
     "status": "ok",
     "timestamp": 1544659938916,
     "user": {
      "displayName": "Robbert Struyven",
      "photoUrl": "https://lh5.googleusercontent.com/-6QIbKl4FwZI/AAAAAAAAAAI/AAAAAAAAAAc/MZzIFCOiLj8/s64/photo.jpg",
      "userId": "15638207437883965838"
     },
     "user_tz": 300
    },
    "id": "9EPxpOnVL4Uj",
    "outputId": "673d847d-e56f-4fbf-900b-06ad3ed0b3f7"
   },
   "outputs": [
    {
     "name": "stdout",
     "output_type": "stream",
     "text": [
      "This is parameter optimisation and CV number 1 ...\n",
      "This is parameter optimisation and CV number 2 ...\n",
      "This is parameter optimisation and CV number 3 ...\n",
      "This is parameter optimisation and CV number 4 ...\n",
      "Done: Validation Accuracy score: \t\t[0.725 0.71  0.77  0.71 ]\n"
     ]
    }
   ],
   "source": [
    "XGB2_AP,  XGB2_ROC,  XGB2_Prec,  XGB2_Recall,  XGB2_F1,  XGB2_Sens, XGB2_Spec, \\\n",
    "XGB2_Accuracy,  XGB2_best_predictions_all,  XGB2_test_all \\\n",
    "= CV_and_Parameter_Optimization(X_CV, y_CV, splits, XGB2, XGB2_parameters)"
   ]
  },
  {
   "cell_type": "code",
   "execution_count": null,
   "metadata": {
    "colab": {
     "base_uri": "https://localhost:8080/",
     "height": 331
    },
    "colab_type": "code",
    "executionInfo": {
     "elapsed": 322216,
     "status": "ok",
     "timestamp": 1544659938918,
     "user": {
      "displayName": "Robbert Struyven",
      "photoUrl": "https://lh5.googleusercontent.com/-6QIbKl4FwZI/AAAAAAAAAAI/AAAAAAAAAAc/MZzIFCOiLj8/s64/photo.jpg",
      "userId": "15638207437883965838"
     },
     "user_tz": 300
    },
    "id": "s9T1TnB7sqjH",
    "outputId": "dd325036-386a-41c4-f3e7-ad23ea210fa7"
   },
   "outputs": [
    {
     "data": {
      "text/html": [
       "<div>\n",
       "<style scoped>\n",
       "    .dataframe tbody tr th:only-of-type {\n",
       "        vertical-align: middle;\n",
       "    }\n",
       "\n",
       "    .dataframe tbody tr th {\n",
       "        vertical-align: top;\n",
       "    }\n",
       "\n",
       "    .dataframe thead th {\n",
       "        text-align: right;\n",
       "    }\n",
       "</style>\n",
       "<table border=\"1\" class=\"dataframe\">\n",
       "  <thead>\n",
       "    <tr style=\"text-align: right;\">\n",
       "      <th></th>\n",
       "      <th>1 KNN_mu</th>\n",
       "      <th>1 KNN_std</th>\n",
       "      <th>2 LOGI_mu</th>\n",
       "      <th>2 LOGI_std</th>\n",
       "      <th>3 TREE_mu</th>\n",
       "      <th>3 TREE_std</th>\n",
       "      <th>4 RF_mu</th>\n",
       "      <th>4 RF_std</th>\n",
       "      <th>5 BOOST_mu</th>\n",
       "      <th>5 BOOST_std</th>\n",
       "      <th>6 XGB2_mu</th>\n",
       "      <th>6 XGB2_std</th>\n",
       "    </tr>\n",
       "  </thead>\n",
       "  <tbody>\n",
       "    <tr>\n",
       "      <th>Average Precision</th>\n",
       "      <td>0.69</td>\n",
       "      <td>0.05</td>\n",
       "      <td>0.74</td>\n",
       "      <td>0.05</td>\n",
       "      <td>0.59</td>\n",
       "      <td>0.04</td>\n",
       "      <td>0.76</td>\n",
       "      <td>0.02</td>\n",
       "      <td>0.78</td>\n",
       "      <td>0.05</td>\n",
       "      <td>0.79</td>\n",
       "      <td>0.02</td>\n",
       "    </tr>\n",
       "    <tr>\n",
       "      <th>AUROC</th>\n",
       "      <td>0.76</td>\n",
       "      <td>0.06</td>\n",
       "      <td>0.77</td>\n",
       "      <td>0.04</td>\n",
       "      <td>0.67</td>\n",
       "      <td>0.03</td>\n",
       "      <td>0.79</td>\n",
       "      <td>0.02</td>\n",
       "      <td>0.80</td>\n",
       "      <td>0.03</td>\n",
       "      <td>0.80</td>\n",
       "      <td>0.03</td>\n",
       "    </tr>\n",
       "    <tr>\n",
       "      <th>Precision</th>\n",
       "      <td>0.67</td>\n",
       "      <td>0.07</td>\n",
       "      <td>0.65</td>\n",
       "      <td>0.06</td>\n",
       "      <td>0.61</td>\n",
       "      <td>0.03</td>\n",
       "      <td>0.70</td>\n",
       "      <td>0.04</td>\n",
       "      <td>0.71</td>\n",
       "      <td>0.05</td>\n",
       "      <td>0.72</td>\n",
       "      <td>0.04</td>\n",
       "    </tr>\n",
       "    <tr>\n",
       "      <th>Recall</th>\n",
       "      <td>0.74</td>\n",
       "      <td>0.07</td>\n",
       "      <td>0.71</td>\n",
       "      <td>0.09</td>\n",
       "      <td>0.61</td>\n",
       "      <td>0.16</td>\n",
       "      <td>0.67</td>\n",
       "      <td>0.08</td>\n",
       "      <td>0.70</td>\n",
       "      <td>0.04</td>\n",
       "      <td>0.68</td>\n",
       "      <td>0.01</td>\n",
       "    </tr>\n",
       "    <tr>\n",
       "      <th>F1_Score</th>\n",
       "      <td>0.70</td>\n",
       "      <td>0.02</td>\n",
       "      <td>0.67</td>\n",
       "      <td>0.03</td>\n",
       "      <td>0.59</td>\n",
       "      <td>0.09</td>\n",
       "      <td>0.68</td>\n",
       "      <td>0.03</td>\n",
       "      <td>0.70</td>\n",
       "      <td>0.02</td>\n",
       "      <td>0.70</td>\n",
       "      <td>0.02</td>\n",
       "    </tr>\n",
       "    <tr>\n",
       "      <th>Sensitivity</th>\n",
       "      <td>0.74</td>\n",
       "      <td>0.07</td>\n",
       "      <td>0.71</td>\n",
       "      <td>0.09</td>\n",
       "      <td>0.61</td>\n",
       "      <td>0.16</td>\n",
       "      <td>0.67</td>\n",
       "      <td>0.08</td>\n",
       "      <td>0.70</td>\n",
       "      <td>0.04</td>\n",
       "      <td>0.68</td>\n",
       "      <td>0.01</td>\n",
       "    </tr>\n",
       "    <tr>\n",
       "      <th>Specificity</th>\n",
       "      <td>0.67</td>\n",
       "      <td>0.11</td>\n",
       "      <td>0.65</td>\n",
       "      <td>0.12</td>\n",
       "      <td>0.66</td>\n",
       "      <td>0.10</td>\n",
       "      <td>0.75</td>\n",
       "      <td>0.07</td>\n",
       "      <td>0.75</td>\n",
       "      <td>0.07</td>\n",
       "      <td>0.77</td>\n",
       "      <td>0.05</td>\n",
       "    </tr>\n",
       "    <tr>\n",
       "      <th>Accuracy</th>\n",
       "      <td>0.70</td>\n",
       "      <td>0.03</td>\n",
       "      <td>0.68</td>\n",
       "      <td>0.04</td>\n",
       "      <td>0.64</td>\n",
       "      <td>0.03</td>\n",
       "      <td>0.71</td>\n",
       "      <td>0.02</td>\n",
       "      <td>0.73</td>\n",
       "      <td>0.03</td>\n",
       "      <td>0.73</td>\n",
       "      <td>0.02</td>\n",
       "    </tr>\n",
       "  </tbody>\n",
       "</table>\n",
       "</div>"
      ],
      "text/plain": [
       "                   1 KNN_mu  1 KNN_std  2 LOGI_mu  2 LOGI_std  3 TREE_mu  \\\n",
       "Average Precision      0.69       0.05       0.74        0.05       0.59   \n",
       "AUROC                  0.76       0.06       0.77        0.04       0.67   \n",
       "Precision              0.67       0.07       0.65        0.06       0.61   \n",
       "Recall                 0.74       0.07       0.71        0.09       0.61   \n",
       "F1_Score               0.70       0.02       0.67        0.03       0.59   \n",
       "Sensitivity            0.74       0.07       0.71        0.09       0.61   \n",
       "Specificity            0.67       0.11       0.65        0.12       0.66   \n",
       "Accuracy               0.70       0.03       0.68        0.04       0.64   \n",
       "\n",
       "                   3 TREE_std  4 RF_mu  4 RF_std  5 BOOST_mu  5 BOOST_std  \\\n",
       "Average Precision        0.04     0.76      0.02        0.78         0.05   \n",
       "AUROC                    0.03     0.79      0.02        0.80         0.03   \n",
       "Precision                0.03     0.70      0.04        0.71         0.05   \n",
       "Recall                   0.16     0.67      0.08        0.70         0.04   \n",
       "F1_Score                 0.09     0.68      0.03        0.70         0.02   \n",
       "Sensitivity              0.16     0.67      0.08        0.70         0.04   \n",
       "Specificity              0.10     0.75      0.07        0.75         0.07   \n",
       "Accuracy                 0.03     0.71      0.02        0.73         0.03   \n",
       "\n",
       "                   6 XGB2_mu  6 XGB2_std  \n",
       "Average Precision       0.79        0.02  \n",
       "AUROC                   0.80        0.03  \n",
       "Precision               0.72        0.04  \n",
       "Recall                  0.68        0.01  \n",
       "F1_Score                0.70        0.02  \n",
       "Sensitivity             0.68        0.01  \n",
       "Specificity             0.77        0.05  \n",
       "Accuracy                0.73        0.02  "
      ]
     },
     "execution_count": 58,
     "metadata": {},
     "output_type": "execute_result"
    }
   ],
   "source": [
    "d['6 XGB2_mu'] = [XGB2_AP.mean(),  XGB2_ROC.mean(),  XGB2_Prec.mean(),  XGB2_Recall.mean(),  XGB2_F1.mean(),  XGB2_Sens.mean(), XGB2_Spec.mean(), XGB2_Accuracy.mean()]\n",
    "d['6 XGB2_std'] = [XGB2_AP.std(),  XGB2_ROC.std(),  XGB2_Prec.std(),  XGB2_Recall.std(),  XGB2_F1.std(),  XGB2_Sens.std(), XGB2_Spec.std(), XGB2_Accuracy.std()]\n",
    "df = pd.DataFrame(data=d, index=Names)\n",
    "df.round(2)"
   ]
  },
  {
   "cell_type": "markdown",
   "metadata": {
    "colab_type": "text",
    "id": "AlY5_6nbsqpu"
   },
   "source": [
    "#### 3.3.8 MLP\n",
    "\n",
    "```class sklearn.neural_network.MLPClassifier(hidden_layer_sizes=(100, ), activation='relu', solver='adam', alpha=0.0001, batch_size='auto', learning_rate='constant', learning_rate_init=0.001, power_t=0.5, max_iter=200, shuffle=True, random_state=None, tol=0.0001, verbose=False, warm_start=False, momentum=0.9, nesterovs_momentum=True, early_stopping=False, validation_fraction=0.1, beta_1=0.9, beta_2=0.999, epsilon=1e-08)```\n",
    "\n",
    "Test parameters:\n",
    "- hidden_layer_sizes: (3, ), (20, ), (50, ), (100, )\n",
    "- activation: relu, logistic\n",
    "- alpha = 0.00001, 0.0001, 0.001, 0.09, 0.1, 0.5 and 0.9 (assuming this is the decay parameter in Weng et al)"
   ]
  },
  {
   "cell_type": "code",
   "execution_count": null,
   "metadata": {
    "colab": {},
    "colab_type": "code",
    "id": "xJRIUldHnLhj"
   },
   "outputs": [],
   "source": [
    "MLP_parameters = {'activation':('relu', 'logistic'), 'hidden_layer_sizes':[(3, ),(20, ),(20,20 ),(50, ),(50,50 ),(100, )],\n",
    "                 'alpha':[0.0001,0.001,0.09,0.1,0.5]}\n",
    "MLP = MLPClassifier(random_state=1, max_iter=500,solver='adam')\n",
    "# It will give warnings without the increase of the standard max_iterations (200) to 2000\n",
    "# Tolerance softening from standard tol (1e-4) to (2e-4)"
   ]
  },
  {
   "cell_type": "code",
   "execution_count": null,
   "metadata": {
    "colab": {
     "base_uri": "https://localhost:8080/",
     "height": 187
    },
    "colab_type": "code",
    "executionInfo": {
     "elapsed": 126974,
     "status": "ok",
     "timestamp": 1544660108473,
     "user": {
      "displayName": "Robbert Struyven",
      "photoUrl": "https://lh5.googleusercontent.com/-6QIbKl4FwZI/AAAAAAAAAAI/AAAAAAAAAAc/MZzIFCOiLj8/s64/photo.jpg",
      "userId": "15638207437883965838"
     },
     "user_tz": 300
    },
    "id": "Z_AjqtO7MHa4",
    "outputId": "5b1b2286-a26c-47ee-9899-ab2ddd812f1e"
   },
   "outputs": [
    {
     "name": "stdout",
     "output_type": "stream",
     "text": [
      "This is parameter optimisation and CV number 1 ...\n"
     ]
    }
   ],
   "source": [
    "MLP_AP,  MLP_ROC,  MLP_Prec,  MLP_Recall,  MLP_F1,  MLP_Sens, MLP_Spec, \\\n",
    "MLP_Accuracy,  MLP_best_predictions_all,  MLP_test_all \\\n",
    "= CV_and_Parameter_Optimization(X_CV, y_CV, splits, MLP, MLP_parameters)"
   ]
  },
  {
   "cell_type": "code",
   "execution_count": null,
   "metadata": {
    "colab": {
     "base_uri": "https://localhost:8080/",
     "height": 351
    },
    "colab_type": "code",
    "executionInfo": {
     "elapsed": 635,
     "status": "ok",
     "timestamp": 1544660211084,
     "user": {
      "displayName": "Robbert Struyven",
      "photoUrl": "https://lh5.googleusercontent.com/-6QIbKl4FwZI/AAAAAAAAAAI/AAAAAAAAAAc/MZzIFCOiLj8/s64/photo.jpg",
      "userId": "15638207437883965838"
     },
     "user_tz": 300
    },
    "id": "CW0QiB3EMJn1",
    "outputId": "8c095695-5eac-47fe-cdd5-aced63ee266e"
   },
   "outputs": [],
   "source": [
    "d['7 MLP_mu'] = [MLP_AP.mean(),  MLP_ROC.mean(),  MLP_Prec.mean(),  MLP_Recall.mean(),  MLP_F1.mean(),  MLP_Sens.mean(), MLP_Spec.mean(), MLP_Accuracy.mean()]\n",
    "d['7 MLP_std'] = [MLP_AP.std(),  MLP_ROC.std(),  MLP_Prec.std(),  MLP_Recall.std(),  MLP_F1.std(),  MLP_Sens.std(), MLP_Spec.std(), MLP_Accuracy.std()]\n",
    "df = pd.DataFrame(data=d, index=Names)\n",
    "df.round(2)"
   ]
  },
  {
   "cell_type": "markdown",
   "metadata": {
    "colab_type": "text",
    "id": "72PCoTFAN8lB"
   },
   "source": [
    "#### 3.3.9 LGM\n",
    "\n",
    "```lass lightgbm.Dataset(data, label=None, reference=None, weight=None, group=None, init_score=None, silent=False, feature_name='auto', categorical_feature='auto', params=None, free_raw_data=True)```\n",
    "\n",
    "Test parameters:\n",
    "- max_depth = 2, 3, 4, 5, 6, 7, 8, 9,10, 30\n",
    "- n_estimators = 5, 25, 50"
   ]
  },
  {
   "cell_type": "code",
   "execution_count": null,
   "metadata": {
    "colab": {},
    "colab_type": "code",
    "id": "uJ3O1nbwM01v"
   },
   "outputs": [],
   "source": [
    "LGBM_params = {'max_depth' : [2,3,4,5,6,7,8,9,10, 30],\n",
    "                'n_estimators': [5, 25, 50]}\n",
    "lgbm=LGBMClassifier(random_state=1)"
   ]
  },
  {
   "cell_type": "code",
   "execution_count": null,
   "metadata": {
    "colab": {
     "base_uri": "https://localhost:8080/",
     "height": 187
    },
    "colab_type": "code",
    "executionInfo": {
     "elapsed": 9320,
     "status": "ok",
     "timestamp": 1544660277376,
     "user": {
      "displayName": "Robbert Struyven",
      "photoUrl": "https://lh5.googleusercontent.com/-6QIbKl4FwZI/AAAAAAAAAAI/AAAAAAAAAAc/MZzIFCOiLj8/s64/photo.jpg",
      "userId": "15638207437883965838"
     },
     "user_tz": 300
    },
    "id": "AYYcQ3TMO0V-",
    "outputId": "03b92ff5-40cf-40a1-981a-7969a4656251"
   },
   "outputs": [],
   "source": [
    "LGBM_AP,  LGBM_ROC,  LGBM_Prec,  LGBM_Recall,  LGBM_F1,  LGBM_Sens, LGBM_Spec, \\\n",
    "LGBM_Accuracy,  LGBM_best_predictions_all,  LGBM_test_all \\\n",
    "= CV_and_Parameter_Optimization(X_CV, y_CV, splits, lgbm, LGBM_params)"
   ]
  },
  {
   "cell_type": "code",
   "execution_count": null,
   "metadata": {
    "colab": {
     "base_uri": "https://localhost:8080/",
     "height": 351
    },
    "colab_type": "code",
    "executionInfo": {
     "elapsed": 9132,
     "status": "ok",
     "timestamp": 1544660277377,
     "user": {
      "displayName": "Robbert Struyven",
      "photoUrl": "https://lh5.googleusercontent.com/-6QIbKl4FwZI/AAAAAAAAAAI/AAAAAAAAAAc/MZzIFCOiLj8/s64/photo.jpg",
      "userId": "15638207437883965838"
     },
     "user_tz": 300
    },
    "id": "Kl0YkzQfO0Tb",
    "outputId": "c725a48e-0cab-4c0a-ab0d-4a5ee2652a0e"
   },
   "outputs": [],
   "source": [
    "d['8 LGBM_mu'] = [LGBM_AP.mean(),  LGBM_ROC.mean(),  LGBM_Prec.mean(),  LGBM_Recall.mean(),  LGBM_F1.mean(),  LGBM_Sens.mean(), LGBM_Spec.mean(), LGBM_Accuracy.mean()]\n",
    "d['8 LGBM_std'] = [LGBM_AP.std(),  LGBM_ROC.std(),  LGBM_Prec.std(),  LGBM_Recall.std(),  LGBM_F1.std(),  LGBM_Sens.std(), LGBM_Spec.std(), LGBM_Accuracy.std()]\n",
    "df = pd.DataFrame(data=d, index=Names)\n",
    "df.round(2)"
   ]
  },
  {
   "cell_type": "markdown",
   "metadata": {
    "colab_type": "text",
    "id": "fsurO3gnrdbx"
   },
   "source": [
    "# 4 Results"
   ]
  },
  {
   "cell_type": "code",
   "execution_count": null,
   "metadata": {
    "colab": {
     "base_uri": "https://localhost:8080/",
     "height": 351
    },
    "colab_type": "code",
    "executionInfo": {
     "elapsed": 1271,
     "status": "ok",
     "timestamp": 1544660287987,
     "user": {
      "displayName": "Robbert Struyven",
      "photoUrl": "https://lh5.googleusercontent.com/-6QIbKl4FwZI/AAAAAAAAAAI/AAAAAAAAAAc/MZzIFCOiLj8/s64/photo.jpg",
      "userId": "15638207437883965838"
     },
     "user_tz": 300
    },
    "id": "Npcnp6JPfgJP",
    "outputId": "a98b9132-10ee-421b-e004-70a71571b191"
   },
   "outputs": [],
   "source": [
    "df.round(2)"
   ]
  },
  {
   "cell_type": "markdown",
   "metadata": {
    "colab": {
     "base_uri": "https://localhost:8080/",
     "height": 456
    },
    "colab_type": "code",
    "executionInfo": {
     "elapsed": 1090,
     "status": "ok",
     "timestamp": 1544660401739,
     "user": {
      "displayName": "Robbert Struyven",
      "photoUrl": "https://lh5.googleusercontent.com/-6QIbKl4FwZI/AAAAAAAAAAI/AAAAAAAAAAc/MZzIFCOiLj8/s64/photo.jpg",
      "userId": "15638207437883965838"
     },
     "user_tz": 300
    },
    "id": "Y8ZivrVObd6Y",
    "outputId": "8b34ea5c-6727-4a7a-a9c9-fdc1c177f013"
   },
   "source": [
    "#### Plot of the AUROC curve for all the classifiers"
   ]
  },
  {
   "cell_type": "code",
   "execution_count": null,
   "metadata": {
    "colab": {
     "base_uri": "https://localhost:8080/",
     "height": 456
    },
    "colab_type": "code",
    "executionInfo": {
     "elapsed": 1090,
     "status": "ok",
     "timestamp": 1544660401739,
     "user": {
      "displayName": "Robbert Struyven",
      "photoUrl": "https://lh5.googleusercontent.com/-6QIbKl4FwZI/AAAAAAAAAAI/AAAAAAAAAAc/MZzIFCOiLj8/s64/photo.jpg",
      "userId": "15638207437883965838"
     },
     "user_tz": 300
    },
    "id": "Y8ZivrVObd6Y",
    "outputId": "8b34ea5c-6727-4a7a-a9c9-fdc1c177f013"
   },
   "outputs": [],
   "source": [
    "tableau20 = [ (188, 189, 34), (127, 127, 127),(255, 127, 14),(44, 160, 44),(214, 39, 40),  (148, 103, 189), \n",
    "             (31, 119, 180), (23, 190, 207), (158, 218, 229), (174, 199, 232), (247, 182, 210), \n",
    "             (127, 127, 127), (199, 199, 199), (219, 219, 141), (23, 190, 207), (158, 218, 229)] \n",
    "\n",
    "# Scale the RGB values to the [0, 1] range, which is the format matplotlib accepts.    \n",
    "for i in range(len(tableau20)):    \n",
    "    r, g, b = tableau20[i]    \n",
    "    tableau20[i] = (r / 255., g / 255., b / 255.)    \n",
    "\n",
    "ax = plt.subplot(111)\n",
    "ax.set_prop_cycle('color', tableau20)\n",
    "plot.tick_params(axis='both', which='major', labelsize=9)\n",
    "lw = 1.3\n",
    "plt.plot([0, 1], [0, 1], lw=lw, color='black', alpha=0.15, label='Random Guess')\n",
    "\n",
    "# Compute ROC curve and ROC area for each class\n",
    "ll= [ [LOGI_test_all, LOGI_best_predictions_all],\n",
    "     [KNN_test_all,KNN_best_predictions_all],\n",
    "     [TREE_test_all,TREE_best_predictions_all],\n",
    "     [RF_test_all,RF_best_predictions_all],\n",
    "     [BOOST_test_all,BOOST_best_predictions_all],\n",
    "     [XGB2_test_all,XGB2_best_predictions_all],\n",
    "     [MLP_test_all,MLP_best_predictions_all],\n",
    "     [LGBM_test_all,LGBM_best_predictions_all]]\n",
    "names=['LOGI', 'KNN', 'TREE',  'RF',  'BOOST',  'XGB2',  'MLP',  'LGBM']\n",
    "for i,l in enumerate(ll):\n",
    "  fpr = dict; tpr = dict; roc_auc = dict;\n",
    "  fpr, tpr, _ = roc_curve(l[0][:], l[1][:]) # Calculating false positive rate and false negative rate\n",
    "  roc_auc = auc(fpr, tpr)\n",
    "  plt.plot(fpr, tpr, lw=lw, label=names[i]+' ROC  (area = %0.2f)' % roc_auc)\n",
    "\n",
    "plt.xlim([0.0, 1.0])\n",
    "plt.ylim([0.0, 1.0])\n",
    "plt.xlabel('False Positive Rate', fontsize=10)\n",
    "plt.ylabel('True Positive Rate',fontsize=10)\n",
    "plt.title('Receiver operating characteristic Curve', fontsize=12)\n",
    "plt.legend(loc=\"lower right\", fontsize=9)\n",
    "plt.show()"
   ]
  },
  {
   "cell_type": "markdown",
   "metadata": {},
   "source": [
    "#### Plot of the Precision-Recall curve for all the classifiers"
   ]
  },
  {
   "cell_type": "code",
   "execution_count": null,
   "metadata": {
    "colab": {
     "base_uri": "https://localhost:8080/",
     "height": 491
    },
    "colab_type": "code",
    "executionInfo": {
     "elapsed": 1638,
     "status": "ok",
     "timestamp": 1544660390333,
     "user": {
      "displayName": "Robbert Struyven",
      "photoUrl": "https://lh5.googleusercontent.com/-6QIbKl4FwZI/AAAAAAAAAAI/AAAAAAAAAAc/MZzIFCOiLj8/s64/photo.jpg",
      "userId": "15638207437883965838"
     },
     "user_tz": 300
    },
    "id": "1Pjy3I1wY0so",
    "outputId": "8060df86-dc47-44ed-e2f7-e3a6678825d7"
   },
   "outputs": [],
   "source": [
    "ax = plt.subplot(111)\n",
    "ax.set_prop_cycle('color', tableau20)\n",
    "f_scores = np.linspace(0.1, 0.8, num=8)\n",
    "lines = []\n",
    "labels = []\n",
    "lw = 1.3\n",
    "\n",
    "for f_score in f_scores:\n",
    "    x = np.linspace(0.001, 1, num=100)\n",
    "    y = f_score * x / (2 * x - f_score)\n",
    "    l, = plt.plot(x[y >= 0], y[y >= 0], color='gray', alpha=0.15, lw=1)\n",
    "    plt.annotate('f1 = {0:0.1f}'.format(f_score), xy=(1.05, y[80] + 0.01), fontsize=9)\n",
    "\n",
    "# Compute ROC curve and ROC area for each class\n",
    "ll= [ [LOGI_test_all, LOGI_best_predictions_all],\n",
    "     [KNN_test_all,KNN_best_predictions_all],\n",
    "     [TREE_test_all,TREE_best_predictions_all],\n",
    "     [RF_test_all,RF_best_predictions_all],\n",
    "     [BOOST_test_all,BOOST_best_predictions_all],\n",
    "     [XGB2_test_all,XGB2_best_predictions_all],\n",
    "     [MLP_test_all,MLP_best_predictions_all],\n",
    "     [LGBM_test_all,LGBM_best_predictions_all],]\n",
    "\n",
    "names=['LOGI', 'KNN', 'TREE',  'RF',  'BOOST',  'XGB2',  'MLP',  'LGBM']\n",
    "for i,l in enumerate(ll):\n",
    "  precision = dict; recall = dict; average_precision = dict;\n",
    "  precision, recall, _ = precision_recall_curve(l[0][:], l[1][:]) \n",
    "  average_precision = average_precision_score(l[0][:], l[1][:])\n",
    "  plt.plot(precision, recall, lw=lw, label=names[i]+r' Average Precision  (APR = %0.2f)' % average_precision)\n",
    "\n",
    "plt.xlim([0.0, 1.0])\n",
    "plt.ylim([0.0, 1.0])\n",
    "plt.xlabel('Recall', fontsize=10)\n",
    "plt.ylabel('Precision',fontsize=10)\n",
    "plt.title('Precision-Recall Curve', fontsize=12)\n",
    "plt.legend(loc=\"lower left\", fontsize=9)\n",
    "plt.show()"
   ]
  },
  {
   "cell_type": "code",
   "execution_count": null,
   "metadata": {
    "colab": {
     "base_uri": "https://localhost:8080/",
     "height": 351
    },
    "colab_type": "code",
    "executionInfo": {
     "elapsed": 546,
     "status": "ok",
     "timestamp": 1544660406474,
     "user": {
      "displayName": "Robbert Struyven",
      "photoUrl": "https://lh5.googleusercontent.com/-6QIbKl4FwZI/AAAAAAAAAAI/AAAAAAAAAAc/MZzIFCOiLj8/s64/photo.jpg",
      "userId": "15638207437883965838"
     },
     "user_tz": 300
    },
    "id": "M8E1ilonox4e",
    "outputId": "054fc55d-eaf6-46e0-f2b2-9e8616e0ac7b"
   },
   "outputs": [],
   "source": [
    "df.loc['Accuracy'][0::2]"
   ]
  },
  {
   "cell_type": "code",
   "execution_count": null,
   "metadata": {
    "colab": {
     "base_uri": "https://localhost:8080/",
     "height": 297
    },
    "colab_type": "code",
    "executionInfo": {
     "elapsed": 659,
     "status": "ok",
     "timestamp": 1544660507552,
     "user": {
      "displayName": "Robbert Struyven",
      "photoUrl": "https://lh5.googleusercontent.com/-6QIbKl4FwZI/AAAAAAAAAAI/AAAAAAAAAAc/MZzIFCOiLj8/s64/photo.jpg",
      "userId": "15638207437883965838"
     },
     "user_tz": 300
    },
    "id": "ZyJ6WMJsqD1z",
    "outputId": "7c678d18-cad4-4383-a8b0-494fe5e73b9a"
   },
   "outputs": [],
   "source": [
    "names=['KNN', 'LOGI', 'TREE','RF','BOOST', 'XGB', 'MLP', 'LGBM']\n",
    "acc_mu=df.loc['Accuracy'][0::2].values\n",
    "acc_std=df.loc['Accuracy'][1::2].values\n",
    "dataframe = pd.DataFrame({'mu':acc_mu, 'std':acc_std}, index=names)\n",
    "dataframe"
   ]
  },
  {
   "cell_type": "code",
   "execution_count": null,
   "metadata": {
    "colab": {
     "base_uri": "https://localhost:8080/",
     "height": 401
    },
    "colab_type": "code",
    "executionInfo": {
     "elapsed": 1182,
     "status": "ok",
     "timestamp": 1544661354819,
     "user": {
      "displayName": "Robbert Struyven",
      "photoUrl": "https://lh5.googleusercontent.com/-6QIbKl4FwZI/AAAAAAAAAAI/AAAAAAAAAAc/MZzIFCOiLj8/s64/photo.jpg",
      "userId": "15638207437883965838"
     },
     "user_tz": 300
    },
    "id": "ABclxkAkqg1a",
    "outputId": "6f12cc88-3d46-4a6c-8874-88f361439e61"
   },
   "outputs": [],
   "source": [
    "fig, ax= plt.subplots(1,1, figsize=(8,5))\n",
    "sns.barplot(data=dataframe, x=dataframe.index.values, y=dataframe.mu, ax=ax, yerr=dataframe['std'].values)\n",
    "ax.set_ylim((0.60, 0.77))\n",
    "ax.set_title('Test Set Accuracy predicting Disease Progression (Normal Baseline to last visit MCI/AD)', fontsize=13.5)\n",
    "ax.set_ylabel('Accuracy (%) test set')\n",
    "ax.set_xlabel('Classifier')\n",
    "fig.tight_layout()"
   ]
  },
  {
   "cell_type": "code",
   "execution_count": null,
   "metadata": {},
   "outputs": [],
   "source": []
  }
 ],
 "metadata": {
  "accelerator": "GPU",
  "celltoolbar": "Edit Metadata",
  "colab": {
   "collapsed_sections": [],
   "name": "Robbert_v2.ipynb",
   "provenance": [
    {
     "file_id": "1SFJTvwSGvBVvkWmQd4NoDm51QERzaNo8",
     "timestamp": 1544600251665
    }
   ],
   "toc_visible": true,
   "version": "0.3.2"
  },
  "kernelspec": {
   "display_name": "Python 3",
   "language": "python",
   "name": "python3"
  },
  "language_info": {
   "codemirror_mode": {
    "name": "ipython",
    "version": 3
   },
   "file_extension": ".py",
   "mimetype": "text/x-python",
   "name": "python",
   "nbconvert_exporter": "python",
   "pygments_lexer": "ipython3",
   "version": "3.6.6"
  },
  "varInspector": {
   "cols": {
    "lenName": 16,
    "lenType": 16,
    "lenVar": 40
   },
   "kernels_config": {
    "python": {
     "delete_cmd_postfix": "",
     "delete_cmd_prefix": "del ",
     "library": "var_list.py",
     "varRefreshCmd": "print(var_dic_list())"
    },
    "r": {
     "delete_cmd_postfix": ") ",
     "delete_cmd_prefix": "rm(",
     "library": "var_list.r",
     "varRefreshCmd": "cat(var_dic_list()) "
    }
   },
   "types_to_exclude": [
    "module",
    "function",
    "builtin_function_or_method",
    "instance",
    "_Feature"
   ],
   "window_display": false
  }
 },
 "nbformat": 4,
 "nbformat_minor": 1
}
